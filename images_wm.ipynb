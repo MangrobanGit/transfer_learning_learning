{
 "cells": [
  {
   "cell_type": "markdown",
   "metadata": {
    "colab_type": "text",
    "id": "mt9dL5dIir8X"
   },
   "source": [
    "##### Copyright 2018 The TensorFlow Authors."
   ]
  },
  {
   "cell_type": "code",
   "execution_count": 1,
   "metadata": {
    "cellView": "form",
    "colab": {},
    "colab_type": "code",
    "id": "ufPx7EiCiqgR"
   },
   "outputs": [],
   "source": [
    "#@title Licensed under the Apache License, Version 2.0 (the \"License\");\n",
    "# you may not use this file except in compliance with the License.\n",
    "# You may obtain a copy of the License at\n",
    "#\n",
    "# https://www.apache.org/licenses/LICENSE-2.0\n",
    "#\n",
    "# Unless required by applicable law or agreed to in writing, software\n",
    "# distributed under the License is distributed on an \"AS IS\" BASIS,\n",
    "# WITHOUT WARRANTIES OR CONDITIONS OF ANY KIND, either express or implied.\n",
    "# See the License for the specific language governing permissions and\n",
    "# limitations under the License.\n"
   ]
  },
  {
   "cell_type": "markdown",
   "metadata": {
    "colab_type": "text",
    "deletable": true,
    "editable": true,
    "id": "ucMoYase6URl"
   },
   "source": [
    "# Load images with tf.data"
   ]
  },
  {
   "cell_type": "markdown",
   "metadata": {
    "colab_type": "text",
    "id": "_Wwu5SXZmEkB"
   },
   "source": [
    "<table class=\"tfo-notebook-buttons\" align=\"left\">\n",
    "  <td>\n",
    "    <a target=\"_blank\" href=\"https://www.tensorflow.org/tutorials/load_data/images\"><img src=\"https://www.tensorflow.org/images/tf_logo_32px.png\" />View on TensorFlow.org</a>\n",
    "  </td>\n",
    "  <td>\n",
    "    <a target=\"_blank\" href=\"https://colab.research.google.com/github/tensorflow/docs/blob/master/site/en/tutorials/load_data/images.ipynb\"><img src=\"https://www.tensorflow.org/images/colab_logo_32px.png\" />Run in Google Colab</a>\n",
    "  </td>\n",
    "  <td>\n",
    "    <a target=\"_blank\" href=\"https://github.com/tensorflow/docs/blob/master/site/en/tutorials/load_data/images.ipynb\"><img src=\"https://www.tensorflow.org/images/GitHub-Mark-32px.png\" />View source on GitHub</a>\n",
    "  </td>\n",
    "</table>"
   ]
  },
  {
   "cell_type": "markdown",
   "metadata": {
    "colab_type": "text",
    "id": "Oxw4WahM7DU9"
   },
   "source": [
    "This tutorial provides a simple example of how to load an image dataset using `tf.data`.\n",
    "\n",
    "The dataset used in this example is distributed as directories of images, with one class of image per directory."
   ]
  },
  {
   "cell_type": "markdown",
   "metadata": {
    "colab_type": "text",
    "deletable": true,
    "editable": true,
    "id": "hoQQiZDB6URn"
   },
   "source": [
    "## Setup"
   ]
  },
  {
   "cell_type": "markdown",
   "metadata": {},
   "source": [
    "!pip uninstall tensorflow"
   ]
  },
  {
   "cell_type": "code",
   "execution_count": 3,
   "metadata": {},
   "outputs": [
    {
     "name": "stdout",
     "output_type": "stream",
     "text": [
      "Collecting tensorflow==2.0.0-beta0\n",
      "  Using cached https://files.pythonhosted.org/packages/c7/ae/cb34a1b15b9e54b9dd2959f1744860f476832eabc6da6070085245792afe/tensorflow-2.0.0b0-cp36-cp36m-macosx_10_11_x86_64.whl\n",
      "Requirement already satisfied: gast>=0.2.0 in /anaconda3/envs/learn-env/lib/python3.6/site-packages (from tensorflow==2.0.0-beta0) (0.2.2)\n",
      "Requirement already satisfied: tb-nightly<1.14.0a20190604,>=1.14.0a20190603 in /anaconda3/envs/learn-env/lib/python3.6/site-packages (from tensorflow==2.0.0-beta0) (1.14.0a20190603)\n",
      "Requirement already satisfied: numpy<2.0,>=1.14.5 in /anaconda3/envs/learn-env/lib/python3.6/site-packages (from tensorflow==2.0.0-beta0) (1.16.2)\n",
      "Requirement already satisfied: six>=1.10.0 in /anaconda3/envs/learn-env/lib/python3.6/site-packages (from tensorflow==2.0.0-beta0) (1.11.0)\n",
      "Requirement already satisfied: grpcio>=1.8.6 in /anaconda3/envs/learn-env/lib/python3.6/site-packages (from tensorflow==2.0.0-beta0) (1.19.0)\n",
      "Requirement already satisfied: protobuf>=3.6.1 in /anaconda3/envs/learn-env/lib/python3.6/site-packages (from tensorflow==2.0.0-beta0) (3.7.1)\n",
      "Requirement already satisfied: keras-applications>=1.0.6 in /anaconda3/envs/learn-env/lib/python3.6/site-packages (from tensorflow==2.0.0-beta0) (1.0.8)\n",
      "Requirement already satisfied: astor>=0.6.0 in /anaconda3/envs/learn-env/lib/python3.6/site-packages (from tensorflow==2.0.0-beta0) (0.7.1)\n",
      "Requirement already satisfied: google-pasta>=0.1.6 in /anaconda3/envs/learn-env/lib/python3.6/site-packages (from tensorflow==2.0.0-beta0) (0.1.7)\n",
      "Requirement already satisfied: tf-estimator-nightly<1.14.0.dev2019060502,>=1.14.0.dev2019060501 in /anaconda3/envs/learn-env/lib/python3.6/site-packages (from tensorflow==2.0.0-beta0) (1.14.0.dev2019060501)\n",
      "Requirement already satisfied: wheel>=0.26 in /anaconda3/envs/learn-env/lib/python3.6/site-packages (from tensorflow==2.0.0-beta0) (0.31.1)\n",
      "Requirement already satisfied: wrapt>=1.11.1 in /anaconda3/envs/learn-env/lib/python3.6/site-packages (from tensorflow==2.0.0-beta0) (1.11.1)\n",
      "Requirement already satisfied: keras-preprocessing>=1.0.5 in /anaconda3/envs/learn-env/lib/python3.6/site-packages (from tensorflow==2.0.0-beta0) (1.1.0)\n",
      "Requirement already satisfied: termcolor>=1.1.0 in /anaconda3/envs/learn-env/lib/python3.6/site-packages (from tensorflow==2.0.0-beta0) (1.1.0)\n",
      "Requirement already satisfied: absl-py>=0.7.0 in /anaconda3/envs/learn-env/lib/python3.6/site-packages (from tensorflow==2.0.0-beta0) (0.7.1)\n",
      "Requirement already satisfied: markdown>=2.6.8 in /anaconda3/envs/learn-env/lib/python3.6/site-packages (from tb-nightly<1.14.0a20190604,>=1.14.0a20190603->tensorflow==2.0.0-beta0) (3.1)\n",
      "Requirement already satisfied: werkzeug>=0.11.15 in /anaconda3/envs/learn-env/lib/python3.6/site-packages (from tb-nightly<1.14.0a20190604,>=1.14.0a20190603->tensorflow==2.0.0-beta0) (0.15.1)\n",
      "Requirement already satisfied: setuptools>=41.0.0 in /anaconda3/envs/learn-env/lib/python3.6/site-packages (from tb-nightly<1.14.0a20190604,>=1.14.0a20190603->tensorflow==2.0.0-beta0) (41.0.1)\n",
      "Requirement already satisfied: h5py in /anaconda3/envs/learn-env/lib/python3.6/site-packages (from keras-applications>=1.0.6->tensorflow==2.0.0-beta0) (2.9.0)\n",
      "Installing collected packages: tensorflow\n",
      "Successfully installed tensorflow-2.0.0b0\n"
     ]
    }
   ],
   "source": [
    "!pip install tensorflow==2.0.0-beta0 "
   ]
  },
  {
   "cell_type": "code",
   "execution_count": 3,
   "metadata": {},
   "outputs": [],
   "source": [
    "#!pip install tfds-nightly"
   ]
  },
  {
   "cell_type": "code",
   "execution_count": 4,
   "metadata": {},
   "outputs": [],
   "source": [
    "#!pip install -q tf-nightly"
   ]
  },
  {
   "cell_type": "code",
   "execution_count": 5,
   "metadata": {
    "colab": {},
    "colab_type": "code",
    "id": "DHz3JONNEHlj"
   },
   "outputs": [],
   "source": [
    "from __future__ import absolute_import, division, print_function, unicode_literals"
   ]
  },
  {
   "cell_type": "code",
   "execution_count": 4,
   "metadata": {
    "colab": {},
    "colab_type": "code",
    "id": "DHz3JONNEHlj"
   },
   "outputs": [
    {
     "data": {
      "text/plain": [
       "'2.0.0-beta0'"
      ]
     },
     "execution_count": 4,
     "metadata": {},
     "output_type": "execute_result"
    }
   ],
   "source": [
    "import tensorflow as tf\n",
    "\n",
    "# tf.enable_eager_execution() #-Internet says it's on by default now\n",
    "tf.__version__"
   ]
  },
  {
   "cell_type": "code",
   "execution_count": 6,
   "metadata": {
    "colab": {},
    "colab_type": "code",
    "id": "KT6CcaqgQewg"
   },
   "outputs": [],
   "source": [
    "AUTOTUNE = tf.data.experimental.AUTOTUNE"
   ]
  },
  {
   "cell_type": "markdown",
   "metadata": {
    "colab_type": "text",
    "id": "rxndJHNC8YPM"
   },
   "source": [
    "## Download and inspect the dataset"
   ]
  },
  {
   "cell_type": "markdown",
   "metadata": {
    "colab_type": "text",
    "deletable": true,
    "editable": true,
    "id": "wO0InzL66URu"
   },
   "source": [
    "### Retrieve the images\n",
    "\n",
    "Before you start any training, you'll need a set of images to teach the network about the new classes you want to recognize. We've created an archive of creative-commons licensed flower photos to use initially."
   ]
  },
  {
   "cell_type": "code",
   "execution_count": 7,
   "metadata": {
    "colab": {},
    "colab_type": "code",
    "id": "rN-Pc6Zd6awg"
   },
   "outputs": [],
   "source": [
    "import pathlib\n",
    "data_root_orig = tf.keras.utils.get_file('flower_photos',\n",
    "                                         'https://storage.googleapis.com/download.tensorflow.org/example_images/flower_photos.tgz',\n",
    "                                         untar=True)"
   ]
  },
  {
   "cell_type": "code",
   "execution_count": 8,
   "metadata": {
    "colab": {},
    "colab_type": "code",
    "id": "rN-Pc6Zd6awg"
   },
   "outputs": [
    {
     "name": "stdout",
     "output_type": "stream",
     "text": [
      "/Users/werlindo/.keras/datasets/flower_photos\n"
     ]
    }
   ],
   "source": [
    "data_root = pathlib.Path(data_root_orig)\n",
    "print(data_root)"
   ]
  },
  {
   "cell_type": "markdown",
   "metadata": {},
   "source": [
    "<font color='teal'>⇧ Downloads tarred folder to predefined location</font>"
   ]
  },
  {
   "cell_type": "markdown",
   "metadata": {
    "colab_type": "text",
    "id": "rFkFK74oO--g"
   },
   "source": [
    "After downloading 218MB, you should now have a copy of the flower photos available:"
   ]
  },
  {
   "cell_type": "code",
   "execution_count": 9,
   "metadata": {
    "colab": {},
    "colab_type": "code",
    "id": "7onR_lWE7Njj"
   },
   "outputs": [
    {
     "name": "stdout",
     "output_type": "stream",
     "text": [
      "/Users/werlindo/.keras/datasets/flower_photos/roses\n",
      "/Users/werlindo/.keras/datasets/flower_photos/sunflowers\n",
      "/Users/werlindo/.keras/datasets/flower_photos/daisy\n",
      "/Users/werlindo/.keras/datasets/flower_photos/dandelion\n",
      "/Users/werlindo/.keras/datasets/flower_photos/tulips\n",
      "/Users/werlindo/.keras/datasets/flower_photos/LICENSE.txt\n"
     ]
    }
   ],
   "source": [
    "for item in data_root.iterdir():\n",
    "  print(item)"
   ]
  },
  {
   "cell_type": "markdown",
   "metadata": {},
   "source": [
    "<font color='teal'>⇧ Print out all the folder paths</font>"
   ]
  },
  {
   "cell_type": "code",
   "execution_count": 10,
   "metadata": {
    "colab": {},
    "colab_type": "code",
    "id": "4yYX3ZRqGOuq"
   },
   "outputs": [
    {
     "data": {
      "text/plain": [
       "3670"
      ]
     },
     "execution_count": 10,
     "metadata": {},
     "output_type": "execute_result"
    }
   ],
   "source": [
    "import random\n",
    "all_image_paths = list(data_root.glob('*/*'))\n",
    "all_image_paths = [str(path) for path in all_image_paths]\n",
    "random.shuffle(all_image_paths)\n",
    "\n",
    "image_count = len(all_image_paths)\n",
    "image_count"
   ]
  },
  {
   "cell_type": "code",
   "execution_count": 11,
   "metadata": {
    "colab": {},
    "colab_type": "code",
    "id": "t_BbYnLjbltQ"
   },
   "outputs": [
    {
     "data": {
      "text/plain": [
       "['/Users/werlindo/.keras/datasets/flower_photos/roses/8524505682_bda885af3a_n.jpg',\n",
       " '/Users/werlindo/.keras/datasets/flower_photos/sunflowers/5994586159_1dd99d66b4_n.jpg',\n",
       " '/Users/werlindo/.keras/datasets/flower_photos/tulips/8623173256_3f0eb4c506.jpg',\n",
       " '/Users/werlindo/.keras/datasets/flower_photos/sunflowers/7510285306_ba8f80c382_n.jpg',\n",
       " '/Users/werlindo/.keras/datasets/flower_photos/dandelion/11595255065_d9550012fc.jpg',\n",
       " '/Users/werlindo/.keras/datasets/flower_photos/dandelion/7148085703_b9e8bcd6ca_n.jpg',\n",
       " '/Users/werlindo/.keras/datasets/flower_photos/daisy/14088053307_1a13a0bf91_n.jpg',\n",
       " '/Users/werlindo/.keras/datasets/flower_photos/roses/16449467833_d82aac5749_m.jpg',\n",
       " '/Users/werlindo/.keras/datasets/flower_photos/dandelion/2497301920_91490c42c0.jpg',\n",
       " '/Users/werlindo/.keras/datasets/flower_photos/roses/9433167170_fa056d3175.jpg']"
      ]
     },
     "execution_count": 11,
     "metadata": {},
     "output_type": "execute_result"
    }
   ],
   "source": [
    "all_image_paths[:10]"
   ]
  },
  {
   "cell_type": "markdown",
   "metadata": {},
   "source": [
    "<font color='teal'>- ⇧ glob together all the folder paths  </font>  \n",
    "<font color='teal'>- ⇧ Then just get the paths as list of strings </font>  \n",
    "<font color='teal'>- ⇧ And then shuffle the list, just to see a variety </font>"
   ]
  },
  {
   "cell_type": "markdown",
   "metadata": {
    "colab_type": "text",
    "id": "vkM-IpB-6URx"
   },
   "source": [
    "### Inspect the images\n",
    "Now let's have a quick look at a couple of the images, so we know what we're dealing with:"
   ]
  },
  {
   "cell_type": "code",
   "execution_count": 12,
   "metadata": {
    "colab": {},
    "colab_type": "code",
    "id": "wNGateQJ6UR1"
   },
   "outputs": [],
   "source": [
    "import os\n",
    "attributions = (data_root/\"LICENSE.txt\").open(encoding='utf-8').readlines()[4:]\n",
    "attributions = [line.split(' CC-BY') for line in attributions]\n",
    "attributions = dict(attributions)"
   ]
  },
  {
   "cell_type": "code",
   "execution_count": 13,
   "metadata": {},
   "outputs": [
    {
     "data": {
      "text/plain": [
       "{'daisy/7568630428_8cf0fc16ff_n.jpg': ' by A Guy Taking Pictures - https://www.flickr.com/photos/80901381@N04/7568630428/\\n',\n",
       " 'daisy/7410356270_9dff4d0e2e_n.jpg': ' by martinak15 - https://www.flickr.com/photos/martinaphotography/7410356270/\\n',\n",
       " 'daisy/4286053334_a75541f20b_m.jpg': ' by jenny downing - https://www.flickr.com/photos/jenny-pics/4286053334/\\n',\n",
       " 'daisy/10770585085_4742b9dac3_n.jpg': ' by Thangaraj Kumaravel - https://www.flickr.com/photos/kumaravel/10770585085/\\n',\n",
       " 'daisy/8759177308_951790e00d_m.jpg': ' by Marina del Castell - https://www.flickr.com/photos/marinadelcastell/8759177308/\\n',\n",
       " 'daisy/4131565290_0585c4dd5a_n.jpg': ' by jenny downing - https://www.flickr.com/photos/jenny-pics/4131565290/\\n',\n",
       " 'daisy/3504430338_77d6a7fab4_n.jpg': ' by Dhilung Kirat - https://www.flickr.com/photos/dhilung/3504430338/\\n',\n",
       " 'daisy/3084924076_4d5c5711af_m.jpg': ' by Bùi Linh Ngân - https://www.flickr.com/photos/linhngan/3084924076/\\n',\n",
       " 'daisy/2642408410_61545fdc83_n.jpg': ' by Dennis Jarvis - https://www.flickr.com/photos/archer10/2642408410/\\n',\n",
       " 'daisy/8710109684_e2c5ef6aeb_n.jpg': ' by Jon Bunting - https://www.flickr.com/photos/84744710@N06/8710109684/\\n',\n",
       " 'daisy/2612704455_efce1c2144_m.jpg': ' by Swaminathan - https://www.flickr.com/photos/araswami/2612704455/\\n',\n",
       " 'daisy/8021540573_c56cf9070d_n.jpg': ' by martinak15 - https://www.flickr.com/photos/martinaphotography/8021540573/\\n',\n",
       " 'daisy/4413849849_b8d2f3bcf1_n.jpg': ' by Neal Fowler - https://www.flickr.com/photos/31878512@N06/4413849849/\\n',\n",
       " 'daisy/3999978867_c67c79597f_m.jpg': ' by jenny downing - https://www.flickr.com/photos/jenny-pics/3999978867/\\n',\n",
       " 'daisy/3703643767_dee82cdef9_n.jpg': ' by jenny downing - https://www.flickr.com/photos/jenny-pics/3703643767/\\n',\n",
       " 'daisy/16527403771_2391f137c4_n.jpg': ' by Ramón Portellano - https://www.flickr.com/photos/118276383@N05/16527403771/\\n',\n",
       " 'daisy/16020253176_60f2a6a5ca_n.jpg': ' by Ramón Portellano - https://www.flickr.com/photos/118276383@N05/16020253176/\\n',\n",
       " 'daisy/16482676953_5296227d40_n.jpg': ' by Swallowtail Garden Seeds - https://www.flickr.com/photos/swallowtailgardenseeds/16482676953/\\n',\n",
       " 'daisy/14264136211_9531fbc144.jpg': ' by Hernán Piñera - https://www.flickr.com/photos/hernanpc/14264136211/\\n',\n",
       " 'daisy/12348343085_d4c396e5b5_m.jpg': ' by Chrismatos ♥90% OFF, sorry - https://www.flickr.com/photos/chrismatos/12348343085/\\n',\n",
       " 'daisy/11891885265_ccefec7284_n.jpg': ' by Hernán Piñera - https://www.flickr.com/photos/hernanpc/11891885265/\\n',\n",
       " 'daisy/11870378973_2ec1919f12.jpg': ' by Marilena Marchese - https://www.flickr.com/photos/marilenamarchese_photography/11870378973/\\n',\n",
       " 'daisy/9346508462_f0af3163f4.jpg': ' by Harry Thomas Photography - https://www.flickr.com/photos/waffles10/9346508462/\\n',\n",
       " 'daisy/6323721068_3d3394af6d_n.jpg': ' by Sergio Tudela Romero - https://www.flickr.com/photos/ectopsyche/6323721068/\\n',\n",
       " 'daisy/9244082319_b1f7e2d8b0_n.jpg': ' by Jérémy Lelièvre - https://www.flickr.com/photos/jrmllvr/9244082319/\\n',\n",
       " 'daisy/5561775629_a2b709b3a4_n.jpg': ' by jenny downing - https://www.flickr.com/photos/jenny-pics/5561775629/\\n',\n",
       " 'daisy/4683997791_56e7d3c03c_n.jpg': ' by Nana B Agyei - https://www.flickr.com/photos/nanagyei/4683997791/\\n',\n",
       " 'daisy/4581199679_867652c3f1_n.jpg': ' by Neal Fowler - https://www.flickr.com/photos/31878512@N06/4581199679/\\n',\n",
       " 'daisy/4540555191_3254dc4608_n.jpg': ' by Neal Fowler - https://www.flickr.com/photos/31878512@N06/4540555191/\\n',\n",
       " 'daisy/4407065098_ef25f1ccac_n.jpg': ' by Neal Fowler - https://www.flickr.com/photos/31878512@N06/4407065098/\\n',\n",
       " 'daisy/3957488431_52a447c0e8_m.jpg': ' by Tristan Martin - https://www.flickr.com/photos/mukumbura/3957488431/\\n',\n",
       " 'daisy/3699235066_fc09a02dfe_m.jpg': ' by Neal Fowler - https://www.flickr.com/photos/31878512@N06/3699235066/\\n',\n",
       " 'daisy/813445367_187ecf080a_n.jpg': ' by Michel Filion - https://www.flickr.com/photos/mike9alive/813445367/\\n',\n",
       " 'daisy/162362896_99c7d851c8_n.jpg': ' by Micky** - https://www.flickr.com/photos/emzee/162362896/\\n',\n",
       " 'daisy/8127252886_96558c23d1.jpg': ' by Johan Neven - https://www.flickr.com/photos/enneafive/8127252886/\\n',\n",
       " 'daisy/5679288570_b4c52e76d5.jpg': ' by Nana B Agyei - https://www.flickr.com/photos/nanagyei/5679288570/\\n',\n",
       " 'daisy/15760811380_4d686c892b_n.jpg': ' by Ramón Portellano - https://www.flickr.com/photos/118276383@N05/15760811380/\\n',\n",
       " 'daisy/15760153042_a2a90e9da5_m.jpg': ' by Mathias Erhart - https://www.flickr.com/photos/mathias-erhart/15760153042/\\n',\n",
       " 'daisy/5135131051_102d4878ca_n.jpg': ' by Moyan Brenn - https://www.flickr.com/photos/aigle_dore/5135131051/\\n',\n",
       " 'daisy/2551708158_1f10e81e11.jpg': ' by kim - https://www.flickr.com/photos/kimrose/2551708158/\\n',\n",
       " 'daisy/7669550908_bc5a11276f_n.jpg': ' by Nana B Agyei - https://www.flickr.com/photos/nanagyei/7669550908/\\n',\n",
       " 'daisy/5811226952_4650ed70ae_n.jpg': ' by jenny downing - https://www.flickr.com/photos/jenny-pics/5811226952/\\n',\n",
       " 'daisy/2482982436_a2145359e0_n.jpg': ' by Sabrina Campagna - https://www.flickr.com/photos/mar1lyn84/2482982436/\\n',\n",
       " 'daisy/3975010332_3209f9f447_m.jpg': ' by jenny downing - https://www.flickr.com/photos/jenny-pics/3975010332/\\n',\n",
       " 'daisy/3468498624_d082f99e98.jpg': ' by Lali Masriera - https://www.flickr.com/photos/visualpanic/3468498624/\\n',\n",
       " 'daisy/3627678863_557552c879_m.jpg': ' by jenny downing - https://www.flickr.com/photos/jenny-pics/3627678863/\\n',\n",
       " 'daisy/14564545365_1f1d267bf1_n.jpg': ' by anne arnould - https://www.flickr.com/photos/anne_arnould/14564545365/\\n',\n",
       " 'daisy/10712722853_5632165b04.jpg': ' by Jan Fidler - https://www.flickr.com/photos/hypotekyfidler/10712722853/\\n',\n",
       " 'daisy/22873310415_3a5674ec10_m.jpg': ' by maf04 - https://www.flickr.com/photos/maf04/22873310415/\\n',\n",
       " 'daisy/3533954656_79156c8473.jpg': ' by photophilde - https://www.flickr.com/photos/photophilde/3533954656/\\n',\n",
       " 'daisy/7191221492_610035de7c_m.jpg': ' by Nana B Agyei - https://www.flickr.com/photos/nanagyei/7191221492/\\n',\n",
       " 'daisy/3386988684_bc5a66005e.jpg': ' by John Morgan - https://www.flickr.com/photos/aidanmorgan/3386988684/\\n',\n",
       " 'daisy/2877860110_a842f8b14a_m.jpg': ' by Kathy Kimpel - https://www.flickr.com/photos/kkimpel/2877860110/\\n',\n",
       " 'daisy/506493250_e9ca42fe3d.jpg': ' by Audrey - https://www.flickr.com/photos/audreyjm529/506493250/\\n',\n",
       " 'daisy/18711159980_11d3bd5042.jpg': ' by Holly Victoria Norval - https://www.flickr.com/photos/hollystar47/18711159980/\\n',\n",
       " 'daisy/2838487505_6c3b48efa5_m.jpg': ' by jenny downing - https://www.flickr.com/photos/jenny-pics/2838487505/\\n',\n",
       " 'daisy/5869147563_66fb88119d.jpg': ' by Craig Pennington - https://www.flickr.com/photos/krow10/5869147563/\\n',\n",
       " 'daisy/15853110333_229c439e7f.jpg': ' by Enrico Strocchi - https://www.flickr.com/photos/strocchi/15853110333/\\n',\n",
       " 'daisy/2812442552_3eed5fb9f2_m.jpg': ' by Tony Fischer - https://www.flickr.com/photos/tonythemisfit/2812442552/\\n',\n",
       " 'daisy/2641979584_2b21c3fe29_m.jpg': ' by Sabrina Campagna - https://www.flickr.com/photos/mar1lyn84/2641979584/\\n',\n",
       " 'daisy/16492248512_61a57dfec1_m.jpg': ' by Ramón Portellano - https://www.flickr.com/photos/118276383@N05/16492248512/\\n',\n",
       " 'daisy/9242705328_eee8402a8d.jpg': ' by minniemouseaunt - https://www.flickr.com/photos/minniemouseaunt/9242705328/\\n',\n",
       " 'daisy/4563059851_45a9d21a75.jpg': ' by Thomas Abbs - https://www.flickr.com/photos/tabsinthe/4563059851/\\n',\n",
       " 'daisy/18203367608_07a04e98a4_n.jpg': ' by A_Peach - https://www.flickr.com/photos/a_peach/18203367608/\\n',\n",
       " 'daisy/9180706736_092d43088c.jpg': ' by Steve Wilson - over 7 million views Thanks !! - https://www.flickr.com/photos/pokerbrit/9180706736/\\n',\n",
       " 'daisy/2365428551_39f83f10bf_n.jpg': ' by Robert Parviainen - https://www.flickr.com/photos/rtv/2365428551/\\n',\n",
       " 'daisy/5626895440_97a0ec04c2_n.jpg': ' by Moyan Brenn - https://www.flickr.com/photos/aigle_dore/5626895440/\\n',\n",
       " 'daisy/2498632196_e47a472d5a.jpg': ' by Swaminathan - https://www.flickr.com/photos/araswami/2498632196/\\n',\n",
       " 'daisy/154332674_453cea64f4.jpg': ' by Serena - https://www.flickr.com/photos/zenera/154332674/\\n',\n",
       " 'daisy/3494265422_9dba8f2191_n.jpg': ' by Serena - https://www.flickr.com/photos/zenera/3494265422/\\n',\n",
       " 'daisy/2646438199_b309cffd65_n.jpg': ' by Sean McGrath - https://www.flickr.com/photos/mcgraths/2646438199/\\n',\n",
       " 'daisy/3900172983_9312fdf39c_n.jpg': ' by jenny downing - https://www.flickr.com/photos/jenny-pics/3900172983/\\n',\n",
       " 'daisy/15784493690_b1858cdb2b_n.jpg': ' by Swallowtail Garden Seeds - https://www.flickr.com/photos/swallowtailgardenseeds/15784493690/\\n',\n",
       " 'daisy/14399435971_ea5868c792.jpg': ' by Susanne Nilsson - https://www.flickr.com/photos/infomastern/14399435971/\\n',\n",
       " 'daisy/253426762_9793d43fcd.jpg': ' by Alexandre Duret-Lutz - https://www.flickr.com/photos/gadl/253426762/\\n',\n",
       " 'daisy/14569895116_32f0dcb0f9.jpg': ' by Susanne Nilsson - https://www.flickr.com/photos/infomastern/14569895116/\\n',\n",
       " 'daisy/676120388_28f03069c3.jpg': ' by Christine Majul - https://www.flickr.com/photos/kitkaphotogirl/676120388/\\n',\n",
       " 'daisy/14716799982_ed6d626a66.jpg': ' by Susanne Nilsson - https://www.flickr.com/photos/infomastern/14716799982/\\n',\n",
       " 'daisy/16737503507_431768a927.jpg': ' by Mariya Prokopyuk - https://www.flickr.com/photos/mariyaprokopyuk/16737503507/\\n',\n",
       " 'daisy/5608389827_a42a46f760.jpg': ' by ruben alexander - https://www.flickr.com/photos/the-wanderers-eye/5608389827/\\n',\n",
       " 'daisy/459931395_24bf6531fe_n.jpg': ' by sophie & cie - https://www.flickr.com/photos/biscotte/459931395/\\n',\n",
       " 'daisy/16161045294_70c76ce846_n.jpg': ' by stanze - https://www.flickr.com/photos/stanzebla/16161045294/\\n',\n",
       " 'daisy/18195689904_46619b7e16_n.jpg': ' by Anantha V - https://www.flickr.com/photos/anantnv/18195689904/\\n',\n",
       " 'daisy/2641151167_3bf1349606_m.jpg': ' by Sabrina Campagna - https://www.flickr.com/photos/mar1lyn84/2641151167/\\n',\n",
       " 'daisy/483886997_27ee798327.jpg': ' by Meena Kadri - https://www.flickr.com/photos/meanestindian/483886997/\\n',\n",
       " 'daisy/4565255237_9ba29c4d4e_n.jpg': ' by Felipe Gabaldón - https://www.flickr.com/photos/felipe_gabaldon/4565255237/\\n',\n",
       " 'daisy/14591326135_930703dbed_m.jpg': ' by swong95765 - https://www.flickr.com/photos/29487672@N07/14591326135/\\n',\n",
       " 'daisy/5794839_200acd910c_n.jpg': ' by John D. - https://www.flickr.com/photos/macrophile/5794839/\\n',\n",
       " 'daisy/1031799732_e7f4008c03.jpg': ' by Audrey - https://www.flickr.com/photos/audreyjm529/1031799732/\\n',\n",
       " 'daisy/14554906452_35f066ffe9_n.jpg': ' by SurFeRGiRL30 - https://www.flickr.com/photos/surfergirl30/14554906452/\\n',\n",
       " 'daisy/3506866918_61dd5fc53b_n.jpg': ' by John Morgan - https://www.flickr.com/photos/aidanmorgan/3506866918/\\n',\n",
       " 'daisy/18442919723_d1251d3e14_n.jpg': ' by stanze - https://www.flickr.com/photos/stanzebla/18442919723/\\n',\n",
       " 'daisy/18635898912_eb8e058ef0.jpg': ' by Darling Starlings Flying the Nest - https://www.flickr.com/photos/magicattic88/18635898912/\\n',\n",
       " 'daisy/3326037909_b5ae370722_n.jpg': ' by Luke Andrew Scowen - https://www.flickr.com/photos/lukeas09/3326037909/\\n',\n",
       " 'daisy/17249393016_093e915012_n.jpg': ' by Enrico Strocchi - https://www.flickr.com/photos/strocchi/17249393016/\\n',\n",
       " 'daisy/13491959645_2cd9df44d6_n.jpg': ' by Gabriela Fab - https://www.flickr.com/photos/59882593@N05/13491959645/\\n',\n",
       " 'daisy/2581171297_b0a249b92b_n.jpg': ' by Paul Stevenson - https://www.flickr.com/photos/pss/2581171297/\\n',\n",
       " 'daisy/105806915_a9c13e2106_n.jpg': ' by Paul Reynolds - https://www.flickr.com/photos/bigtallguy/105806915/\\n',\n",
       " 'daisy/3463313493_9497aa47e5_n.jpg': ' by Cristina L. F. - https://www.flickr.com/photos/xanetia/3463313493/\\n',\n",
       " 'daisy/11642632_1e7627a2cc.jpg': ' by Nick Coombe - https://www.flickr.com/photos/thearchive/11642632/\\n',\n",
       " 'daisy/12891819633_e4c82b51e8.jpg': ' by Pavlina Jane - https://www.flickr.com/photos/pavlinajane/12891819633/\\n',\n",
       " 'daisy/8706810197_17b6c1f1e7.jpg': ' by Markus Grossalber - https://www.flickr.com/photos/tschiae/8706810197/\\n',\n",
       " 'daisy/2539552964_921cf645ba_n.jpg': ' by Evonne - https://www.flickr.com/photos/evoo73/2539552964/\\n',\n",
       " 'daisy/2561352120_7961d8263f.jpg': ' by jenny downing - https://www.flickr.com/photos/jenny-pics/2561352120/\\n',\n",
       " 'daisy/162362897_1d21b70621_m.jpg': ' by Micky** - https://www.flickr.com/photos/emzee/162362897/\\n',\n",
       " 'daisy/10559679065_50d2b16f6d.jpg': ' by Susanne Nilsson - https://www.flickr.com/photos/infomastern/10559679065/\\n',\n",
       " 'daisy/8616684075_71923bb771_n.jpg': ' by jacinta lluch valero - https://www.flickr.com/photos/70626035@N00/8616684075/\\n',\n",
       " 'daisy/20329326505_a777c71cc2.jpg': \" by robin_ottawa (I'm on the phone!) - https://www.flickr.com/photos/91030602@N06/20329326505/\\n\",\n",
       " 'daisy/147068564_32bb4350cc.jpg': ' by _Zeta_ - https://www.flickr.com/photos/beppezizzi/147068564/\\n',\n",
       " 'daisy/9158041313_7a6a102f7a_n.jpg': ' by Loren Kerns - https://www.flickr.com/photos/lorenkerns/9158041313/\\n',\n",
       " 'daisy/13953307149_f8de6a768c_m.jpg': ' by Calvin Smith - https://www.flickr.com/photos/calvinsmith/13953307149/\\n',\n",
       " 'daisy/14021430525_e06baf93a9.jpg': ' by Juanedc - https://www.flickr.com/photos/juanedc/14021430525/\\n',\n",
       " 'daisy/5700781400_65761f3fce.jpg': ' by Tom Bech - https://www.flickr.com/photos/viatorius/5700781400/\\n',\n",
       " 'daisy/8619103877_d8c82c5f34_n.jpg': ' by John Flannery - https://www.flickr.com/photos/drphotomoto/8619103877/\\n',\n",
       " 'daisy/3337536080_1db19964fe.jpg': ' by Dennis Wong - https://www.flickr.com/photos/denniswong/3337536080/\\n',\n",
       " 'daisy/5547758_eea9edfd54_n.jpg': ' by John D. - https://www.flickr.com/photos/macrophile/5547758/\\n',\n",
       " 'daisy/19865728236_a62f8f445b_n.jpg': ' by A_Peach - https://www.flickr.com/photos/a_peach/19865728236/\\n',\n",
       " 'daisy/2573240560_ff7ffdd449.jpg': ' by Balaji Photography - 3,000,000 Views and Growing - https://www.flickr.com/photos/bbalaji/2573240560/\\n',\n",
       " 'daisy/21805938544_bf6bb0e4bc.jpg': ' by judy dean - https://www.flickr.com/photos/peterscherub/21805938544/\\n',\n",
       " 'daisy/14507818175_05219b051c_m.jpg': ' by Trevor King - https://www.flickr.com/photos/trevor-king/14507818175/\\n',\n",
       " 'daisy/7790614422_4557928ab9_n.jpg': ' by jacinta lluch valero - https://www.flickr.com/photos/70626035@N00/7790614422/\\n',\n",
       " 'daisy/2408024540_37f0be7cc0_n.jpg': ' by Sabrina Campagna - https://www.flickr.com/photos/mar1lyn84/2408024540/\\n',\n",
       " 'daisy/16819071290_471d99e166_m.jpg': ' by Evan Kilgore - https://www.flickr.com/photos/ejkimages/16819071290/\\n',\n",
       " 'daisy/512177035_70afc925c8.jpg': ' by Audrey - https://www.flickr.com/photos/audreyjm529/512177035/\\n',\n",
       " 'daisy/3628485766_4ff937954a_n.jpg': ' by jenny downing - https://www.flickr.com/photos/jenny-pics/3628485766/\\n',\n",
       " 'daisy/134372449_0f7166d96c_n.jpg': ' by sophie & cie - https://www.flickr.com/photos/biscotte/134372449/\\n',\n",
       " 'daisy/7633425046_8293e3d0e9_m.jpg': ' by torbakhopper - https://www.flickr.com/photos/gazeronly/7633425046/\\n',\n",
       " 'daisy/14707111433_cce08ee007.jpg': ' by Holly Zade - https://www.flickr.com/photos/hzader/14707111433/\\n',\n",
       " 'daisy/4561871220_47f420ca59_m.jpg': ' by Robert Snache - Spirithands.net - https://www.flickr.com/photos/rbs/4561871220/\\n',\n",
       " 'daisy/8696022686_1f8d62c5cb_m.jpg': ' by anne arnould - https://www.flickr.com/photos/anne_arnould/8696022686/\\n',\n",
       " 'daisy/3310644753_5607eb96a4_m.jpg': ' by MAMJODH - https://www.flickr.com/photos/mamjodh/3310644753/\\n',\n",
       " 'daisy/9529916092_de70623523_n.jpg': ' by jacinta lluch valero - https://www.flickr.com/photos/70626035@N00/9529916092/\\n',\n",
       " 'daisy/4724713781_d169f98a35.jpg': ' by Matt Clark - https://www.flickr.com/photos/jointhedots/4724713781/\\n',\n",
       " 'daisy/413815348_764ae83088.jpg': ' by Christine Majul - https://www.flickr.com/photos/kitkaphotogirl/413815348/\\n',\n",
       " 'daisy/9286947622_4822f4fc21.jpg': ' by Pavlina Jane - https://www.flickr.com/photos/pavlinajane/9286947622/\\n',\n",
       " 'daisy/22244161124_53e457bb66_n.jpg': ' by judy dean - https://www.flickr.com/photos/peterscherub/22244161124/\\n',\n",
       " 'daisy/435283392_72e4c5b5d6_m.jpg': ' by Alexander Boden - https://www.flickr.com/photos/bogenfreund/435283392/\\n',\n",
       " 'daisy/13826249325_f61cb15f86_n.jpg': ' by Sandra - https://www.flickr.com/photos/sandrasworld/13826249325/\\n',\n",
       " 'daisy/4897587985_f9293ea1ed.jpg': ' by Luke Gray - https://www.flickr.com/photos/lukewes/4897587985/\\n',\n",
       " 'daisy/14471433500_cdaa22e3ea_m.jpg': ' by Mark Engelbrecht - https://www.flickr.com/photos/menegue/14471433500/\\n',\n",
       " 'daisy/705422469_ffa28c566d.jpg': ' by Audrey - https://www.flickr.com/photos/audreyjm529/705422469/\\n',\n",
       " 'daisy/3337643329_accc9b5426.jpg': ' by Jarmel - https://www.flickr.com/photos/jamalarmel/3337643329/\\n',\n",
       " 'daisy/14674743211_f68b13f6d9.jpg': ' by 2benny - https://www.flickr.com/photos/benedettobuono/14674743211/\\n',\n",
       " 'daisy/20182559506_40a112f762.jpg': ' by René Oosterveen - https://www.flickr.com/photos/missilehugger/20182559506/\\n',\n",
       " 'daisy/8694909523_3ca25d449d_n.jpg': ' by anne arnould - https://www.flickr.com/photos/anne_arnould/8694909523/\\n',\n",
       " 'daisy/19280272025_57de24e940_m.jpg': ' by Lyndsay Esson - https://www.flickr.com/photos/98198789@N02/19280272025/\\n',\n",
       " 'daisy/3717746329_53f515c6a6_m.jpg': ' by photogramma1 - https://www.flickr.com/photos/photogramma1/3717746329/\\n',\n",
       " 'daisy/9054268881_19792c5203_n.jpg': ' by Zoltán Vörös - https://www.flickr.com/photos/94941635@N07/9054268881/\\n',\n",
       " 'daisy/433037739_6a030e5912.jpg': ' by MapHobbit - https://www.flickr.com/photos/trazomfreak/433037739/\\n',\n",
       " 'daisy/9595857626_979c45e5bf_n.jpg': ' by Se Re - https://www.flickr.com/photos/96310508@N06/9595857626/\\n',\n",
       " 'daisy/1355787476_32e9f2a30b.jpg': ' by Audrey - https://www.flickr.com/photos/audreyjm529/1355787476/\\n',\n",
       " 'daisy/5714327423_50af0cffe9.jpg': ' by Forest Wander - https://www.flickr.com/photos/forestwander-nature-pictures/5714327423/\\n',\n",
       " 'daisy/14088053307_1a13a0bf91_n.jpg': ' by DncnH - https://www.flickr.com/photos/duncanh1/14088053307/\\n',\n",
       " 'daisy/14087947408_9779257411_n.jpg': ' by DncnH - https://www.flickr.com/photos/duncanh1/14087947408/\\n',\n",
       " 'daisy/1314069875_da8dc023c6_m.jpg': ' by alfaneque - https://www.flickr.com/photos/76623287@N00/1314069875/\\n',\n",
       " 'daisy/20948886919_cac7844f34_n.jpg': ' by jimmcsweeney - https://www.flickr.com/photos/73118846@N04/20948886919/\\n',\n",
       " 'daisy/5981645737_29eceac291_m.jpg': ' by Alias 0591 - https://www.flickr.com/photos/renemensen/5981645737/\\n',\n",
       " 'daisy/5973491805_556bba93cc.jpg': ' by Catrin Austin - https://www.flickr.com/photos/catrinaustin/5973491805/\\n',\n",
       " 'daisy/169371301_d9b91a2a42.jpg': ' by Srinivasan G - https://www.flickr.com/photos/srinig/169371301/\\n',\n",
       " 'daisy/2351206867_084e57bd97.jpg': ' by Parée - https://www.flickr.com/photos/pareeerica/2351206867/\\n',\n",
       " 'daisy/2513618768_ff7c004796_m.jpg': ' by quapan - https://www.flickr.com/photos/hinkelstone/2513618768/\\n',\n",
       " 'daisy/5795159787_ebb51a5e75.jpg': ' by Jin Choi - https://www.flickr.com/photos/openuser/5795159787/\\n',\n",
       " 'daisy/2632216904_274aa17433.jpg': ' by Ian Muttoo - https://www.flickr.com/photos/imuttoo/2632216904/\\n',\n",
       " 'daisy/506348009_9ecff8b6ef.jpg': ' by Peter Pearson - https://www.flickr.com/photos/peterpearson/506348009/\\n',\n",
       " 'daisy/506018088_4f7a15a7c5_n.jpg': ' by Serena - https://www.flickr.com/photos/zenera/506018088/\\n',\n",
       " 'daisy/2567033807_8e918c53d8_n.jpg': ' by Tomi Tapio K - https://www.flickr.com/photos/tomitapio/2567033807/\\n',\n",
       " 'daisy/5673551_01d1ea993e_n.jpg': ' by Teo - https://www.flickr.com/photos/teo/5673551/\\n',\n",
       " 'daisy/16833748795_b681b2839f_n.jpg': ' by Dave Walker - https://www.flickr.com/photos/walkinfo/16833748795/\\n',\n",
       " 'daisy/15306268004_4680ba95e1.jpg': ' by Will - https://www.flickr.com/photos/bongonian/15306268004/\\n',\n",
       " 'daisy/1299501272_59d9da5510_n.jpg': ' by dion gillard - https://www.flickr.com/photos/diongillard/1299501272/\\n',\n",
       " 'daisy/20580471306_ab5a011b15_n.jpg': ' by Christine Majul - https://www.flickr.com/photos/kitkaphotogirl/20580471306/\\n',\n",
       " 'daisy/14613443462_d4ed356201.jpg': ' by Kai Lehmann [thank you for 530k views :-D] - https://www.flickr.com/photos/kailehmann/14613443462/\\n',\n",
       " 'daisy/7288989324_c25d9febbf.jpg': ' by AvidlyAbide - https://www.flickr.com/photos/avidlyabide/7288989324/\\n',\n",
       " 'daisy/754296579_30a9ae018c_n.jpg': ' by Ryan Poplin - https://www.flickr.com/photos/poplinre/754296579/\\n',\n",
       " 'daisy/1344985627_c3115e2d71_n.jpg': ' by dion gillard - https://www.flickr.com/photos/diongillard/1344985627/\\n',\n",
       " 'daisy/20703737132_179560d0fb.jpg': ' by Tom D - https://www.flickr.com/photos/113551735@N04/20703737132/\\n',\n",
       " 'daisy/9299302012_958c70564c_n.jpg': ' by Sheila Sund - https://www.flickr.com/photos/sheila_sund/9299302012/\\n',\n",
       " 'daisy/519880292_7a3a6c6b69.jpg': ' by Audrey - https://www.flickr.com/photos/audreyjm529/519880292/\\n',\n",
       " 'daisy/4278442064_a5a598524b_m.jpg': ' by John Morgan - https://www.flickr.com/photos/aidanmorgan/4278442064/\\n',\n",
       " 'daisy/8348621545_8f02b82662_n.jpg': ' by Thangaraj Kumaravel - https://www.flickr.com/photos/kumaravel/8348621545/\\n',\n",
       " 'daisy/5876455546_32049e5585.jpg': ' by Kris Mouser-Brown - https://www.flickr.com/photos/kris_mouser-brown/5876455546/\\n',\n",
       " 'daisy/4814515275_6e25a6c18f.jpg': ' by Liam Moloney - https://www.flickr.com/photos/tir_na_nog/4814515275/\\n',\n",
       " 'daisy/3611577717_f3a7a8c416_n.jpg': ' by Jerry - https://www.flickr.com/photos/way2go/3611577717/\\n',\n",
       " 'daisy/7629784968_b953501902_n.jpg': ' by Smile Always :-) - https://www.flickr.com/photos/subzeroconsciousness/7629784968/\\n',\n",
       " 'daisy/4281102584_c548a69b81_m.jpg': ' by John Morgan - https://www.flickr.com/photos/aidanmorgan/4281102584/\\n',\n",
       " 'daisy/3695826945_9f374e8a00_m.jpg': ' by Finding Josephine - https://www.flickr.com/photos/34233222@N05/3695826945/\\n',\n",
       " 'daisy/4432271543_01c56ca3a9.jpg': ' by Peter Heilmann - https://www.flickr.com/photos/peter_heilmann/4432271543/\\n',\n",
       " 'daisy/20289938802_e16fa9f23d.jpg': ' by Holly Victoria Norval - https://www.flickr.com/photos/hollystar47/20289938802/\\n',\n",
       " 'daisy/5014137563_d03eb0ed75_n.jpg': ' by Spencer Wright - https://www.flickr.com/photos/spencer77/5014137563/\\n',\n",
       " 'daisy/4276898893_609d11db8b.jpg': ' by el Buho nº30 - https://www.flickr.com/photos/buho30/4276898893/\\n',\n",
       " 'daisy/18582579815_4c6637e9ff_m.jpg': ' by Nicholas A. Tonelli - https://www.flickr.com/photos/nicholas_t/18582579815/\\n',\n",
       " 'daisy/488202750_c420cbce61.jpg': ' by Audrey - https://www.flickr.com/photos/audreyjm529/488202750/\\n',\n",
       " 'daisy/17027891179_3edc08f4f6.jpg': ' by Gido - https://www.flickr.com/photos/103499652@N04/17027891179/\\n',\n",
       " 'daisy/5722473541_ffac1ae67e_n.jpg': ' by Audrey - https://www.flickr.com/photos/audreyjm529/5722473541/\\n',\n",
       " 'daisy/4865691548_00319261b8.jpg': ' by Les Haines - https://www.flickr.com/photos/leshaines123/4865691548/\\n',\n",
       " 'daisy/3598615130_578ed30e5f.jpg': ' by Andrea - https://www.flickr.com/photos/spettacolopuro/3598615130/\\n',\n",
       " 'daisy/2901376034_cdb4bac26b_m.jpg': ' by Kyknoord - https://www.flickr.com/photos/kyknoord/2901376034/\\n',\n",
       " 'daisy/1354396826_2868631432_m.jpg': ' by Liam Moloney - https://www.flickr.com/photos/tir_na_nog/1354396826/\\n',\n",
       " 'daisy/20685027271_0e7306e7c1_n.jpg': ' by Warren Rachele - https://www.flickr.com/photos/wrachele/20685027271/\\n',\n",
       " 'daisy/4697206799_19dd2a3193_m.jpg': ' by Kate Ter Haar - https://www.flickr.com/photos/katerha/4697206799/\\n',\n",
       " 'daisy/3025866885_22fb0b61c6_n.jpg': ' by kim - https://www.flickr.com/photos/kimrose/3025866885/\\n',\n",
       " 'daisy/16291797949_a1b1b7c2bd_n.jpg': ' by Heather - https://www.flickr.com/photos/58754750@N08/16291797949/\\n',\n",
       " 'daisy/12193032636_b50ae7db35_n.jpg': ' by Kai Lehmann [thank you for 530k views :-D] - https://www.flickr.com/photos/kailehmann/12193032636/\\n',\n",
       " 'daisy/8887005939_b19e8305ee.jpg': ' by Luke Gray - https://www.flickr.com/photos/lukewes/8887005939/\\n',\n",
       " 'daisy/525271784_013ddccd1b_m.jpg': ' by Serena - https://www.flickr.com/photos/zenera/525271784/\\n',\n",
       " 'daisy/5574421625_61b1f49b3f_m.jpg': ' by OliBac - https://www.flickr.com/photos/olibac/5574421625/\\n',\n",
       " 'daisy/4613992315_143ccc2a10_m.jpg': ' by John Morgan - https://www.flickr.com/photos/aidanmorgan/4613992315/\\n',\n",
       " 'daisy/2509545845_99e79cb8a2_n.jpg': ' by Swaminathan - https://www.flickr.com/photos/araswami/2509545845/\\n',\n",
       " 'daisy/2001380507_19488ff96a_n.jpg': ' by Audrey - https://www.flickr.com/photos/audreyjm529/2001380507/\\n',\n",
       " 'daisy/3711892138_b8c953fdc1_z.jpg': \" by InAweofGod'sCreation - https://www.flickr.com/photos/nhoulihan/3711892138/\\n\",\n",
       " 'daisy/1392131677_116ec04751.jpg': ' by Audrey - https://www.flickr.com/photos/audreyjm529/1392131677/\\n',\n",
       " 'daisy/13583238844_573df2de8e_m.jpg': ' by Irene Grassi - https://www.flickr.com/photos/sun_sand_sea/13583238844/\\n',\n",
       " 'daisy/14333681205_a07c9f1752_m.jpg': ' by Jocelyn Kinghorn - https://www.flickr.com/photos/joceykinghorn/14333681205/\\n',\n",
       " 'daisy/13901930939_a7733c03f0_n.jpg': ' by Stiller Beobachter - https://www.flickr.com/photos/a-herzog/13901930939/\\n',\n",
       " 'daisy/799964360_7e07a227ea_n.jpg': ' by Ryan Poplin - https://www.flickr.com/photos/poplinre/799964360/\\n',\n",
       " 'daisy/2889325612_f2fc403ff0_m.jpg': ' by Stephanie - https://www.flickr.com/photos/simply_steff/2889325612/\\n',\n",
       " 'daisy/3637428148_a1dcccafa9_n.jpg': \" by InAweofGod'sCreation - https://www.flickr.com/photos/nhoulihan/3637428148/\\n\",\n",
       " 'daisy/4820415253_15bc3b6833_n.jpg': ' by Vincent_AF - https://www.flickr.com/photos/archetypefotografie/4820415253/\\n',\n",
       " 'daisy/4333085242_bbeb3e2841_m.jpg': ' by James Russell - https://www.flickr.com/photos/theholyllama/4333085242/\\n',\n",
       " 'daisy/2617111535_54c2ac8462.jpg': ' by John Haslam - https://www.flickr.com/photos/foxypar4/2617111535/\\n',\n",
       " 'daisy/5883162120_dc7274af76_n.jpg': ' by Michael Gil - https://www.flickr.com/photos/msvg/5883162120/\\n',\n",
       " 'daisy/14073784469_ffb12f3387_n.jpg': ' by Bridget Leyendecker - https://www.flickr.com/photos/b_leyende/14073784469/\\n',\n",
       " 'daisy/3773181799_5def396456.jpg': ' by betancourt - https://www.flickr.com/photos/thebetancourts/3773181799/\\n',\n",
       " 'daisy/9515186037_3be48fe68f.jpg': ' by Hoffnungsschimmer - https://www.flickr.com/photos/hoffnungsschimmer/9515186037/\\n',\n",
       " 'daisy/8983779970_9d3a6a3bf2_n.jpg': ' by Rachel Kramer - https://www.flickr.com/photos/rkramer62/8983779970/\\n',\n",
       " 'daisy/19544831049_0d738d4872_m.jpg': ' by Paul VanDerWerf - https://www.flickr.com/photos/pavdw/19544831049/\\n',\n",
       " 'daisy/8742143296_fed9fa007c.jpg': ' by Vicente Villamón - https://www.flickr.com/photos/villamon/8742143296/\\n',\n",
       " 'daisy/4065883015_4bb6010cb7_n.jpg': ' by Rachel Kramer - https://www.flickr.com/photos/rkramer62/4065883015/\\n',\n",
       " 'daisy/9489270024_1b05f08492_m.jpg': ' by Sheila Sund - https://www.flickr.com/photos/sheila_sund/9489270024/\\n',\n",
       " 'daisy/9593034725_0062f0d24e_n.jpg': ' by Se Re - https://www.flickr.com/photos/96310508@N06/9593034725/\\n',\n",
       " 'daisy/8071646795_2fdc89ab7a_n.jpg': ' by Alias 0591 - https://www.flickr.com/photos/renemensen/8071646795/\\n',\n",
       " 'daisy/2488902131_3417698611_n.jpg': ' by Audrey - https://www.flickr.com/photos/audreyjm529/2488902131/\\n',\n",
       " 'daisy/9611923744_013b29e4da_n.jpg': ' by Se Re - https://www.flickr.com/photos/96310508@N06/9611923744/\\n',\n",
       " 'daisy/4434592930_6610d51fca_m.jpg': ' by John Morgan - https://www.flickr.com/photos/aidanmorgan/4434592930/\\n',\n",
       " 'daisy/3764116502_f394428ee0_n.jpg': \" by InAweofGod'sCreation - https://www.flickr.com/photos/nhoulihan/3764116502/\\n\",\n",
       " 'daisy/3445110406_0c1616d2e3_n.jpg': ' by GCSE Jack - https://www.flickr.com/photos/123photography2008/3445110406/\\n',\n",
       " 'daisy/3750250718_eb61146c5f.jpg': \" by InAweofGod'sCreation - https://www.flickr.com/photos/nhoulihan/3750250718/\\n\",\n",
       " 'daisy/520752848_4b87fb91a4.jpg': ' by Audrey - https://www.flickr.com/photos/audreyjm529/520752848/\\n',\n",
       " 'daisy/99306615_739eb94b9e_m.jpg': ' by sjoe - https://www.flickr.com/photos/sjoe/99306615/\\n',\n",
       " 'daisy/3275951182_d27921af97_n.jpg': ' by Swaminathan - https://www.flickr.com/photos/araswami/3275951182/\\n',\n",
       " 'daisy/2520369272_1dcdb5a892_m.jpg': ' by Swaminathan - https://www.flickr.com/photos/araswami/2520369272/\\n',\n",
       " 'daisy/1140299375_3aa7024466.jpg': ' by Sean McGrath - https://www.flickr.com/photos/mcgraths/1140299375/\\n',\n",
       " 'daisy/2213954589_c7da4b1486.jpg': ' by Ben Alford - https://www.flickr.com/photos/benalford/2213954589/\\n',\n",
       " 'daisy/15029936576_8d6f96c72c_n.jpg': ' by William Warby - https://www.flickr.com/photos/wwarby/15029936576/\\n',\n",
       " 'daisy/4861391074_c3e122dab0_m.jpg': ' by Lorraine# - https://www.flickr.com/photos/lorraineemmans/4861391074/\\n',\n",
       " 'daisy/14245834619_153624f836.jpg': ' by taymtaym - https://www.flickr.com/photos/taymtaym/14245834619/\\n',\n",
       " 'daisy/8489463746_a9839bf7e4.jpg': ' by Christopher Kray - https://www.flickr.com/photos/85208536@N02/8489463746/\\n',\n",
       " 'daisy/3098641292_76c908ba1f_n.jpg': ' by Geert Orye - https://www.flickr.com/photos/11741671@N03/3098641292/\\n',\n",
       " 'daisy/1374193928_a52320eafa.jpg': ' by Audrey - https://www.flickr.com/photos/audreyjm529/1374193928/\\n',\n",
       " 'daisy/144603918_b9de002f60_m.jpg': ' by Andreas. - https://www.flickr.com/photos/124330160/144603918/\\n',\n",
       " 'daisy/4654579740_6671a53627_m.jpg': ' by xlibber - https://www.flickr.com/photos/xlibber/4654579740/\\n',\n",
       " 'daisy/9350942387_5b1d043c26_n.jpg': ' by EMILIE RHAUPP - https://www.flickr.com/photos/emraps/9350942387/\\n',\n",
       " 'daisy/4694734757_5c563d38dd_n.jpg': ' by Sean McMenemy - https://www.flickr.com/photos/seanfx/4694734757/\\n',\n",
       " 'daisy/172882635_4cc7b86731_m.jpg': ' by Rosana Prada - https://www.flickr.com/photos/zanastardust/172882635/\\n',\n",
       " 'daisy/8882282142_9be2524d38_m.jpg': ' by Zoltán Vörös - https://www.flickr.com/photos/94941635@N07/8882282142/\\n',\n",
       " 'daisy/5623010186_796ca8d29a.jpg': ' by Luke Gray - https://www.flickr.com/photos/lukewes/5623010186/\\n',\n",
       " 'daisy/3704306975_75b74497d8.jpg': \" by InAweofGod'sCreation - https://www.flickr.com/photos/nhoulihan/3704306975/\\n\",\n",
       " 'daisy/14372713423_61e2daae88.jpg': ' by Mats Hagwall - https://www.flickr.com/photos/hagwall/14372713423/\\n',\n",
       " 'daisy/4993492878_11fd4f5d12.jpg': ' by syauqee mohamad - https://www.flickr.com/photos/syauqee/4993492878/\\n',\n",
       " 'daisy/1286274236_1d7ac84efb_n.jpg': ' by dion gillard - https://www.flickr.com/photos/diongillard/1286274236/\\n',\n",
       " 'daisy/5602738326_97121e007d_n.jpg': \" by Peter O'Connor aka anemoneprojectors - https://www.flickr.com/photos/anemoneprojectors/5602738326/\\n\",\n",
       " 'daisy/4668543441_79040ca329_n.jpg': ' by Rachel Kramer - https://www.flickr.com/photos/rkramer62/4668543441/\\n',\n",
       " 'daisy/19834392829_7d697871f6.jpg': ' by Stratosfeer - https://www.flickr.com/photos/stratosfeer/19834392829/\\n',\n",
       " 'daisy/14485782498_fb342ec301.jpg': ' by Kate Ter Haar - https://www.flickr.com/photos/katerha/14485782498/\\n',\n",
       " 'daisy/8063844363_db3f4dea85.jpg': ' by Alias 0591 - https://www.flickr.com/photos/renemensen/8063844363/\\n',\n",
       " 'daisy/5626784099_b36dd3fb11_n.jpg': ' by Catherine Singleton - https://www.flickr.com/photos/s1ng0/5626784099/\\n',\n",
       " 'daisy/2479956481_8d1a9699be_n.jpg': ' by Audrey - https://www.flickr.com/photos/audreyjm529/2479956481/\\n',\n",
       " 'daisy/7199968650_72afc16d31_m.jpg': ' by Barbara Eckstein - https://www.flickr.com/photos/beckstei/7199968650/\\n',\n",
       " 'daisy/2862944799_45bc8e7302.jpg': ' by Cliff - https://www.flickr.com/photos/nostri-imago/2862944799/\\n',\n",
       " 'daisy/10140303196_b88d3d6cec.jpg': ' by Irene Grassi - https://www.flickr.com/photos/sun_sand_sea/10140303196/\\n',\n",
       " 'daisy/9321854387_5f77c926cb_n.jpg': ' by Sharon Mollerus - https://www.flickr.com/photos/clairity/9321854387/\\n',\n",
       " 'daisy/5796562389_ae43c83317_m.jpg': ' by orestART - https://www.flickr.com/photos/orestart/5796562389/\\n',\n",
       " 'daisy/4301689054_20519e5b68.jpg': ' by Audrey - https://www.flickr.com/photos/audreyjm529/4301689054/\\n',\n",
       " 'daisy/302782756_d35cb3e468.jpg': ' by Audrey - https://www.flickr.com/photos/audreyjm529/302782756/\\n',\n",
       " 'daisy/153210866_03cc9f2f36.jpg': ' by Audrey - https://www.flickr.com/photos/audreyjm529/153210866/\\n',\n",
       " 'daisy/11439894966_dca877f0cd.jpg': ' by Jocelyn Kinghorn - https://www.flickr.com/photos/joceykinghorn/11439894966/\\n',\n",
       " 'daisy/6864242336_0d12713fe5_n.jpg': ' by torbakhopper - https://www.flickr.com/photos/gazeronly/6864242336/\\n',\n",
       " 'daisy/5948835387_5a98d39eff_m.jpg': ' by mikeyskatie - https://www.flickr.com/photos/mikeyskatie/5948835387/\\n',\n",
       " 'daisy/9204730092_a7f2182347.jpg': ' by William Wootton - https://www.flickr.com/photos/wwootton/9204730092/\\n',\n",
       " 'daisy/9496209717_25a6ebdab6_m.jpg': ' by khrawlings - https://www.flickr.com/photos/khrawlings/9496209717/\\n',\n",
       " 'daisy/5632774792_0fa33d17eb_n.jpg': ' by Martin de Witte - https://www.flickr.com/photos/martindew/5632774792/\\n',\n",
       " 'daisy/3711723108_65247a3170.jpg': ' by Jerry - https://www.flickr.com/photos/way2go/3711723108/\\n',\n",
       " 'daisy/14307766919_fac3c37a6b_m.jpg': ' by r. nial bradshaw - https://www.flickr.com/photos/zionfiction/14307766919/\\n',\n",
       " 'daisy/452854574_59492f119a_m.jpg': ' by Mathias Erhart - https://www.flickr.com/photos/mathias-erhart/452854574/\\n',\n",
       " 'daisy/4837182901_69a6cc782b_n.jpg': \" by Peter O'Connor aka anemoneprojectors - https://www.flickr.com/photos/anemoneprojectors/4837182901/\\n\",\n",
       " 'daisy/18901817451_43e2b45f6c.jpg': ' by Holly Victoria Norval - https://www.flickr.com/photos/hollystar47/18901817451/\\n',\n",
       " 'daisy/4534460263_8e9611db3c_n.jpg': ' by Paulo Valdivieso - https://www.flickr.com/photos/p_valdivieso/4534460263/\\n',\n",
       " 'daisy/517054463_036db655a1_m.jpg': ' by MapHobbit - https://www.flickr.com/photos/trazomfreak/517054463/\\n',\n",
       " 'daisy/144076848_57e1d662e3_m.jpg': ' by Paul Reynolds - https://www.flickr.com/photos/bigtallguy/144076848/\\n',\n",
       " 'daisy/3661613900_b15ca1d35d_m.jpg': \" by InAweofGod'sCreation - https://www.flickr.com/photos/nhoulihan/3661613900/\\n\",\n",
       " 'daisy/2621723097_736febb4a4_n.jpg': ' by Michael Gil - https://www.flickr.com/photos/msvg/2621723097/\\n',\n",
       " 'daisy/2087343668_ef4fb95787_n.jpg': ' by Audrey - https://www.flickr.com/photos/audreyjm529/2087343668/\\n',\n",
       " 'daisy/5110107234_12ddc0206b_m.jpg': ' by William Warby - https://www.flickr.com/photos/wwarby/5110107234/\\n',\n",
       " 'daisy/19653086178_28156b7ce4_m.jpg': ' by Holly Victoria Norval - https://www.flickr.com/photos/hollystar47/19653086178/\\n',\n",
       " 'daisy/5435521200_92029bbe2b_n.jpg': ' by Javcon117* - https://www.flickr.com/photos/javcon117/5435521200/\\n',\n",
       " 'daisy/54377391_15648e8d18.jpg': ' by Felipe Venâncio - https://www.flickr.com/photos/aeon/54377391/\\n',\n",
       " 'daisy/7749368884_1fc58c67ff_n.jpg': ' by AvidlyAbide - https://www.flickr.com/photos/avidlyabide/7749368884/\\n',\n",
       " 'daisy/476856232_7c35952f40_n.jpg': ' by sunshinecity - https://www.flickr.com/photos/sunshinecity/476856232/\\n',\n",
       " 'daisy/13977181862_f8237b6b52.jpg': ' by Mike Krüger - https://www.flickr.com/photos/memoryleakx/13977181862/\\n',\n",
       " 'daisy/8120563761_ed5620664f_m.jpg': ' by torbakhopper - https://www.flickr.com/photos/gazeronly/8120563761/\\n',\n",
       " 'daisy/4851353993_2cbbbd1040_n.jpg': ' by Michael Gil - https://www.flickr.com/photos/msvg/4851353993/\\n',\n",
       " 'daisy/4610018126_21f438d2dc_m.jpg': ' by Umberto Salvagnin - https://www.flickr.com/photos/kaibara/4610018126/\\n',\n",
       " 'daisy/2607132536_d95198e619_n.jpg': ' by Carmen Escobar Carrio - https://www.flickr.com/photos/caracolquiscol/2607132536/\\n',\n",
       " 'daisy/15207766_fc2f1d692c_n.jpg': ' by John D. - https://www.flickr.com/photos/macrophile/15207766/\\n',\n",
       " 'daisy/799952628_bf836677fa_n.jpg': ' by Ryan Poplin - https://www.flickr.com/photos/poplinre/799952628/\\n',\n",
       " 'daisy/14402451388_56545a374a_n.jpg': ' by Jamiecat * - https://www.flickr.com/photos/jamiecat/14402451388/\\n',\n",
       " 'daisy/8932490012_cc08e690ba_n.jpg': ' by TANAKA Juuyoh (田中十洋) - https://www.flickr.com/photos/tanaka_juuyoh/8932490012/\\n',\n",
       " 'daisy/4890424315_6a59696357_n.jpg': ' by Liam Moloney - https://www.flickr.com/photos/tir_na_nog/4890424315/\\n',\n",
       " 'daisy/534547364_3f6b7279d2_n.jpg': ' by Emily - https://www.flickr.com/photos/7738710@N06/534547364/\\n',\n",
       " 'daisy/14350958832_29bdd3a254.jpg': ' by Mats Hagwall - https://www.flickr.com/photos/hagwall/14350958832/\\n',\n",
       " 'daisy/9175280426_40ecc395b8_m.jpg': ' by Donnie Nunley - https://www.flickr.com/photos/dbnunley/9175280426/\\n',\n",
       " 'daisy/14332947164_9b13513c71_m.jpg': ' by Jocelyn Kinghorn - https://www.flickr.com/photos/joceykinghorn/14332947164/\\n',\n",
       " 'daisy/4544110929_a7de65d65f_n.jpg': ' by Ingrid Taylar - https://www.flickr.com/photos/taylar/4544110929/\\n',\n",
       " 'daisy/498159452_b71afd65ba.jpg': ' by Audrey - https://www.flickr.com/photos/audreyjm529/498159452/\\n',\n",
       " 'daisy/433837534_1dbf798b73.jpg': ' by daniel zimmel - https://www.flickr.com/photos/devnull/433837534/\\n',\n",
       " 'daisy/172967318_c596d082cc.jpg': ' by David Goehring - https://www.flickr.com/photos/carbonnyc/172967318/\\n',\n",
       " 'daisy/8964198962_6d8593b533.jpg': ' by Pete - https://www.flickr.com/photos/comedynose/8964198962/\\n',\n",
       " 'daisy/5512287917_9f5d3f0f98_n.jpg': ' by Vicente Villamón - https://www.flickr.com/photos/villamon/5512287917/\\n',\n",
       " 'daisy/4694730335_2553e77aa5_z.jpg': ' by Sean McMenemy - https://www.flickr.com/photos/seanfx/4694730335/\\n',\n",
       " 'daisy/18679421522_3be9879e32.jpg': ' by Michael Reilly - https://www.flickr.com/photos/mreillyphoto/18679421522/\\n',\n",
       " 'daisy/5577555349_2e8490259b.jpg': ' by Maribelle71 - https://www.flickr.com/photos/42912005@N07/5577555349/\\n',\n",
       " 'daisy/2511306240_9047015f2d_n.jpg': ' by Jon Bragg - https://www.flickr.com/photos/festivefrog/2511306240/\\n',\n",
       " 'daisy/517054467_d82d323c33_m.jpg': ' by MapHobbit - https://www.flickr.com/photos/trazomfreak/517054467/\\n',\n",
       " 'daisy/7924174040_444d5bbb8a.jpg': ' by godo godaj - https://www.flickr.com/photos/13832715@N05/7924174040/\\n',\n",
       " 'daisy/9146733107_98b15d3892_m.jpg': ' by Javcon117* - https://www.flickr.com/photos/javcon117/9146733107/\\n',\n",
       " 'daisy/3285641623_da0e47f49a.jpg': ' by Gilles Gonthier - https://www.flickr.com/photos/gillesgonthier/3285641623/\\n',\n",
       " 'daisy/2454280137_e1637536ae_n.jpg': ' by Gabriel - https://www.flickr.com/photos/cod_gabriel/2454280137/\\n',\n",
       " 'daisy/5434742166_35773eba57_m.jpg': ' by Sinead Friel - https://www.flickr.com/photos/sineadfriel/5434742166/\\n',\n",
       " 'daisy/175106495_53ebdef092_n.jpg': ' by Robert Meeks - https://www.flickr.com/photos/mahfrot/175106495/\\n',\n",
       " 'daisy/21402054779_759366efb0_n.jpg': ' by David Elliott - https://www.flickr.com/photos/drelliott0net/21402054779/\\n',\n",
       " 'daisy/15813862117_dedcd1c56f_m.jpg': ' by Eric.Ray - https://www.flickr.com/photos/12707238@N00/15813862117/\\n',\n",
       " 'daisy/14163875973_467224aaf5_m.jpg': ' by Margaux-Marguerite Duquesnoy - https://www.flickr.com/photos/124559226@N08/14163875973/\\n',\n",
       " 'daisy/9922116524_ab4a2533fe_n.jpg': ' by Kelly Sikkema - https://www.flickr.com/photos/95072945@N05/9922116524/\\n',\n",
       " 'daisy/3780380240_ef9ec1b737_m.jpg': ' by Ilena Gecan - https://www.flickr.com/photos/hach3/3780380240/\\n',\n",
       " 'daisy/10172567486_2748826a8b.jpg': ' by Sarah Zucca - https://www.flickr.com/photos/livetocreate_photography/10172567486/\\n',\n",
       " 'daisy/107592979_aaa9cdfe78_m.jpg': ' by liz west - https://www.flickr.com/photos/calliope/107592979/\\n',\n",
       " 'daisy/11834945233_a53b7a92ac_m.jpg': ' by Randen Pederson - https://www.flickr.com/photos/chefranden/11834945233/\\n',\n",
       " 'daisy/8709535323_a6bea3e43f.jpg': ' by Je suis Eli - https://www.flickr.com/photos/55578839@N04/8709535323/\\n',\n",
       " 'daisy/2627815904_919373e7f5.jpg': ' by Sharon Mollerus - https://www.flickr.com/photos/clairity/2627815904/\\n',\n",
       " 'daisy/530738000_4df7e4786b.jpg': ' by Jon Gos - https://www.flickr.com/photos/jongos/530738000/\\n',\n",
       " 'daisy/10841136265_af473efc60.jpg': ' by Pavlina Jane - https://www.flickr.com/photos/pavlinajane/10841136265/\\n',\n",
       " 'daisy/9467543719_c4800becbb_m.jpg': ' by Randen Pederson - https://www.flickr.com/photos/chefranden/9467543719/\\n',\n",
       " 'daisy/3440366251_5b9bdf27c9_m.jpg': ' by catlovers - https://www.flickr.com/photos/90389546@N00/3440366251/\\n',\n",
       " 'daisy/1342002397_9503c97b49.jpg': ' by Audrey - https://www.flickr.com/photos/audreyjm529/1342002397/\\n',\n",
       " 'daisy/102841525_bd6628ae3c.jpg': ' by Randen Pederson - https://www.flickr.com/photos/chefranden/102841525/\\n',\n",
       " 'daisy/16401288243_36112bd52f_m.jpg': ' by Thomas Kohler - https://www.flickr.com/photos/mecklenburg/16401288243/\\n',\n",
       " 'daisy/7630517248_98fb8bee1f_n.jpg': ' by William Wootton - https://www.flickr.com/photos/wwootton/7630517248/\\n',\n",
       " 'daisy/5809489674_5659b3ae5d_n.jpg': ' by Patrick Standish - https://www.flickr.com/photos/patrickstandish/5809489674/\\n',\n",
       " 'daisy/4482623536_b9fb5ae41f_n.jpg': ' by Yolanda - https://www.flickr.com/photos/fuzzyyol/4482623536/\\n',\n",
       " 'daisy/19178753159_a471bf4b6b.jpg': ' by Javcon117* - https://www.flickr.com/photos/javcon117/19178753159/\\n',\n",
       " 'daisy/19177263840_6a316ea639.jpg': ' by Javcon117* - https://www.flickr.com/photos/javcon117/19177263840/\\n',\n",
       " 'daisy/3704305945_a80e60e2f6_m.jpg': \" by InAweofGod'sCreation - https://www.flickr.com/photos/nhoulihan/3704305945/\\n\",\n",
       " 'daisy/2666572212_2caca8de9f_n.jpg': ' by Shayan (USA) - https://www.flickr.com/photos/ssanyal/2666572212/\\n',\n",
       " 'daisy/2599662355_7782218c83.jpg': ' by Rosana Prada - https://www.flickr.com/photos/zanastardust/2599662355/\\n',\n",
       " 'daisy/3758221664_b19116d61f.jpg': ' by Stephanie Kroos - https://www.flickr.com/photos/stephi2006/3758221664/\\n',\n",
       " 'daisy/3117644024_1cbb59a509_n.jpg': ' by John Flannery - https://www.flickr.com/photos/drphotomoto/3117644024/\\n',\n",
       " 'daisy/14866200659_6462c723cb_m.jpg': ' by William Warby - https://www.flickr.com/photos/wwarby/14866200659/\\n',\n",
       " 'daisy/2473825306_62fd5f8785_n.jpg': ' by Audrey - https://www.flickr.com/photos/audreyjm529/2473825306/\\n',\n",
       " 'daisy/14600779226_7bbc288d40_m.jpg': ' by Javcon117* - https://www.flickr.com/photos/javcon117/14600779226/\\n',\n",
       " 'daisy/367020749_3c9a652d75.jpg': ' by Audrey - https://www.flickr.com/photos/audreyjm529/367020749/\\n',\n",
       " 'daisy/14219214466_3ca6104eae_m.jpg': ' by Allison Brown - https://www.flickr.com/photos/behinddreaming/14219214466/\\n',\n",
       " 'daisy/14114116486_0bb6649bc1_m.jpg': ' by Margaux-Marguerite Duquesnoy - https://www.flickr.com/photos/124559226@N08/14114116486/\\n',\n",
       " 'daisy/3713290261_8a66de23ab.jpg': \" by InAweofGod'sCreation - https://www.flickr.com/photos/nhoulihan/3713290261/\\n\",\n",
       " 'daisy/521762040_f26f2e08dd.jpg': ' by Audrey - https://www.flickr.com/photos/audreyjm529/521762040/\\n',\n",
       " 'daisy/14167543177_cd36b54ac6_n.jpg': ' by Rubén Díaz Caviedes - https://www.flickr.com/photos/59268554@N05/14167543177/\\n',\n",
       " 'daisy/14167534527_781ceb1b7a_n.jpg': ' by Rubén Díaz Caviedes - https://www.flickr.com/photos/59268554@N05/14167534527/\\n',\n",
       " 'daisy/6210664514_f1d211217a.jpg': ' by Sarah Joy - https://www.flickr.com/photos/joybot/6210664514/\\n',\n",
       " 'daisy/6207492986_0ff91f3296.jpg': ' by Sarah Joy - https://www.flickr.com/photos/joybot/6207492986/\\n',\n",
       " 'daisy/5434914569_e9b982fde0_n.jpg': ' by Javcon117* - https://www.flickr.com/photos/javcon117/5434914569/\\n',\n",
       " 'daisy/7358085448_b317d11cd5.jpg': ' by Garry Knight - https://www.flickr.com/photos/garryknight/7358085448/\\n',\n",
       " 'daisy/4440480869_632ce6aff3_n.jpg': ' by Maja Dumat - https://www.flickr.com/photos/blumenbiene/4440480869/\\n',\n",
       " 'daisy/2579018590_74359dcf1a_m.jpg': ' by Rob Nunn - https://www.flickr.com/photos/scalespeeder/2579018590/\\n',\n",
       " 'daisy/8719756744_34a5a83976_n.jpg': ' by Scott Ellis - https://www.flickr.com/photos/vsellis/8719756744/\\n',\n",
       " 'daisy/6299498346_b9774b6500.jpg': ' by Sarah Joy - https://www.flickr.com/photos/joybot/6299498346/\\n',\n",
       " 'daisy/5853276960_d08f90fff6.jpg': ' by Garry Knight - https://www.flickr.com/photos/garryknight/5853276960/\\n',\n",
       " 'daisy/5435513198_90ce39f1aa_n.jpg': ' by Javcon117* - https://www.flickr.com/photos/javcon117/5435513198/\\n',\n",
       " 'daisy/5110105726_53eb7a93be_m.jpg': ' by William Warby - https://www.flickr.com/photos/wwarby/5110105726/\\n',\n",
       " 'daisy/4085794721_7cd88e0a6c_m.jpg': ' by William Warby - https://www.flickr.com/photos/wwarby/4085794721/\\n',\n",
       " 'daisy/3861452393_14d2f95157_m.jpg': \" by InAweofGod'sCreation - https://www.flickr.com/photos/nhoulihan/3861452393/\\n\",\n",
       " 'daisy/2057816617_18448093d0_n.jpg': ' by Audrey - https://www.flickr.com/photos/audreyjm529/2057816617/\\n',\n",
       " 'daisy/1955336401_fbb206d6ef_n.jpg': ' by Audrey - https://www.flickr.com/photos/audreyjm529/1955336401/\\n',\n",
       " 'daisy/512477177_d9004cbcf1_n.jpg': ' by Madalena Pestana - https://www.flickr.com/photos/madalena_pestana/512477177/\\n',\n",
       " 'daisy/495098110_3a4bb30042_n.jpg': ' by Serena - https://www.flickr.com/photos/zenera/495098110/\\n',\n",
       " 'daisy/14551098743_2842e7a004_n.jpg': ' by Sarah Zucca - https://www.flickr.com/photos/livetocreate_photography/14551098743/\\n',\n",
       " 'daisy/10172636503_21bededa75_n.jpg': ' by Sarah Zucca - https://www.flickr.com/photos/livetocreate_photography/10172636503/\\n',\n",
       " 'daisy/8085329197_41d53a21e2_n.jpg': ' by Alias 0591 - https://www.flickr.com/photos/renemensen/8085329197/\\n',\n",
       " 'daisy/4268817944_cdbdb226ae.jpg': ' by Horia Varlan - https://www.flickr.com/photos/horiavarlan/4268817944/\\n',\n",
       " 'daisy/2713919471_301fcc941f.jpg': ' by Peter Heilmann - https://www.flickr.com/photos/peter_heilmann/2713919471/\\n',\n",
       " 'daisy/18400014056_2e4c601ed5.jpg': ' by Tanya Hart - https://www.flickr.com/photos/arripay/18400014056/\\n',\n",
       " 'daisy/14221836990_90374e6b34.jpg': ' by DaveBleasdale - https://www.flickr.com/photos/sidelong/14221836990/\\n',\n",
       " 'daisy/6884975451_c74f445d69_m.jpg': ' by jasleen_kaur - https://www.flickr.com/photos/jasleen_kaur/6884975451/\\n',\n",
       " 'daisy/5110109540_beed4ed162_m.jpg': ' by William Warby - https://www.flickr.com/photos/wwarby/5110109540/\\n',\n",
       " 'daisy/5109508979_68e3530791_m.jpg': ' by William Warby - https://www.flickr.com/photos/wwarby/5109508979/\\n',\n",
       " 'daisy/4858518329_7563eb0baa_m.jpg': ' by Franco Folini - https://www.flickr.com/photos/livenature/4858518329/\\n',\n",
       " 'daisy/7335886184_d06a83f640.jpg': ' by cea + - https://www.flickr.com/photos/centralasian/7335886184/\\n',\n",
       " 'daisy/5874818796_3efbb8769d.jpg': ' by Rodney Campbell - https://www.flickr.com/photos/acrylicartist/5874818796/\\n',\n",
       " 'daisy/2619413565_61a6cd3ac9_m.jpg': ' by fauxto_digit - https://www.flickr.com/photos/fauxto_dkp/2619413565/\\n',\n",
       " 'daisy/5435522104_1d6a61b431_n.jpg': ' by Javcon117* - https://www.flickr.com/photos/javcon117/5435522104/\\n',\n",
       " 'daisy/2908212142_5437fa67ff_n.jpg': ' by Robert Snache - Spirithands.net - https://www.flickr.com/photos/rbs/2908212142/\\n',\n",
       " 'daisy/7320089276_87b544e341.jpg': ' by Steve Webster - https://www.flickr.com/photos/spjwebster/7320089276/\\n',\n",
       " 'daisy/7227973870_806d9d3e42_n.jpg': ' by Markus Grossalber - https://www.flickr.com/photos/tschiae/7227973870/\\n',\n",
       " 'daisy/5434901893_4550be3f84_m.jpg': ' by Javcon117* - https://www.flickr.com/photos/javcon117/5434901893/\\n',\n",
       " 'daisy/5769217520_c90efc3c93_m.jpg': ' by crayonmonkey - https://www.flickr.com/photos/crayonmonkey/5769217520/\\n',\n",
       " 'daisy/1396526833_fb867165be_n.jpg': ' by dion gillard - https://www.flickr.com/photos/diongillard/1396526833/\\n',\n",
       " 'daisy/1285423653_18926dc2c8_n.jpg': ' by dion gillard - https://www.flickr.com/photos/diongillard/1285423653/\\n',\n",
       " 'daisy/14907815010_bff495449f.jpg': ' by Kirt Edblom - https://www.flickr.com/photos/27190564@N02/14907815010/\\n',\n",
       " 'daisy/10555826524_423eb8bf71_n.jpg': ' by Maja Dumat - https://www.flickr.com/photos/blumenbiene/10555826524/\\n',\n",
       " 'daisy/5665838969_fe217988b9_m.jpg': ' by Maja Dumat - https://www.flickr.com/photos/blumenbiene/5665838969/\\n',\n",
       " 'daisy/5665834973_76bd6c6523_m.jpg': ' by Maja Dumat - https://www.flickr.com/photos/blumenbiene/5665834973/\\n',\n",
       " 'daisy/5110110938_9da91455c4_m.jpg': ' by William Warby - https://www.flickr.com/photos/wwarby/5110110938/\\n',\n",
       " 'daisy/2561371688_c80a4fe957_n.jpg': ' by jenny downing - https://www.flickr.com/photos/jenny-pics/2561371688/\\n',\n",
       " 'daisy/525780443_bba812c26a_m.jpg': ' by Matt Dodd - https://www.flickr.com/photos/matt_dodd/525780443/\\n',\n",
       " 'daisy/158869618_f1a6704236_n.jpg': ' by Alan L - https://www.flickr.com/photos/35188692@N00/158869618/\\n',\n",
       " 'daisy/21626652132_97e1318bb8_m.jpg': ' by christine.gleason - https://www.flickr.com/photos/cmgxvolley/21626652132/\\n',\n",
       " 'daisy/7538403124_f2fc48750a.jpg': ' by Porsche Brosseau - https://www.flickr.com/photos/porsche-linn/7538403124/\\n',\n",
       " 'daisy/3450822975_7e77d67636_n.jpg': ' by jolly_janner - https://www.flickr.com/photos/34527231@N06/3450822975/\\n',\n",
       " 'daisy/14330343061_99478302d4_m.jpg': ' by Jocelyn Kinghorn - https://www.flickr.com/photos/joceykinghorn/14330343061/\\n',\n",
       " 'daisy/6136947177_47ff445eb4_n.jpg': ' by Mary Hutchison - https://www.flickr.com/photos/mary_hutchison/6136947177/\\n',\n",
       " 'daisy/6054952060_c88612f3c5_n.jpg': ' by jon oropeza - https://www.flickr.com/photos/jonoropeza/6054952060/\\n',\n",
       " 'daisy/5885826924_38fdc6bcaa_n.jpg': ' by Christine Majul - https://www.flickr.com/photos/kitkaphotogirl/5885826924/\\n',\n",
       " 'daisy/5434913005_409c1e8b56_n.jpg': ' by Javcon117* - https://www.flickr.com/photos/javcon117/5434913005/\\n',\n",
       " 'daisy/4222584034_8964cbd3de.jpg': ' by David Goehring - https://www.flickr.com/photos/carbonnyc/4222584034/\\n',\n",
       " 'daisy/3474942718_c418dae6f1.jpg': ' by Clare Bell - https://www.flickr.com/photos/southpaw2305/3474942718/\\n',\n",
       " 'daisy/1150395827_6f94a5c6e4_n.jpg': ' by Brian Glanz - https://www.flickr.com/photos/brianglanz/1150395827/\\n',\n",
       " 'daisy/267148092_4bb874af58.jpg': ' by Zixii - https://www.flickr.com/photos/zixi/267148092/\\n',\n",
       " 'daisy/5794835_d15905c7c8_n.jpg': ' by John D. - https://www.flickr.com/photos/macrophile/5794835/\\n',\n",
       " 'daisy/14221848160_7f0a37c395.jpg': ' by DaveBleasdale - https://www.flickr.com/photos/sidelong/14221848160/\\n',\n",
       " 'daisy/11023272144_fce94401f2_m.jpg': ' by Andrew Moore - https://www.flickr.com/photos/andryn2006/11023272144/\\n',\n",
       " 'daisy/5054771689_00dd40b971_n.jpg': ' by Thomas Quine - https://www.flickr.com/photos/quinet/5054771689/\\n',\n",
       " 'daisy/4258408909_b7cc92741c_m.jpg': ' by Scott.Symonds - https://www.flickr.com/photos/spacemunkie/4258408909/\\n',\n",
       " 'daisy/18474740346_ffdaa18032.jpg': ' by Image Catalog - https://www.flickr.com/photos/image-catalog/18474740346/\\n',\n",
       " 'daisy/3456403987_5bd5fa6ece_n.jpg': \" by Owen's - https://www.flickr.com/photos/owenbushell/3456403987/\\n\",\n",
       " 'daisy/391364010_4b0942d400_m.jpg': ' by Anathea Utley - https://www.flickr.com/photos/anathea/391364010/\\n',\n",
       " 'daisy/299129811_d6ebda9970.jpg': ' by Audrey - https://www.flickr.com/photos/audreyjm529/299129811/\\n',\n",
       " 'daisy/8740807508_0587f5b7b7.jpg': ' by Jeffry - https://www.flickr.com/photos/dreamsailors/8740807508/\\n',\n",
       " 'daisy/6095817094_3a5b1d793d.jpg': ' by n.karim - https://www.flickr.com/photos/nkarim/6095817094/\\n',\n",
       " 'daisy/181007802_7cab5ee78e_n.jpg': ' by Vladimer Shioshvili - https://www.flickr.com/photos/vshioshvili/181007802/\\n',\n",
       " 'daisy/43474673_7bb4465a86.jpg': ' by Mr.Mx. - https://www.flickr.com/photos/mrmx/43474673/\\n',\n",
       " 'daisy/18622672908_eab6dc9140_n.jpg': ' by Adrian Snood - https://www.flickr.com/photos/adriansnood/18622672908/\\n',\n",
       " 'daisy/11023277956_8980d53169_m.jpg': ' by Andrew Moore - https://www.flickr.com/photos/andryn2006/11023277956/\\n',\n",
       " 'daisy/11023214096_b5b39fab08.jpg': ' by Andrew Moore - https://www.flickr.com/photos/andryn2006/11023214096/\\n',\n",
       " 'daisy/3625257860_33efeef614_m.jpg': ' by photogramma1 - https://www.flickr.com/photos/photogramma1/3625257860/\\n',\n",
       " 'daisy/2476937534_21b285aa46_n.jpg': ' by Randi Hausken - https://www.flickr.com/photos/randihausken/2476937534/\\n',\n",
       " 'daisy/8938566373_d129e7af75.jpg': ' by daBinsi - https://www.flickr.com/photos/dabinsi/8938566373/\\n',\n",
       " 'daisy/6299910262_336309ffa5_n.jpg': ' by Christian Holland - https://www.flickr.com/photos/christianholland/6299910262/\\n',\n",
       " 'daisy/5739768868_9f982684f9_n.jpg': ' by Barcelona · Three Looks - https://www.flickr.com/photos/vive-recordando/5739768868/\\n',\n",
       " 'daisy/3356112863_75da8bca2c_m.jpg': ' by Phil Sellens - https://www.flickr.com/photos/phil_sellens/3356112863/\\n',\n",
       " 'daisy/12701063955_4840594ea6_n.jpg': ' by Lisa Risager - https://www.flickr.com/photos/risager/12701063955/\\n',\n",
       " 'daisy/10994032453_ac7f8d9e2e.jpg': ' by South African Tourism - https://www.flickr.com/photos/south-african-tourism/10994032453/\\n',\n",
       " 'daisy/5881907044_92a85a05c8_n.jpg': ' by Iain A Wanless - https://www.flickr.com/photos/reemul/5881907044/\\n',\n",
       " 'daisy/9161647994_e39b65cb9c_n.jpg': ' by James Mann - https://www.flickr.com/photos/james_mann/9161647994/\\n',\n",
       " 'daisy/7377004908_5bc0cde347_n.jpg': ' by cooper.gary - https://www.flickr.com/photos/gtcooper25/7377004908/\\n',\n",
       " 'daisy/4657354814_f368762c53_m.jpg': ' by tonp - https://www.flickr.com/photos/tonp/4657354814/\\n',\n",
       " 'daisy/176375506_201859bb92_m.jpg': ' by Audrey - https://www.flickr.com/photos/audreyjm529/176375506/\\n',\n",
       " 'daisy/754248840_95092de274.jpg': ' by bill lapp - https://www.flickr.com/photos/blapp/754248840/\\n',\n",
       " 'daisy/171972704_389cf7a953.jpg': ' by zaphodsotherhead - https://www.flickr.com/photos/zaphodsotherhead/171972704/\\n',\n",
       " 'daisy/14354051035_1037b30421_n.jpg': ' by Rubén Díaz Caviedes - https://www.flickr.com/photos/59268554@N05/14354051035/\\n',\n",
       " 'daisy/10466558316_a7198b87e2.jpg': ' by South African Tourism - https://www.flickr.com/photos/south-african-tourism/10466558316/\\n',\n",
       " 'daisy/9120905231_329598304e.jpg': ' by Eric Kilby - https://www.flickr.com/photos/ekilby/9120905231/\\n',\n",
       " 'daisy/7630520686_e3a61ac763.jpg': ' by William Wootton - https://www.flickr.com/photos/wwootton/7630520686/\\n',\n",
       " 'daisy/7630511450_02d3292e90.jpg': ' by William Wootton - https://www.flickr.com/photos/wwootton/7630511450/\\n',\n",
       " 'daisy/3848258315_ed2fde4fb4.jpg': ' by Serena - https://www.flickr.com/photos/zenera/3848258315/\\n',\n",
       " 'daisy/174131220_c853df1287.jpg': ' by Sharon Mollerus - https://www.flickr.com/photos/clairity/174131220/\\n',\n",
       " 'daisy/17101762155_2577a28395.jpg': ' by Audrey B. - https://www.flickr.com/photos/hetkabinet/17101762155/\\n',\n",
       " 'daisy/16025261368_911703a536_n.jpg': ' by katrien berckmoes - https://www.flickr.com/photos/129891689@N02/16025261368/\\n',\n",
       " 'daisy/6950173662_5e9473003e_n.jpg': ' by Markus Grossalber - https://www.flickr.com/photos/tschiae/6950173662/\\n',\n",
       " 'daisy/10993818044_4c19b86c82.jpg': ' by South African Tourism - https://www.flickr.com/photos/south-african-tourism/10993818044/\\n',\n",
       " 'daisy/10993710036_2033222c91.jpg': ' by South African Tourism - https://www.flickr.com/photos/south-african-tourism/10993710036/\\n',\n",
       " 'daisy/144099102_bf63a41e4f_n.jpg': ' by Stéfan - https://www.flickr.com/photos/st3f4n/144099102/\\n',\n",
       " 'daisy/14272874304_47c0a46f5a.jpg': ' by DncnH - https://www.flickr.com/photos/duncanh1/14272874304/\\n',\n",
       " 'daisy/8681746439_d6beeefbf9.jpg': ' by Mark Engelbrecht - https://www.flickr.com/photos/menegue/8681746439/\\n',\n",
       " 'daisy/14621687774_ec52811acd_n.jpg': ' by Javcon117* - https://www.flickr.com/photos/javcon117/14621687774/\\n',\n",
       " 'daisy/10466290366_cc72e33532.jpg': ' by South African Tourism - https://www.flickr.com/photos/south-african-tourism/10466290366/\\n',\n",
       " 'daisy/5944315415_2be8abeb2f_m.jpg': ' by Tom Hart - https://www.flickr.com/photos/thart2009/5944315415/\\n',\n",
       " 'daisy/909609509_a05ccb8127.jpg': ' by Kathy - https://www.flickr.com/photos/rittysdigiez/909609509/\\n',\n",
       " 'daisy/15327813273_06cdf42210.jpg': ' by KFCSpike - https://www.flickr.com/photos/fb_brillyunt/15327813273/\\n',\n",
       " 'daisy/4727955343_0bb23ac4ae.jpg': ' by Jim, the Photographer - https://www.flickr.com/photos/jcapaldi/4727955343/\\n',\n",
       " 'daisy/4117918318_3c8935289b_m.jpg': ' by David J - https://www.flickr.com/photos/sebilden/4117918318/\\n',\n",
       " 'daisy/18023717391_e2c9089e10.jpg': ' by Image Catalog - https://www.flickr.com/photos/image-catalog/18023717391/\\n',\n",
       " 'daisy/16360180712_b72695928c_n.jpg': ' by Melanie Lazarow - https://www.flickr.com/photos/mlazarow/16360180712/\\n',\n",
       " 'daisy/14421389519_d5fd353eb4.jpg': ' by Gido - https://www.flickr.com/photos/103499652@N04/14421389519/\\n',\n",
       " 'daisy/10555815624_dc211569b0.jpg': ' by Maja Dumat - https://www.flickr.com/photos/blumenbiene/10555815624/\\n',\n",
       " 'daisy/10555749515_13a12a026e.jpg': ' by Maja Dumat - https://www.flickr.com/photos/blumenbiene/10555749515/\\n',\n",
       " 'daisy/7133935763_82b17c8e1b_n.jpg': ' by frankieleon - https://www.flickr.com/photos/armydre2008/7133935763/\\n',\n",
       " 'daisy/4229503616_9b8a42123c_n.jpg': ' by Alejandro Hernandez. - https://www.flickr.com/photos/ace_0f_magic/4229503616/\\n',\n",
       " 'daisy/2578695910_5ab8ee17c1_n.jpg': ' by Elizabeth Ellis - https://www.flickr.com/photos/izzie_whizzie/2578695910/\\n',\n",
       " 'daisy/2480569557_f4e1f0dcb8_n.jpg': ' by Fabien Dany - https://www.flickr.com/photos/fabdany/2480569557/\\n',\n",
       " 'daisy/20773528301_008fcbc5a1_n.jpg': ' by Image Catalog - https://www.flickr.com/photos/image-catalog/20773528301/\\n',\n",
       " 'daisy/19975899671_ebc42b7865_n.jpg': ' by NY State IPM Program  at Cornell University - https://www.flickr.com/photos/99758165@N06/19975899671/\\n',\n",
       " 'daisy/14147016029_8d3cf2414e.jpg': ' by Jocelyn Kinghorn - https://www.flickr.com/photos/joceykinghorn/14147016029/\\n',\n",
       " 'daisy/10437754174_22ec990b77_m.jpg': ' by Holly Victoria Norval - https://www.flickr.com/photos/hollystar47/10437754174/\\n',\n",
       " 'daisy/7066602021_2647457985_m.jpg': ' by torbakhopper - https://www.flickr.com/photos/gazeronly/7066602021/\\n',\n",
       " 'daisy/2454280135_ac3aa75cdc_n.jpg': ' by Gabriel - https://www.flickr.com/photos/cod_gabriel/2454280135/\\n',\n",
       " 'daisy/450128527_fd35742d44.jpg': ' by Luz Adriana Villa - https://www.flickr.com/photos/luchilu/450128527/\\n',\n",
       " 'daisy/391364011_5beaaa1ae2_m.jpg': ' by Anathea Utley - https://www.flickr.com/photos/anathea/391364011/\\n',\n",
       " 'daisy/17357636476_1953c07aa4_n.jpg': ' by Image Catalog - https://www.flickr.com/photos/image-catalog/17357636476/\\n',\n",
       " 'daisy/2538504987_fe524b92a8_n.jpg': ' by xlibber - https://www.flickr.com/photos/xlibber/2538504987/\\n',\n",
       " 'daisy/4538877108_3c793f7987_m.jpg': ' by Barbara M. - https://www.flickr.com/photos/cannnela/4538877108/\\n',\n",
       " 'daisy/2536529152_33ef3ee078_n.jpg': ' by Balaji Photography - 3,000,000 Views and Growing - https://www.flickr.com/photos/bbalaji/2536529152/\\n',\n",
       " 'daisy/2331133004_582772d58f_m.jpg': ' by Sabrina Campagna - https://www.flickr.com/photos/mar1lyn84/2331133004/\\n',\n",
       " 'daisy/20619292635_9857a12d54.jpg': ' by kismihok - https://www.flickr.com/photos/kismihok/20619292635/\\n',\n",
       " 'daisy/3639009391_0f910681b7.jpg': ' by Stewart Black - https://www.flickr.com/photos/s2ublack/3639009391/\\n',\n",
       " 'daisy/2635314490_e12d3b0f36_m.jpg': ' by Dylan Parker - https://www.flickr.com/photos/antidigerati/2635314490/\\n',\n",
       " 'daisy/301964511_fab84ea1c1.jpg': ' by Audrey - https://www.flickr.com/photos/audreyjm529/301964511/\\n',\n",
       " 'daisy/12585131704_0f64b17059_m.jpg': ' by www.tOrange.biz Valdemar Fishmen - https://www.flickr.com/photos/torange-biz/12585131704/\\n',\n",
       " 'daisy/2521408074_e6f86daf21_n.jpg': ' by Audrey - https://www.flickr.com/photos/audreyjm529/2521408074/\\n',\n",
       " 'daisy/6596277835_9f86da54bb.jpg': ' by JFXie - https://www.flickr.com/photos/jfxie/6596277835/\\n',\n",
       " 'daisy/5765646947_82e95a9cc9_n.jpg': ' by Alberto Cabrera - https://www.flickr.com/photos/jacd74/5765646947/\\n',\n",
       " 'daisy/5693459303_e61d9a9533.jpg': ' by Maret Hosemann - https://www.flickr.com/photos/maret1983/5693459303/\\n',\n",
       " 'daisy/5133243796_44de429de5_m.jpg': ' by seymoursimages - https://www.flickr.com/photos/seymoursimages/5133243796/\\n',\n",
       " 'daisy/3379332157_04724f6480.jpg': ' by xlibber - https://www.flickr.com/photos/xlibber/3379332157/\\n',\n",
       " 'daisy/2514748602_343d4727c0_n.jpg': ' by Audrey - https://www.flickr.com/photos/audreyjm529/2514748602/\\n',\n",
       " 'daisy/835750256_3f91a147ef_n.jpg': ' by cdanna2003 - https://www.flickr.com/photos/49565454@N00/835750256/\\n',\n",
       " 'daisy/14816364517_2423021484_m.jpg': ' by Daniela - https://www.flickr.com/photos/daniela_naturephotography/14816364517/\\n',\n",
       " 'daisy/8718637649_87a0d85190_n.jpg': ' by Scott Ellis - https://www.flickr.com/photos/vsellis/8718637649/\\n',\n",
       " 'daisy/4753134939_8e87649db6.jpg': ' by Rex Hammock - https://www.flickr.com/photos/rexblog/4753134939/\\n',\n",
       " 'daisy/10437929963_bc13eebe0c.jpg': ' by Holly Victoria Norval - https://www.flickr.com/photos/hollystar47/10437929963/\\n',\n",
       " 'daisy/5058708968_8bdcd29e63_n.jpg': ' by zenjazzygeek - https://www.flickr.com/photos/zenjazzygeek/5058708968/\\n',\n",
       " 'daisy/286875003_f7c0e1882d.jpg': ' by Audrey - https://www.flickr.com/photos/audreyjm529/286875003/\\n',\n",
       " 'daisy/9094631844_1a6abca29e.jpg': ' by Korona Lacasse - https://www.flickr.com/photos/korona4reel/9094631844/\\n',\n",
       " 'daisy/8094774544_35465c1c64.jpg': ' by Tokkes - https://www.flickr.com/photos/tom_sieprath/8094774544/\\n',\n",
       " 'daisy/6529588249_d9cbe68aab_n.jpg': ' by daryl_mitchell - https://www.flickr.com/photos/daryl_mitchell/6529588249/\\n',\n",
       " 'daisy/6089825811_80f253fbe1.jpg': ' by AntoineMeu - https://www.flickr.com/photos/lqpin/6089825811/\\n',\n",
       " 'daisy/4318007511_e9f4311936_n.jpg': ' by Inga Munsinger Cotton - https://www.flickr.com/photos/ingamun/4318007511/\\n',\n",
       " 'daisy/3483303007_42e3f90da7.jpg': ' by Clare Bell - https://www.flickr.com/photos/southpaw2305/3483303007/\\n',\n",
       " 'daisy/422094774_28acc69a8b_n.jpg': ' by Andreas. - https://www.flickr.com/photos/124330160/422094774/\\n',\n",
       " 'daisy/100080576_f52e8ee070_n.jpg': ' by mario - https://www.flickr.com/photos/64738468@N00/100080576/\\n',\n",
       " 'daisy/3546455114_cd2dea5e02.jpg': ' by David Merrett - https://www.flickr.com/photos/davehamster/3546455114/\\n',\n",
       " 'daisy/2077865117_9ed85191ae_n.jpg': ' by Serena - https://www.flickr.com/photos/zenera/2077865117/\\n',\n",
       " 'daisy/7454630692_ab2d67dd18_m.jpg': ' by Jacob  Martin - https://www.flickr.com/photos/76938626@N07/7454630692/\\n',\n",
       " 'daisy/3336704121_cfeb67a7d7.jpg': ' by Dennis Wong - https://www.flickr.com/photos/denniswong/3336704121/\\n',\n",
       " 'daisy/9345273630_af3550031d.jpg': ' by Johan Hansson - https://www.flickr.com/photos/plastanka/9345273630/\\n',\n",
       " 'daisy/10437770546_8bb6f7bdd3_m.jpg': ' by Holly Victoria Norval - https://www.flickr.com/photos/hollystar47/10437770546/\\n',\n",
       " 'daisy/10391248763_1d16681106_n.jpg': ' by Petras Gagilas - https://www.flickr.com/photos/gagilas/10391248763/\\n',\n",
       " 'daisy/5087720485_c0914fb623.jpg': ' by Danielle Henry - https://www.flickr.com/photos/waterandglass/5087720485/\\n',\n",
       " 'daisy/2556503265_63ae6b9e0e_m.jpg': ' by thegoinggreenboutique - https://www.flickr.com/photos/thegoinggreenboutique/2556503265/\\n',\n",
       " 'daisy/2349640101_212c275aa7.jpg': ' by Tokkes - https://www.flickr.com/photos/tom_sieprath/2349640101/\\n',\n",
       " 'daisy/4792826628_aa5e5a9804_n.jpg': ' by Danielle Henry - https://www.flickr.com/photos/waterandglass/4792826628/\\n',\n",
       " 'daisy/3633489595_a037a9b7a4_m.jpg': ' by jimmy brown - https://www.flickr.com/photos/jimmybrown/3633489595/\\n',\n",
       " 'daisy/19019544592_b64469bf84_n.jpg': ' by Elliott Brown - https://www.flickr.com/photos/ell-r-brown/19019544592/\\n',\n",
       " 'daisy/8382667241_0f046cecdb_n.jpg': ' by Holly Victoria Norval - https://www.flickr.com/photos/hollystar47/8382667241/\\n',\n",
       " 'daisy/6910811638_aa6f17df23.jpg': ' by Luke Gray - https://www.flickr.com/photos/lukewes/6910811638/\\n',\n",
       " 'daisy/6480809771_b1e14c5cc2_m.jpg': ' by Sid Mosdell - https://www.flickr.com/photos/sidm/6480809771/\\n',\n",
       " 'daisy/14921511479_7b0a647795.jpg': ' by Charly Meunier - https://www.flickr.com/photos/126640879@N07/14921511479/\\n',\n",
       " 'daisy/11124324295_503f3a0804.jpg': ' by Martin Cooper - https://www.flickr.com/photos/m-a-r-t-i-n/11124324295/\\n',\n",
       " 'daisy/4923279674_e7f8e70794_n.jpg': ' by Steve Snodgrass - https://www.flickr.com/photos/stevensnodgrass/4923279674/\\n',\n",
       " 'daisy/695778683_890c46ebac.jpg': ' by Audrey - https://www.flickr.com/photos/audreyjm529/695778683/\\n',\n",
       " 'daisy/14523675369_97c31d0b5b.jpg': ' by Mitchell Haindfield - https://www.flickr.com/photos/40441865@N08/14523675369/\\n',\n",
       " 'daisy/6480809573_76a0074b69_n.jpg': ' by Sid Mosdell - https://www.flickr.com/photos/sidm/6480809573/\\n',\n",
       " 'daisy/2611119198_9d46b94392.jpg': ' by Audrey - https://www.flickr.com/photos/audreyjm529/2611119198/\\n',\n",
       " 'daisy/1656856503_447e5b0f03.jpg': ' by alfaneque - https://www.flickr.com/photos/76623287@N00/1656856503/\\n',\n",
       " 'daisy/446484749_4044affcaf_n.jpg': ' by Serena - https://www.flickr.com/photos/zenera/446484749/\\n',\n",
       " 'daisy/3963330924_6c6a3fa7be_n.jpg': ' by jason woodland - https://www.flickr.com/photos/biffyboy/3963330924/\\n',\n",
       " 'daisy/3640845041_80a92c4205_n.jpg': ' by Luke Andrew Scowen - https://www.flickr.com/photos/lukeas09/3640845041/\\n',\n",
       " 'daisy/3475870145_685a19116d.jpg': ' by Fabrizio Sciami - https://www.flickr.com/photos/_fabrizio_/3475870145/\\n',\n",
       " 'daisy/2590291468_2635d3e4e0_n.jpg': ' by Audrey - https://www.flickr.com/photos/audreyjm529/2590291468/\\n',\n",
       " 'daisy/8008258043_5457dd254b_n.jpg': ' by John Morgan - https://www.flickr.com/photos/aidanmorgan/8008258043/\\n',\n",
       " 'daisy/6776075110_1ea7a09dd4_n.jpg': ' by Rose Braverman - https://www.flickr.com/photos/rose_braverman/6776075110/\\n',\n",
       " 'daisy/2481823240_eab0d86921.jpg': ' by Serena - https://www.flickr.com/photos/zenera/2481823240/\\n',\n",
       " 'daisy/1265350143_6e2b276ec9.jpg': ' by Jon Bragg - https://www.flickr.com/photos/festivefrog/1265350143/\\n',\n",
       " 'daisy/721595842_bacd80a6ac.jpg': ' by Sean McGrath - https://www.flickr.com/photos/mcgraths/721595842/\\n',\n",
       " 'daisy/9310226774_d1b8f5d9c9.jpg': ' by Johan Hansson - https://www.flickr.com/photos/plastanka/9310226774/\\n',\n",
       " 'daisy/163978992_8128b49d3e_n.jpg': ' by Todd Petit - https://www.flickr.com/photos/starmist1/163978992/\\n',\n",
       " 'daisy/12601254324_3cb62c254a_m.jpg': ' by Louise McLaren - https://www.flickr.com/photos/louisephotography/12601254324/\\n',\n",
       " 'daisy/4669117051_ce61e91b76.jpg': ' by tudor-rose - https://www.flickr.com/photos/smileeyface1993/4669117051/\\n',\n",
       " 'daisy/510844526_858b8fe4db.jpg': ' by Audrey - https://www.flickr.com/photos/audreyjm529/510844526/\\n',\n",
       " 'daisy/8383753520_8391dd80ee_m.jpg': ' by Holly Victoria Norval - https://www.flickr.com/photos/hollystar47/8383753520/\\n',\n",
       " 'daisy/3939135368_0af5c4982a_n.jpg': \" by Peter O'Connor aka anemoneprojectors - https://www.flickr.com/photos/anemoneprojectors/3939135368/\\n\",\n",
       " 'daisy/3720632920_93cf1cc7f3_m.jpg': ' by Audrey - https://www.flickr.com/photos/audreyjm529/3720632920/\\n',\n",
       " 'daisy/8709110478_60d12efcd4_n.jpg': ' by Andrew - https://www.flickr.com/photos/bud_um_tiss/8709110478/\\n',\n",
       " 'daisy/5586977262_6b24412805_n.jpg': ' by Jeroen Moes - https://www.flickr.com/photos/jeroenmoes/5586977262/\\n',\n",
       " 'daisy/1392946544_115acbb2d9.jpg': ' by Audrey - https://www.flickr.com/photos/audreyjm529/1392946544/\\n',\n",
       " 'daisy/23095658544_7226386954_n.jpg': ' by brianjobson - https://www.flickr.com/photos/brianjobson/23095658544/\\n',\n",
       " 'daisy/5459481183_18d2d49e44_m.jpg': ' by Kurtis Garbutt - https://www.flickr.com/photos/kjgarbutt/5459481183/\\n',\n",
       " 'daisy/4598422221_b37313a3e3_n.jpg': ' by Daisyree Bakker - https://www.flickr.com/photos/27875041@N02/4598422221/\\n',\n",
       " 'daisy/2828733818_1c1ed0089d_n.jpg': ' by Gilles Gonthier - https://www.flickr.com/photos/gillesgonthier/2828733818/\\n',\n",
       " 'daisy/2346726545_2ebce2b2a6.jpg': ' by Tokkes - https://www.flickr.com/photos/tom_sieprath/2346726545/\\n',\n",
       " 'daisy/305160642_53cde0f44f.jpg': ' by Audrey - https://www.flickr.com/photos/audreyjm529/305160642/\\n',\n",
       " 'daisy/294451721_5106537b34.jpg': ' by Audrey - https://www.flickr.com/photos/audreyjm529/294451721/\\n',\n",
       " 'daisy/21652746_cc379e0eea_m.jpg': ' by Retinafunk - https://www.flickr.com/photos/retinafunk/21652746/\\n',\n",
       " 'daisy/16121105382_b96251e506_m.jpg': ' by Naomi Stoodley - https://www.flickr.com/photos/78271448@N07/16121105382/\\n',\n",
       " 'daisy/5884807222_22f5326ba8_m.jpg': ' by Kurt Bauschardt - https://www.flickr.com/photos/kurt-b/5884807222/\\n',\n",
       " 'daisy/5773652803_574b51414f_n.jpg': ' by Jo Naylor - https://www.flickr.com/photos/pandora_6666/5773652803/\\n',\n",
       " 'daisy/4666648087_b10f376f19.jpg': ' by Fabrizio Sciami - https://www.flickr.com/photos/_fabrizio_/4666648087/\\n',\n",
       " 'daisy/4496202781_1d8e776ff5_n.jpg': ' by jans canon - https://www.flickr.com/photos/43158397@N02/4496202781/\\n',\n",
       " 'daisy/3410906335_37e8a24b1c_n.jpg': ' by Sara Alfred - https://www.flickr.com/photos/saraalfred/3410906335/\\n',\n",
       " 'daisy/25360380_1a881a5648.jpg': ' by Waldo Jaquith - https://www.flickr.com/photos/waldoj/25360380/\\n',\n",
       " 'daisy/3706420943_66f3214862_n.jpg': ' by grace_kat - https://www.flickr.com/photos/g_kat26/3706420943/\\n',\n",
       " 'daisy/173350276_02817aa8d5.jpg': ' by Rosana Prada - https://www.flickr.com/photos/zanastardust/173350276/\\n',\n",
       " 'daisy/6978826370_7b9aa7c7d5.jpg': ' by color line - https://www.flickr.com/photos/sunrise/6978826370/\\n',\n",
       " 'daisy/6148728633_27afc47b0c_m.jpg': ' by Kurt Bauschardt - https://www.flickr.com/photos/kurt-b/6148728633/\\n',\n",
       " 'daisy/4511693548_20f9bd2b9c_m.jpg': ' by Ignacio García - https://www.flickr.com/photos/bichologo_errante/4511693548/\\n',\n",
       " 'daisy/3962240986_0661edc43a_n.jpg': ' by Bill Harrison - https://www.flickr.com/photos/bill_harrison/3962240986/\\n',\n",
       " 'daisy/3491933306_43cfe2cfbe.jpg': ' by Ryan Blyth - https://www.flickr.com/photos/rsblyth/3491933306/\\n',\n",
       " 'daisy/18354545086_693ea7bc2a.jpg': ' by J. Schröder - https://www.flickr.com/photos/115601323@N05/18354545086/\\n',\n",
       " 'daisy/8671824531_64b816949e_m.jpg': ' by Gytha69 - https://www.flickr.com/photos/76255570@N03/8671824531/\\n',\n",
       " 'daisy/7189043225_2fe781439a_n.jpg': ' by Jeff Fenton - https://www.flickr.com/photos/ealingjeff/7189043225/\\n',\n",
       " 'daisy/2045022175_ad087f5f60_n.jpg': ' by Audrey - https://www.flickr.com/photos/audreyjm529/2045022175/\\n',\n",
       " 'daisy/1879567877_8ed2a5faa7_n.jpg': ' by Chris Breeze - https://www.flickr.com/photos/92833011@N00/1879567877/\\n',\n",
       " 'daisy/4746633946_23933c0810.jpg': ' by Finding Josephine - https://www.flickr.com/photos/34233222@N05/4746633946/\\n',\n",
       " 'daisy/5997702776_c7bc37aa6b_n.jpg': ' by Kate Ter Haar - https://www.flickr.com/photos/katerha/5997702776/\\n',\n",
       " 'daisy/4757448834_a29a9538c9_n.jpg': ' by Shaury Nash - https://www.flickr.com/photos/shaury/4757448834/\\n',\n",
       " 'daisy/3080880039_4f1bd592e5_n.jpg': ' by Andrew Bennett - https://www.flickr.com/photos/bluesky4691/3080880039/\\n',\n",
       " 'daisy/4646886118_b5c5ceaf6d_n.jpg': ' by John Morgan - https://www.flickr.com/photos/aidanmorgan/4646886118/\\n',\n",
       " 'daisy/1441939151_b271408c8d_n.jpg': ' by Xosé Arsenio Coto - https://www.flickr.com/photos/senioscopia/1441939151/\\n',\n",
       " 'daisy/5684911529_88a7ae32ba_n.jpg': ' by Ralph Daily - https://www.flickr.com/photos/ralphandjenny/5684911529/\\n',\n",
       " 'daisy/3750771898_cfd50090ba_n.jpg': ' by Sam Berry - https://www.flickr.com/photos/sambphoto/3750771898/\\n',\n",
       " 'daisy/8708143485_38d084ac8c_n.jpg': ' by Andrés Moreira - https://www.flickr.com/photos/andrix/8708143485/\\n',\n",
       " 'daisy/3588872598_e0f9a1d2a1_m.jpg': ' by Fabrizio Sciami - https://www.flickr.com/photos/_fabrizio_/3588872598/\\n',\n",
       " 'daisy/476857510_d2b30175de_n.jpg': ' by sunshinecity - https://www.flickr.com/photos/sunshinecity/476857510/\\n',\n",
       " 'daisy/7702332000_3f21ef4571_n.jpg': ' by torbakhopper - https://www.flickr.com/photos/gazeronly/7702332000/\\n',\n",
       " 'daisy/5973488341_50bdf6cee3_n.jpg': ' by Catrin Austin - https://www.flickr.com/photos/catrinaustin/5973488341/\\n',\n",
       " 'daisy/3338077096_3a8ed0e2bc_m.jpg': ' by Petras Gagilas - https://www.flickr.com/photos/gagilas/3338077096/\\n',\n",
       " 'daisy/1306119996_ab8ae14d72_n.jpg': ' by Emily - https://www.flickr.com/photos/7738710@N06/1306119996/\\n',\n",
       " 'daisy/538920244_59899a78f8_n.jpg': ' by zehhhra - https://www.flickr.com/photos/zehhhra/538920244/\\n',\n",
       " 'daisy/134409839_71069a95d1_m.jpg': ' by marcusrg - https://www.flickr.com/photos/canoafurada/134409839/\\n',\n",
       " 'daisy/10172379554_b296050f82_n.jpg': ' by Sarah Zucca - https://www.flickr.com/photos/livetocreate_photography/10172379554/\\n',\n",
       " 'daisy/8446495985_f72d851482.jpg': ' by Juanedc - https://www.flickr.com/photos/juanedc/8446495985/\\n',\n",
       " 'daisy/4141147800_813f660b47.jpg': ' by John Morgan - https://www.flickr.com/photos/aidanmorgan/4141147800/\\n',\n",
       " 'daisy/3552074420_2a0a7166db_m.jpg': ' by Mathias Erhart - https://www.flickr.com/photos/mathias-erhart/3552074420/\\n',\n",
       " 'daisy/2649404904_b7a91991bb_n.jpg': ' by Sharon Mollerus - https://www.flickr.com/photos/clairity/2649404904/\\n',\n",
       " 'daisy/5673728_71b8cb57eb.jpg': ' by Teo - https://www.flickr.com/photos/teo/5673728/\\n',\n",
       " 'daisy/19813618946_93818db7aa_m.jpg': ' by Dick Thompson - https://www.flickr.com/photos/dick-thompson-sandian/19813618946/\\n',\n",
       " 'daisy/14698531521_0c2f0c6539.jpg': ' by Rod Raglin - https://www.flickr.com/photos/78791029@N04/14698531521/\\n',\n",
       " 'daisy/7416083788_fcb4c4f27e_n.jpg': ' by Marius Benta - https://www.flickr.com/photos/9637599@N02/7416083788/\\n',\n",
       " 'daisy/6208851904_9d916ebb32_n.jpg': ' by Marco Assini - https://www.flickr.com/photos/marco_ask/6208851904/\\n',\n",
       " 'daisy/515112668_a49c69455a.jpg': ' by Serena - https://www.flickr.com/photos/zenera/515112668/\\n',\n",
       " 'daisy/437859108_173fb33c98.jpg': ' by Audrey - https://www.flickr.com/photos/audreyjm529/437859108/\\n',\n",
       " 'daisy/18684594849_7dd3634f5e_n.jpg': ' by Elliott Brown - https://www.flickr.com/photos/ell-r-brown/18684594849/\\n',\n",
       " 'daisy/8645839873_0151fb92bf_n.jpg': ' by Upupa4me - https://www.flickr.com/photos/meanderingwa/8645839873/\\n',\n",
       " 'daisy/4144275653_7c02d47d9b.jpg': ' by Audrey - https://www.flickr.com/photos/audreyjm529/4144275653/\\n',\n",
       " 'daisy/3415180846_d7b5cced14_m.jpg': ' by Davide Restivo - https://www.flickr.com/photos/somemixedstuff/3415180846/\\n',\n",
       " 'daisy/2019064575_7656b9340f_m.jpg': ' by Thom Chandler - https://www.flickr.com/photos/thomchandler/2019064575/\\n',\n",
       " 'dandelion/4510350093_3700064215.jpg': ' by seyed mostafa zamani - https://www.flickr.com/photos/seyyed_mostafa_zamani/4510350093/\\n',\n",
       " 'dandelion/2608937632_cfd93bc7cd.jpg': ' by Lali Masriera - https://www.flickr.com/photos/visualpanic/2608937632/\\n',\n",
       " 'dandelion/8915661673_9a1cdc3755_m.jpg': ' by jenny downing - https://www.flickr.com/photos/jenny-pics/8915661673/\\n',\n",
       " 'dandelion/8740218495_23858355d8_n.jpg': ' by jenny downing - https://www.flickr.com/photos/jenny-pics/8740218495/\\n',\n",
       " 'dandelion/8737699225_19e0c9f0fa_m.jpg': ' by jenny downing - https://www.flickr.com/photos/jenny-pics/8737699225/\\n',\n",
       " 'dandelion/8220011556_28e0cab67f.jpg': ' by Thangaraj Kumaravel - https://www.flickr.com/photos/kumaravel/8220011556/\\n',\n",
       " 'dandelion/3539077354_c67aa7168d_m.jpg': ' by Cynthia Lou - https://www.flickr.com/photos/10832613@N03/3539077354/\\n',\n",
       " 'dandelion/2521827947_9d237779bb_n.jpg': ' by Martin Fisch - https://www.flickr.com/photos/marfis75/2521827947/\\n',\n",
       " 'dandelion/4571923094_b9cefa9438_n.jpg': ' by Nana B Agyei - https://www.flickr.com/photos/nanagyei/4571923094/\\n',\n",
       " 'dandelion/2535727910_769c020c0d_n.jpg': ' by Vince Alongi - https://www.flickr.com/photos/vincealongi/2535727910/\\n',\n",
       " 'dandelion/5676682203_70d797f760.jpg': ' by seyed mostafa zamani - https://www.flickr.com/photos/seyyed_mostafa_zamani/5676682203/\\n',\n",
       " 'dandelion/3487229452_73e3004858.jpg': ' by Vicente Villamón - https://www.flickr.com/photos/villamon/3487229452/\\n',\n",
       " 'dandelion/2674176237_e265ea64cc_n.jpg': ' by Kevin Dooley - https://www.flickr.com/photos/pagedooley/2674176237/\\n',\n",
       " 'dandelion/18999743619_cec3f39bee.jpg': ' by Susanne Nilsson - https://www.flickr.com/photos/infomastern/18999743619/\\n',\n",
       " 'dandelion/14914603395_b271ffab56_n.jpg': ' by Mike  Sinko - https://www.flickr.com/photos/mikesinko/14914603395/\\n',\n",
       " 'dandelion/14060367700_fe87e99b6a_m.jpg': ' by jenny downing - https://www.flickr.com/photos/jenny-pics/14060367700/\\n',\n",
       " 'dandelion/8754822932_948afc7cef.jpg': ' by Yiannis Theologos Michellis - https://www.flickr.com/photos/zoonyzoozoodazoo/8754822932/\\n',\n",
       " 'dandelion/8691437509_9ac8441db7_n.jpg': ' by jenny downing - https://www.flickr.com/photos/jenny-pics/8691437509/\\n',\n",
       " 'dandelion/3530500952_9f94fb8b9c_m.jpg': ' by jenny downing - https://www.flickr.com/photos/jenny-pics/3530500952/\\n',\n",
       " 'dandelion/8719388716_1a392c4c0e_n.jpg': ' by greg westfall - https://www.flickr.com/photos/imagesbywestfall/8719388716/\\n',\n",
       " 'dandelion/6888894675_524a6accab_n.jpg': ' by Hernán Piñera - https://www.flickr.com/photos/hernanpc/6888894675/\\n',\n",
       " 'dandelion/151861297_55b10a03a6_n.jpg': ' by Micky** - https://www.flickr.com/photos/emzee/151861297/\\n',\n",
       " 'dandelion/3662701865_3ff283a33a_n.jpg': ' by Neal Fowler - https://www.flickr.com/photos/31878512@N06/3662701865/\\n',\n",
       " 'dandelion/2503875867_2075a9225d_m.jpg': ' by OliBac - https://www.flickr.com/photos/olibac/2503875867/\\n',\n",
       " 'dandelion/14728922673_99086a3818_n.jpg': ' by Irene Grassi - https://www.flickr.com/photos/sun_sand_sea/14728922673/\\n',\n",
       " 'dandelion/18243351371_5fda92ac0a_n.jpg': ' by Susanne Nilsson - https://www.flickr.com/photos/infomastern/18243351371/\\n',\n",
       " 'dandelion/14199664556_188b37e51e.jpg': ' by Susanne Nilsson - https://www.flickr.com/photos/infomastern/14199664556/\\n',\n",
       " 'dandelion/3991962484_085ba2da94.jpg': ' by ClickFlashPhotos / Nicki Varkevisser - https://www.flickr.com/photos/clickflashphotos/3991962484/\\n',\n",
       " 'dandelion/7062171343_db61c92737_n.jpg': ' by Nana B Agyei - https://www.flickr.com/photos/nanagyei/7062171343/\\n',\n",
       " 'dandelion/3688128868_031e7b53e1_n.jpg': ' by MahPadilha - https://www.flickr.com/photos/mah_aaah/3688128868/\\n',\n",
       " 'dandelion/2831102668_eb65cd40b9_n.jpg': ' by Fe Ilya - https://www.flickr.com/photos/renneville/2831102668/\\n',\n",
       " 'dandelion/17574213074_f5416afd84.jpg': ' by Susanne Nilsson - https://www.flickr.com/photos/infomastern/17574213074/\\n',\n",
       " 'dandelion/17243540220_65b98eb926_n.jpg': ' by C. P. Ewing - https://www.flickr.com/photos/132033298@N04/17243540220/\\n',\n",
       " 'dandelion/15644450971_6a28298454_n.jpg': ' by Swallowtail Garden Seeds - https://www.flickr.com/photos/swallowtailgardenseeds/15644450971/\\n',\n",
       " 'dandelion/14455605089_8bbfb41cd7_n.jpg': ' by Susanne Nilsson - https://www.flickr.com/photos/infomastern/14455605089/\\n',\n",
       " 'dandelion/141340262_ca2e576490.jpg': ' by Jeff Kubina - https://www.flickr.com/photos/kubina/141340262/\\n',\n",
       " 'dandelion/8642679391_0805b147cb_m.jpg': ' by Robert Couse-Baker - https://www.flickr.com/photos/29233640@N07/8642679391/\\n',\n",
       " 'dandelion/14202166370_e989588332.jpg': ' by Martin Fisch - https://www.flickr.com/photos/marfis75/14202166370/\\n',\n",
       " 'dandelion/13734221225_0e04edc6b6.jpg': ' by Nicolas Raymond - https://www.flickr.com/photos/82955120@N05/13734221225/\\n',\n",
       " 'dandelion/14396023703_11c5dd35a9.jpg': ' by Carlos Andrés Reyes - https://www.flickr.com/photos/100477236@N02/14396023703/\\n',\n",
       " 'dandelion/18970601002_d70bc883a9.jpg': ' by Susanne Nilsson - https://www.flickr.com/photos/infomastern/18970601002/\\n',\n",
       " 'dandelion/13900486390_5a25785645_n.jpg': ' by anne arnould - https://www.flickr.com/photos/anne_arnould/13900486390/\\n',\n",
       " 'dandelion/8327657321_2cbceec396_n.jpg': ' by Chris Sorge - https://www.flickr.com/photos/stone65/8327657321/\\n',\n",
       " 'dandelion/6994925894_030e157fe0.jpg': ' by LadyDragonflyCC - >;< - https://www.flickr.com/photos/ladydragonflyherworld/6994925894/\\n',\n",
       " 'dandelion/5572197407_a0047238a6.jpg': ' by John Liu - https://www.flickr.com/photos/8047705@N02/5572197407/\\n',\n",
       " 'dandelion/19397467530_1e8131a7cf.jpg': ' by Susanne Nilsson - https://www.flickr.com/photos/infomastern/19397467530/\\n',\n",
       " 'dandelion/15139657325_74031c44fc.jpg': ' by Axel Naud - https://www.flickr.com/photos/axelnaud/15139657325/\\n',\n",
       " 'dandelion/5744236092_de84b4e38d_n.jpg': ' by Michael Gil - https://www.flickr.com/photos/msvg/5744236092/\\n',\n",
       " 'dandelion/5725836812_a7d1c5540d_m.jpg': ' by John Morgan - https://www.flickr.com/photos/aidanmorgan/5725836812/\\n',\n",
       " 'dandelion/3857059749_fe8ca621a9.jpg': ' by jeff_golden - https://www.flickr.com/photos/jeffanddayna/3857059749/\\n',\n",
       " 'dandelion/19526570282_1d1e71b0f3_m.jpg': ' by Nicolas Raymond - https://www.flickr.com/photos/82955120@N05/19526570282/\\n',\n",
       " 'dandelion/17244252705_328e0bcda6.jpg': ' by Hernán Piñera - https://www.flickr.com/photos/hernanpc/17244252705/\\n',\n",
       " 'dandelion/2569516382_9fd7097b9b.jpg': ' by Adam Baker - https://www.flickr.com/photos/ilektrik/2569516382/\\n',\n",
       " 'dandelion/4716316039_044e4d2d1a.jpg': ' by mendhak - https://www.flickr.com/photos/mendhak/4716316039/\\n',\n",
       " 'dandelion/17161833794_e1d92259d2_m.jpg': ' by Martin Dvoracek - https://www.flickr.com/photos/118382614@N04/17161833794/\\n',\n",
       " 'dandelion/18304194360_2a4a0be631_m.jpg': ' by Martin Dvoracek - https://www.flickr.com/photos/118382614@N04/18304194360/\\n',\n",
       " 'dandelion/1667963621_c76d570af3_n.jpg': ' by Jason Rogers - https://www.flickr.com/photos/restlessglobetrotter/1667963621/\\n',\n",
       " 'dandelion/5797606814_ccac615312_m.jpg': ' by Anne Worner - https://www.flickr.com/photos/wefi_official/5797606814/\\n',\n",
       " 'dandelion/14469481104_d0e29f7ffd.jpg': ' by Susanne Nilsson - https://www.flickr.com/photos/infomastern/14469481104/\\n',\n",
       " 'dandelion/14362539701_cf19e588ca.jpg': ' by けんたま/KENTAMA - https://www.flickr.com/photos/79786806@N07/14362539701/\\n',\n",
       " 'dandelion/5605093210_5fecb71c61.jpg': ' by Robert Couse-Baker - https://www.flickr.com/photos/29233640@N07/5605093210/\\n',\n",
       " 'dandelion/17420983523_2e32d70359.jpg': ' by Susanne Nilsson - https://www.flickr.com/photos/infomastern/17420983523/\\n',\n",
       " 'dandelion/15358221063_2c6e548e84.jpg': ' by Nicolas Raymond - https://www.flickr.com/photos/82955120@N05/15358221063/\\n',\n",
       " 'dandelion/22274701614_901606ee34_n.jpg': ' by 白士 李 - https://www.flickr.com/photos/pslee999/22274701614/\\n',\n",
       " 'dandelion/8209318399_ae72aefdb5.jpg': ' by Takuya ASADA - https://www.flickr.com/photos/syuu/8209318399/\\n',\n",
       " 'dandelion/2995221296_a6ddaccc39.jpg': ' by Dawn Huczek - https://www.flickr.com/photos/31064702@N05/2995221296/\\n',\n",
       " 'dandelion/14292205986_da230467ef.jpg': ' by Holly Victoria Norval - https://www.flickr.com/photos/hollystar47/14292205986/\\n',\n",
       " 'dandelion/5607983792_f8b8766ff7.jpg': ' by Ashtyn Renee - https://www.flickr.com/photos/ashtynrenee/5607983792/\\n',\n",
       " 'dandelion/3591588855_b4fd53b000.jpg': ' by Sean McGrath - https://www.flickr.com/photos/mcgraths/3591588855/\\n',\n",
       " 'dandelion/2494436687_775402e0aa.jpg': ' by photophilde - https://www.flickr.com/photos/photophilde/2494436687/\\n',\n",
       " 'dandelion/17619402434_15b2ec2d79.jpg': ' by Susanne Nilsson - https://www.flickr.com/photos/infomastern/17619402434/\\n',\n",
       " 'dandelion/16953818045_fea21c8bf8.jpg': ' by Dave Warley - https://www.flickr.com/photos/dave_warley/16953818045/\\n',\n",
       " 'dandelion/14884028290_a1344eb446.jpg': ' by Mikko Luntiala - https://www.flickr.com/photos/mikko_luntiala/14884028290/\\n',\n",
       " 'dandelion/1798082733_b8080b1173_m.jpg': ' by John Haslam - https://www.flickr.com/photos/foxypar4/1798082733/\\n',\n",
       " 'dandelion/16656127943_2f70926b6c.jpg': ' by stanze - https://www.flickr.com/photos/stanzebla/16656127943/\\n',\n",
       " 'dandelion/15819121091_26a5243340_n.jpg': ' by Eliezer Pedroso - https://www.flickr.com/photos/eliezerpedroso/15819121091/\\n',\n",
       " 'dandelion/17147436650_c94ae24004_n.jpg': ' by stanze - https://www.flickr.com/photos/stanzebla/17147436650/\\n',\n",
       " 'dandelion/3589816063_50f8de7b64_m.jpg': ' by Darren Shilson - https://www.flickr.com/photos/darrenshilson/3589816063/\\n',\n",
       " 'dandelion/8168031302_6e36f39d87.jpg': ' by Takuya ASADA - https://www.flickr.com/photos/syuu/8168031302/\\n',\n",
       " 'dandelion/4573204385_9b71e96b35_m.jpg': ' by LadyDragonflyCC - >;< - https://www.flickr.com/photos/ladydragonflyherworld/4573204385/\\n',\n",
       " 'dandelion/14048849371_ec9dbafaeb_m.jpg': ' by Machiel van Zanten - https://www.flickr.com/photos/zanten/14048849371/\\n',\n",
       " 'dandelion/18243329421_771b4d938e.jpg': ' by Susanne Nilsson - https://www.flickr.com/photos/infomastern/18243329421/\\n',\n",
       " 'dandelion/425800274_27dba84fac_n.jpg': ' by Dan Foy - https://www.flickr.com/photos/orangeacid/425800274/\\n',\n",
       " 'dandelion/17821459748_873101edd0_m.jpg': ' by Ralf Κλενγελ - https://www.flickr.com/photos/klengel/17821459748/\\n',\n",
       " 'dandelion/17276354745_2e312a72b5_n.jpg': ' by stanze - https://www.flickr.com/photos/stanzebla/17276354745/\\n',\n",
       " 'dandelion/18001393975_2a6acaabd8.jpg': ' by けんたま/KENTAMA - https://www.flickr.com/photos/79786806@N07/18001393975/\\n',\n",
       " 'dandelion/13946048982_4e6ec56987.jpg': ' by BK - https://www.flickr.com/photos/pictoquotes/13946048982/\\n',\n",
       " 'dandelion/3419176626_512811d3ff.jpg': ' by Jean-Raphaël Guillaumin - https://www.flickr.com/photos/jrguillaumin/3419176626/\\n',\n",
       " 'dandelion/7368449232_c99f49b2e6_n.jpg': ' by gautsch. - https://www.flickr.com/photos/of_guido/7368449232/\\n',\n",
       " 'dandelion/3464015936_6845f46f64.jpg': ' by Martin Fisch - https://www.flickr.com/photos/marfis75/3464015936/\\n',\n",
       " 'dandelion/3954167682_128398bf79_m.jpg': ' by jenny downing - https://www.flickr.com/photos/jenny-pics/3954167682/\\n',\n",
       " 'dandelion/459633569_5ddf6bc116_m.jpg': ' by John Goode - https://www.flickr.com/photos/johnnieb/459633569/\\n',\n",
       " 'dandelion/6985099958_5249a4688b.jpg': ' by r. nial bradshaw - https://www.flickr.com/photos/zionfiction/6985099958/\\n',\n",
       " 'dandelion/5768217474_f6b1eef6d5_n.jpg': ' by frankieleon - https://www.flickr.com/photos/armydre2008/5768217474/\\n',\n",
       " 'dandelion/3513200808_390f1d63a7_m.jpg': ' by Mathias Erhart - https://www.flickr.com/photos/mathias-erhart/3513200808/\\n',\n",
       " 'dandelion/15297244181_011883a631_m.jpg': ' by Gunilla G - https://www.flickr.com/photos/nillanilzon/15297244181/\\n',\n",
       " 'dandelion/8747223572_dcd9601e99.jpg': ' by Kenny Louie - https://www.flickr.com/photos/kwl/8747223572/\\n',\n",
       " 'dandelion/21195621914_a5bdbb203d.jpg': ' by Uwe Potthoff - https://www.flickr.com/photos/uw67/21195621914/\\n',\n",
       " 'dandelion/4082856478_741a411ebb.jpg': ' by Emran Kassim - https://www.flickr.com/photos/emrank/4082856478/\\n',\n",
       " 'dandelion/19506262462_d0945c14a6.jpg': ' by Susanne Nilsson - https://www.flickr.com/photos/infomastern/19506262462/\\n',\n",
       " 'dandelion/8716513637_2ba0c4e6cd_n.jpg': ' by Dale - https://www.flickr.com/photos/dalesbest/8716513637/\\n',\n",
       " 'dandelion/18111636378_856027a7b8_n.jpg': ' by Norbert Reimer - https://www.flickr.com/photos/norbertreimer/18111636378/\\n',\n",
       " 'dandelion/3584415133_a4122ab7b9.jpg': ' by Erlend Schei - https://www.flickr.com/photos/nerdegutt/3584415133/\\n',\n",
       " 'dandelion/3483575184_cb8d16a083_n.jpg': ' by Randi Hausken - https://www.flickr.com/photos/randihausken/3483575184/\\n',\n",
       " 'dandelion/7040710179_7f86a17a3c_n.jpg': ' by Robert Couse-Baker - https://www.flickr.com/photos/29233640@N07/7040710179/\\n',\n",
       " 'dandelion/284497233_c19801752c.jpg': ' by strelitzia --- - https://www.flickr.com/photos/strelitzia/284497233/\\n',\n",
       " 'dandelion/18232119726_cef27eaaac_n.jpg': ' by Norbert Reimer - https://www.flickr.com/photos/norbertreimer/18232119726/\\n',\n",
       " 'dandelion/18215579866_94b1732f24.jpg': ' by Susanne Nilsson - https://www.flickr.com/photos/infomastern/18215579866/\\n',\n",
       " 'dandelion/17029965300_8e755c2214_n.jpg': ' by Yutaka Seki - https://www.flickr.com/photos/yutakaseki/17029965300/\\n',\n",
       " 'dandelion/18482768066_677292a64e.jpg': ' by Susanne Nilsson - https://www.flickr.com/photos/infomastern/18482768066/\\n',\n",
       " 'dandelion/19613308325_a67792d889.jpg': ' by Susanne Nilsson - https://www.flickr.com/photos/infomastern/19613308325/\\n',\n",
       " 'dandelion/468749497_951c571eff_n.jpg': ' by Serena - https://www.flickr.com/photos/zenera/468749497/\\n',\n",
       " 'dandelion/4573204407_babff0dce4_n.jpg': ' by LadyDragonflyCC - >;< - https://www.flickr.com/photos/ladydragonflyherworld/4573204407/\\n',\n",
       " 'dandelion/3664916269_29f07c7c7b.jpg': ' by ClickFlashPhotos / Nicki Varkevisser - https://www.flickr.com/photos/clickflashphotos/3664916269/\\n',\n",
       " 'dandelion/17851831751_35b071f4b0.jpg': ' by stanze - https://www.flickr.com/photos/stanzebla/17851831751/\\n',\n",
       " 'dandelion/17649230811_9bdbbacb8c.jpg': ' by unbekannt270 - https://www.flickr.com/photos/unbekannt270/17649230811/\\n',\n",
       " 'dandelion/20983660733_06b35b9eb8.jpg': ' by Holly Lay - https://www.flickr.com/photos/hollylay/20983660733/\\n',\n",
       " 'dandelion/9759608055_9ab623d193.jpg': ' by Ilena Gecan - https://www.flickr.com/photos/hach3/9759608055/\\n',\n",
       " 'dandelion/9301891790_971dcfb35d_m.jpg': ' by mayeesherr. - https://www.flickr.com/photos/mayeesherr/9301891790/\\n',\n",
       " 'dandelion/494108764_e00178af6e.jpg': ' by Joey Gannon - https://www.flickr.com/photos/brunkfordbraun/494108764/\\n',\n",
       " 'dandelion/17146644679_11aff3045c.jpg': ' by Irene Grassi - https://www.flickr.com/photos/sun_sand_sea/17146644679/\\n',\n",
       " 'dandelion/5003160931_cf8cbb846f.jpg': ' by Benson Kua - https://www.flickr.com/photos/bensonkua/5003160931/\\n',\n",
       " 'dandelion/2473862606_291ae74885.jpg': ' by David Reece - https://www.flickr.com/photos/spursfan_ace/2473862606/\\n',\n",
       " 'dandelion/146242691_44d9c9d6ce_n.jpg': ' by Till Westermayer - https://www.flickr.com/photos/tillwe/146242691/\\n',\n",
       " 'dandelion/3454102259_957ecd0a9b.jpg': ' by Evonne - https://www.flickr.com/photos/evoo73/3454102259/\\n',\n",
       " 'dandelion/16041975_2f6c1596e5.jpg': ' by shikeroku - https://www.flickr.com/photos/kaigaiero2/16041975/\\n',\n",
       " 'dandelion/4562516418_8ccb8c103f.jpg': ' by Johan Hansson - https://www.flickr.com/photos/plastanka/4562516418/\\n',\n",
       " 'dandelion/4633792226_80f89c89ec_m.jpg': ' by cloud2013 - https://www.flickr.com/photos/dennisredfield/4633792226/\\n',\n",
       " 'dandelion/6897671808_57230e04c5_n.jpg': ' by Steve Johnson - https://www.flickr.com/photos/artbystevejohnson/6897671808/\\n',\n",
       " 'dandelion/4573886520_09c984ecd8_m.jpg': ' by LadyDragonflyCC - >;< - https://www.flickr.com/photos/ladydragonflyherworld/4573886520/\\n',\n",
       " 'dandelion/3398195641_456872b48b_n.jpg': ' by John Morgan - https://www.flickr.com/photos/aidanmorgan/3398195641/\\n',\n",
       " 'dandelion/8727612532_6f3d0904aa_n.jpg': ' by Takashi Hososhima - https://www.flickr.com/photos/htakashi/8727612532/\\n',\n",
       " 'dandelion/5829610661_8439ba4a77_n.jpg': ' by Deryk Tolman - https://www.flickr.com/photos/derykt/5829610661/\\n',\n",
       " 'dandelion/7808545612_546cfca610_m.jpg': ' by Josian - https://www.flickr.com/photos/josian8/7808545612/\\n',\n",
       " 'dandelion/7808430998_31ba639031_n.jpg': ' by Josian - https://www.flickr.com/photos/josian8/7808430998/\\n',\n",
       " 'dandelion/7280227122_7ea2bef7f4_n.jpg': ' by Paul Hudson - https://www.flickr.com/photos/pahudson/7280227122/\\n',\n",
       " 'dandelion/4633514720_22e82c5f7c_m.jpg': ' by cloud2013 - https://www.flickr.com/photos/dennisredfield/4633514720/\\n',\n",
       " 'dandelion/477207005_6327db8393_m.jpg': ' by jenny downing - https://www.flickr.com/photos/jenny-pics/477207005/\\n',\n",
       " 'dandelion/15547944931_c1e095b185.jpg': ' by www.tOrange.biz Valdemar Fishmen - https://www.flickr.com/photos/torange-biz/15547944931/\\n',\n",
       " 'dandelion/14128839257_23def53028.jpg': ' by Holly Victoria Norval - https://www.flickr.com/photos/hollystar47/14128839257/\\n',\n",
       " 'dandelion/14313509432_6f2343d6c8_m.jpg': ' by Holly Victoria Norval - https://www.flickr.com/photos/hollystar47/14313509432/\\n',\n",
       " 'dandelion/8963359346_65ca69c59d_n.jpg': ' by Mikhail Kryshen - https://www.flickr.com/photos/kryshen/8963359346/\\n',\n",
       " 'dandelion/17482158576_86c5ebc2f8.jpg': ' by greyloch - https://www.flickr.com/photos/greyloch/17482158576/\\n',\n",
       " 'dandelion/14404468648_37903d7025_m.jpg': ' by swong95765 - https://www.flickr.com/photos/29487672@N07/14404468648/\\n',\n",
       " 'dandelion/4862011506_4faf6d127e_n.jpg': ' by Alan Huett - https://www.flickr.com/photos/ahuett/4862011506/\\n',\n",
       " 'dandelion/16713229021_bea2533981_n.jpg': ' by Jevgenijs Slihto - https://www.flickr.com/photos/101181388@N07/16713229021/\\n',\n",
       " 'dandelion/11124381625_24b17662bd_n.jpg': ' by frankieleon - https://www.flickr.com/photos/armydre2008/11124381625/\\n',\n",
       " 'dandelion/18282528206_7fb3166041.jpg': ' by Ciocarlan Nicolae - https://www.flickr.com/photos/127498491@N07/18282528206/\\n',\n",
       " 'dandelion/10043234166_e6dd915111_n.jpg': ' by Vlastimil Koutecký - https://www.flickr.com/photos/vlastimil_koutecky/10043234166/\\n',\n",
       " 'dandelion/7232035352_84a39e99ba_n.jpg': ' by Sigfrid  Lundberg - https://www.flickr.com/photos/sigfridlundberg/7232035352/\\n',\n",
       " 'dandelion/14805304536_c321a7b061_n.jpg': ' by Olga Filonenko - https://www.flickr.com/photos/olfiika/14805304536/\\n',\n",
       " 'dandelion/14335561523_f847f2f4f1.jpg': ' by Holly Victoria Norval - https://www.flickr.com/photos/hollystar47/14335561523/\\n',\n",
       " 'dandelion/4574737576_044403a997_n.jpg': ' by [cipher] - https://www.flickr.com/photos/h4ck/4574737576/\\n',\n",
       " 'dandelion/15381511376_fd743b7330_n.jpg': ' by Henry_Marion - https://www.flickr.com/photos/henry_marion/15381511376/\\n',\n",
       " 'dandelion/2462476884_58c617b26a.jpg': ' by Jean-Etienne Minh-Duy Poirrier - https://www.flickr.com/photos/jepoirrier/2462476884/\\n',\n",
       " 'dandelion/151385302_f8980a257f_n.jpg': ' by sophie & cie - https://www.flickr.com/photos/biscotte/151385302/\\n',\n",
       " 'dandelion/22785985545_95464115b0_m.jpg': ' by Milan Nykodym - https://www.flickr.com/photos/milannykodym/22785985545/\\n',\n",
       " 'dandelion/10779476016_9130714dc0.jpg': ' by Markus Grossalber - https://www.flickr.com/photos/tschiae/10779476016/\\n',\n",
       " 'dandelion/2540640433_dedd577263.jpg': ' by satoshi sawada - https://www.flickr.com/photos/s_sawada/2540640433/\\n',\n",
       " 'dandelion/8083321316_f62ea76f72_n.jpg': ' by Emilio Küffer - https://www.flickr.com/photos/emiliokuffer/8083321316/\\n',\n",
       " 'dandelion/7197581386_8a51f1bb12_n.jpg': ' by kaybee07 - https://www.flickr.com/photos/kurtbudiarto/7197581386/\\n',\n",
       " 'dandelion/17457028309_95514c8d02_n.jpg': ' by Gunilla G - https://www.flickr.com/photos/nillanilzon/17457028309/\\n',\n",
       " 'dandelion/8748402330_c00f9fbf7f_n.jpg': ' by PicsofAB - https://www.flickr.com/photos/81696597@N00/8748402330/\\n',\n",
       " 'dandelion/2294126841_e478564e77_n.jpg': ' by Verónica Villa Agudelo - https://www.flickr.com/photos/verino77/2294126841/\\n',\n",
       " 'dandelion/578938011_34918b1468.jpg': ' by peasap - https://www.flickr.com/photos/peasap/578938011/\\n',\n",
       " 'dandelion/177851662_b2622b4238_n.jpg': ' by David Wright - https://www.flickr.com/photos/dhwright/177851662/\\n',\n",
       " 'dandelion/18342918441_b1bb69a2fd_n.jpg': ' by Norbert Reimer - https://www.flickr.com/photos/norbertreimer/18342918441/\\n',\n",
       " 'dandelion/19961979110_fcd8092388_m.jpg': ' by Martin Brigden - https://www.flickr.com/photos/noddymini/19961979110/\\n',\n",
       " 'dandelion/17367866236_61abd4d243_n.jpg': ' by Norbert Reimer - https://www.flickr.com/photos/norbertreimer/17367866236/\\n',\n",
       " 'dandelion/7401173270_ebaf04c9b0_n.jpg': ' by manfred majer - https://www.flickr.com/photos/manfredmajer/7401173270/\\n',\n",
       " 'dandelion/3491333876_e3fed43c0d.jpg': ' by Ginny - https://www.flickr.com/photos/ginnerobot/3491333876/\\n',\n",
       " 'dandelion/10443973_aeb97513fc_m.jpg': ' by Kurt Nordstrom - https://www.flickr.com/photos/afroswede/10443973/\\n',\n",
       " 'dandelion/8717157979_05cbc10cc1.jpg': ' by Boris Kasimov - https://www.flickr.com/photos/kasio69/8717157979/\\n',\n",
       " 'dandelion/2698102820_f15445a3f7.jpg': ' by pawpaw67 - https://www.flickr.com/photos/luschei/2698102820/\\n',\n",
       " 'dandelion/17047231499_bd66c23641.jpg': ' by Enrico Strocchi - https://www.flickr.com/photos/strocchi/17047231499/\\n',\n",
       " 'dandelion/6250363717_17732e992e_n.jpg': ' by Jonathan Rubio H. - https://www.flickr.com/photos/jonathanrh/6250363717/\\n',\n",
       " 'dandelion/13968424321_1d89b33a9f_n.jpg': ' by Irene Grassi - https://www.flickr.com/photos/sun_sand_sea/13968424321/\\n',\n",
       " 'dandelion/8929523512_c87897b84e.jpg': ' by Alex Holyoake - https://www.flickr.com/photos/stairhopper/8929523512/\\n',\n",
       " 'dandelion/4164845062_1fd9b3f3b4.jpg': ' by James Lee - https://www.flickr.com/photos/jronaldlee/4164845062/\\n',\n",
       " 'dandelion/19691175559_ef12b8b354_n.jpg': ' by Sergey Kochkarev - https://www.flickr.com/photos/skochkar/19691175559/\\n',\n",
       " 'dandelion/4265711814_9a006ee5b8.jpg': ' by Horia Varlan - https://www.flickr.com/photos/horiavarlan/4265711814/\\n',\n",
       " 'dandelion/13560152823_9da5e48c87_m.jpg': ' by Irene Grassi - https://www.flickr.com/photos/sun_sand_sea/13560152823/\\n',\n",
       " 'dandelion/8989067485_aab399460b_n.jpg': ' by Zoltán Vörös - https://www.flickr.com/photos/94941635@N07/8989067485/\\n',\n",
       " 'dandelion/5909154147_9da14d1730_n.jpg': ' by Alex Graves - https://www.flickr.com/photos/87244355@N00/5909154147/\\n',\n",
       " 'dandelion/14740350060_a489d9fa06.jpg': ' by Holly Zade - https://www.flickr.com/photos/hzader/14740350060/\\n',\n",
       " 'dandelion/2303491518_f25fee9440.jpg': ' by Francisco Antunes - https://www.flickr.com/photos/franciscoantunes/2303491518/\\n',\n",
       " 'dandelion/17466568484_9128287148.jpg': ' by dasWebweib - https://www.flickr.com/photos/daswebweib/17466568484/\\n',\n",
       " 'dandelion/16837594326_1056d875a4_m.jpg': ' by Angelia Sims - https://www.flickr.com/photos/angeliasphotography/16837594326/\\n',\n",
       " 'dandelion/4530848609_02a1d9b791.jpg': ' by Bert Heymans - https://www.flickr.com/photos/heymans/4530848609/\\n',\n",
       " 'dandelion/9726260379_4e8ee66875_m.jpg': ' by Marcelo César Augusto Romeo - https://www.flickr.com/photos/tanozzo/9726260379/\\n',\n",
       " 'dandelion/8707349105_6d06b543b0.jpg': ' by mantas j photography - https://www.flickr.com/photos/mantas_j_photography/8707349105/\\n',\n",
       " 'dandelion/459748276_69101b0cec_n.jpg': ' by Serena - https://www.flickr.com/photos/zenera/459748276/\\n',\n",
       " 'dandelion/451965300_619b781dc9_m.jpg': ' by John Haslam - https://www.flickr.com/photos/foxypar4/451965300/\\n',\n",
       " 'dandelion/22190242684_8c3300d4e6.jpg': ' by Bruno Bastos - https://www.flickr.com/photos/128930497@N03/22190242684/\\n',\n",
       " 'dandelion/2963905796_227d37ff12.jpg': ' by Bala Sivakumar - https://www.flickr.com/photos/bala_/2963905796/\\n',\n",
       " 'dandelion/11545123_50a340b473_m.jpg': ' by Michael - https://www.flickr.com/photos/mikefats/11545123/\\n',\n",
       " 'dandelion/5598014250_684c28bd5c_n.jpg': \" by Peter O'Connor aka anemoneprojectors - https://www.flickr.com/photos/anemoneprojectors/5598014250/\\n\",\n",
       " 'dandelion/23414449869_ee849a80d4.jpg': ' by Christian Collins - https://www.flickr.com/photos/collins_family/23414449869/\\n',\n",
       " 'dandelion/8756906129_b05a1b26f2.jpg': ' by Alias 0591 - https://www.flickr.com/photos/renemensen/8756906129/\\n',\n",
       " 'dandelion/6208857436_14a65fe4af_n.jpg': ' by AvidlyAbide - https://www.flickr.com/photos/avidlyabide/6208857436/\\n',\n",
       " 'dandelion/2634666217_d5ef87c9f7_m.jpg': ' by John - https://www.flickr.com/photos/cygnus921/2634666217/\\n',\n",
       " 'dandelion/8181477_8cb77d2e0f_n.jpg': ' by Dawn Endico - https://www.flickr.com/photos/candiedwomanire/8181477/\\n',\n",
       " 'dandelion/2637883118_cf6ce37be4_n.jpg': ' by Brian Glanz - https://www.flickr.com/photos/brianglanz/2637883118/\\n',\n",
       " 'dandelion/4607183665_3472643bc8.jpg': ' by Basheer Tome - https://www.flickr.com/photos/basheertome/4607183665/\\n',\n",
       " 'dandelion/5598845098_13e8e9460f.jpg': ' by OliBac - https://www.flickr.com/photos/olibac/5598845098/\\n',\n",
       " 'dandelion/136011860_44ca0b2835_n.jpg': ' by Bill Tyne - https://www.flickr.com/photos/-wit-/136011860/\\n',\n",
       " 'dandelion/17747738311_5014b1f77f.jpg': ' by liz west - https://www.flickr.com/photos/calliope/17747738311/\\n',\n",
       " 'dandelion/3465599902_14729e2b1b_n.jpg': ' by Serena - https://www.flickr.com/photos/zenera/3465599902/\\n',\n",
       " 'dandelion/570127230_ce409f90f8_n.jpg': ' by John Haslam - https://www.flickr.com/photos/foxypar4/570127230/\\n',\n",
       " 'dandelion/8842482175_92a14b4934_m.jpg': ' by Olga Filonenko - https://www.flickr.com/photos/olfiika/8842482175/\\n',\n",
       " 'dandelion/5670543216_8c4cb0caa8_m.jpg': ' by LadyDragonflyCC - >;< - https://www.flickr.com/photos/ladydragonflyherworld/5670543216/\\n',\n",
       " 'dandelion/7184780734_3baab127c2_m.jpg': ' by Barbara Willi - https://www.flickr.com/photos/barbara-pictures/7184780734/\\n',\n",
       " 'dandelion/4586018734_6de9c513c2.jpg': ' by Kathleen Dagostino - https://www.flickr.com/photos/kathleencavalaro/4586018734/\\n',\n",
       " 'dandelion/14053397367_75cba846eb_n.jpg': ' by Janice Marie Foote - https://www.flickr.com/photos/jmf1007/14053397367/\\n',\n",
       " 'dandelion/6495802659_98b57e0cca_m.jpg': ' by Marcelo César Augusto Romeo - https://www.flickr.com/photos/tanozzo/6495802659/\\n',\n",
       " 'dandelion/5608832856_f5d49de778.jpg': ' by Juan Manuel Barra Valdebenito - https://www.flickr.com/photos/chesstercl/5608832856/\\n',\n",
       " 'dandelion/3730618647_5725c692c3_m.jpg': ' by Michael Ruiz - https://www.flickr.com/photos/simax/3730618647/\\n',\n",
       " 'dandelion/4634716478_1cbcbee7ca.jpg': ' by fruity monkey - https://www.flickr.com/photos/gilesrcook/4634716478/\\n',\n",
       " 'dandelion/17344936845_fec4d626b7.jpg': ' by Shaun Fisher - https://www.flickr.com/photos/87007001@N04/17344936845/\\n',\n",
       " 'dandelion/2076141453_c63801962a_m.jpg': ' by Umberto Salvagnin - https://www.flickr.com/photos/kaibara/2076141453/\\n',\n",
       " 'dandelion/510897767_918260db93.jpg': ' by liz west - https://www.flickr.com/photos/calliope/510897767/\\n',\n",
       " 'dandelion/7164500544_332b75aa3b.jpg': ' by kaybee07 - https://www.flickr.com/photos/kurtbudiarto/7164500544/\\n',\n",
       " 'dandelion/14376454225_a1de336c5b.jpg': ' by Tommie Hansen - https://www.flickr.com/photos/tommiehansen/14376454225/\\n',\n",
       " 'dandelion/98992760_53ed1d26a9.jpg': ' by RBerteig - https://www.flickr.com/photos/rberteig/98992760/\\n',\n",
       " 'dandelion/8759118120_9eac064e38_n.jpg': ' by Angie - https://www.flickr.com/photos/66220977@N07/8759118120/\\n',\n",
       " 'dandelion/4713958242_fbcfe9a61b_m.jpg': ' by Paul Harris - https://www.flickr.com/photos/givemeajobsoicanmovetocanada/4713958242/\\n',\n",
       " 'dandelion/7193058132_36fd883048_m.jpg': ' by Johnathan Nightingale - https://www.flickr.com/photos/johnath/7193058132/\\n',\n",
       " 'dandelion/8956863946_f96be02aae_n.jpg': ' by Olga Filonenko - https://www.flickr.com/photos/olfiika/8956863946/\\n',\n",
       " 'dandelion/8797114213_103535743c_m.jpg': ' by manfred majer - https://www.flickr.com/photos/manfredmajer/8797114213/\\n',\n",
       " 'dandelion/1443259657_2704fab26e_n.jpg': ' by Emiliano Ricci - https://www.flickr.com/photos/aeruginosa/1443259657/\\n',\n",
       " 'dandelion/16699732794_5bfd639cf8_n.jpg': ' by Shaun Fisher - https://www.flickr.com/photos/87007001@N04/16699732794/\\n',\n",
       " 'dandelion/163702807_e508544acd_n.jpg': ' by mrhayata - https://www.flickr.com/photos/mrhayata/163702807/\\n',\n",
       " 'dandelion/7843447416_847e6ba7f4_m.jpg': ' by daniel.stark - https://www.flickr.com/photos/web-stark/7843447416/\\n',\n",
       " 'dandelion/3584414925_1e6c4b61db_n.jpg': ' by Erlend Schei - https://www.flickr.com/photos/nerdegutt/3584414925/\\n',\n",
       " 'dandelion/6994931380_a7588c1192_m.jpg': ' by LadyDragonflyCC - >;< - https://www.flickr.com/photos/ladydragonflyherworld/6994931380/\\n',\n",
       " 'dandelion/14373114081_7922bcf765_n.jpg': ' by Tommie Hansen - https://www.flickr.com/photos/tommiehansen/14373114081/\\n',\n",
       " 'dandelion/7998106328_c3953f70e9_n.jpg': ' by Michael Gil - https://www.flickr.com/photos/msvg/7998106328/\\n',\n",
       " 'dandelion/7132676187_7a4265b16f_n.jpg': ' by AJ Batac - https://www.flickr.com/photos/ajbatac/7132676187/\\n',\n",
       " 'dandelion/5109496141_8dcf673d43_n.jpg': ' by William Warby - https://www.flickr.com/photos/wwarby/5109496141/\\n',\n",
       " 'dandelion/4514343281_26781484df.jpg': ' by Umberto Salvagnin - https://www.flickr.com/photos/kaibara/4514343281/\\n',\n",
       " 'dandelion/16970837587_4a9d8500d7.jpg': ' by jean-daniel pauget - https://www.flickr.com/photos/yorgda/16970837587/\\n',\n",
       " 'dandelion/3451646670_3eff7094b7_n.jpg': ' by jolly_janner - https://www.flickr.com/photos/34527231@N06/3451646670/\\n',\n",
       " 'dandelion/515143813_b3afb08bf9.jpg': ' by Aube insanité - https://www.flickr.com/photos/99704136@N00/515143813/\\n',\n",
       " 'dandelion/3357432116_b3dce6fed3_n.jpg': ' by sophie - https://www.flickr.com/photos/sophiea/3357432116/\\n',\n",
       " 'dandelion/2780702427_312333ef33.jpg': ' by KaCey97078 - https://www.flickr.com/photos/kacey/2780702427/\\n',\n",
       " 'dandelion/5715788902_9dd2b4ef1d.jpg': ' by Dawn Huczek - https://www.flickr.com/photos/31064702@N05/5715788902/\\n',\n",
       " 'dandelion/5655177340_78fc36ce59_m.jpg': ' by Geerd-Olaf Freyer - https://www.flickr.com/photos/go_freyer/5655177340/\\n',\n",
       " 'dandelion/2634665077_597910235f_m.jpg': ' by John - https://www.flickr.com/photos/cygnus921/2634665077/\\n',\n",
       " 'dandelion/14128835667_b6a916222c.jpg': ' by Holly Victoria Norval - https://www.flickr.com/photos/hollystar47/14128835667/\\n',\n",
       " 'dandelion/5607256228_2294c201b3.jpg': ' by David Reece - https://www.flickr.com/photos/spursfan_ace/5607256228/\\n',\n",
       " 'dandelion/4574447682_40dce530f1.jpg': ' by Robert Payne - https://www.flickr.com/photos/rob_moments/4574447682/\\n',\n",
       " 'dandelion/3509307596_6cfe97867d_n.jpg': \" by InAweofGod'sCreation - https://www.flickr.com/photos/nhoulihan/3509307596/\\n\",\n",
       " 'dandelion/18010259565_d6aae33ca7_n.jpg': ' by Catherine Singleton - https://www.flickr.com/photos/s1ng0/18010259565/\\n',\n",
       " 'dandelion/17322195031_c2680809dc_m.jpg': ' by Eric.Ray - https://www.flickr.com/photos/12707238@N00/17322195031/\\n',\n",
       " 'dandelion/16949657389_ac0ee80fd1_m.jpg': ' by Irene Grassi - https://www.flickr.com/photos/sun_sand_sea/16949657389/\\n',\n",
       " 'dandelion/7141013005_d2f168c373.jpg': ' by LadyDragonflyCC - >;< - https://www.flickr.com/photos/ladydragonflyherworld/7141013005/\\n',\n",
       " 'dandelion/1241011700_261ae180ca.jpg': ' by Noël Zia Lee - https://www.flickr.com/photos/noelzialee/1241011700/\\n',\n",
       " 'dandelion/17135145776_4c2ec21b05_m.jpg': ' by Brieuc DANIEL - https://www.flickr.com/photos/brieucdnl/17135145776/\\n',\n",
       " 'dandelion/9011235009_58c7b244c1_n.jpg': ' by rubengarciajrphotography - https://www.flickr.com/photos/jrphotographyme/9011235009/\\n',\n",
       " 'dandelion/4254850910_0610224342_n.jpg': ' by Jonathan Kershaw - https://www.flickr.com/photos/tattooed-hippy/4254850910/\\n',\n",
       " 'dandelion/501987276_744448580c_m.jpg': ' by John Haslam - https://www.flickr.com/photos/foxypar4/501987276/\\n',\n",
       " 'dandelion/8935477500_89f22cca03_n.jpg': ' by Nature Therapy - https://www.flickr.com/photos/winterpearl/8935477500/\\n',\n",
       " 'dandelion/9472854850_fc9e1db673.jpg': ' by MattysFlicks - https://www.flickr.com/photos/68397968@N07/9472854850/\\n',\n",
       " 'dandelion/3446018470_0c40e73ed6_m.jpg': ' by frankieleon - https://www.flickr.com/photos/armydre2008/3446018470/\\n',\n",
       " 'dandelion/510874382_f7e3435043.jpg': ' by liz west - https://www.flickr.com/photos/calliope/510874382/\\n',\n",
       " 'dandelion/9029297232_de50698e2f_n.jpg': ' by James Petts - https://www.flickr.com/photos/14730981@N08/9029297232/\\n',\n",
       " 'dandelion/18587334446_ef1021909b_n.jpg': ' by James Mann - https://www.flickr.com/photos/james_mann/18587334446/\\n',\n",
       " 'dandelion/5727534342_419604c177_n.jpg': ' by Tom Bech - https://www.flickr.com/photos/viatorius/5727534342/\\n',\n",
       " 'dandelion/5623855601_ecaebdb8fe.jpg': ' by Francesca Cappa - https://www.flickr.com/photos/phalaenopsisaphrodite523/5623855601/\\n',\n",
       " 'dandelion/4645161319_c308fc31ef_n.jpg': ' by Michael Gil - https://www.flickr.com/photos/msvg/4645161319/\\n',\n",
       " 'dandelion/11465213433_847c4fa261.jpg': ' by Tim Strater - https://www.flickr.com/photos/stuutje/11465213433/\\n',\n",
       " 'dandelion/3612582808_4503fa1f8b_m.jpg': ' by lina smith - https://www.flickr.com/photos/linasmith/3612582808/\\n',\n",
       " 'dandelion/141935731_d26d600f4f_m.jpg': ' by Micky** - https://www.flickr.com/photos/emzee/141935731/\\n',\n",
       " 'dandelion/14648777167_1d92d403c9_n.jpg': ' by Nature Therapy - https://www.flickr.com/photos/winterpearl/14648777167/\\n',\n",
       " 'dandelion/7243478942_30bf542a2d_m.jpg': ' by Stefan Ledwina - https://www.flickr.com/photos/stefan_ledwina/7243478942/\\n',\n",
       " 'dandelion/7132605107_f5e033d725_n.jpg': ' by AJ Batac - https://www.flickr.com/photos/ajbatac/7132605107/\\n',\n",
       " 'dandelion/2521811279_1f7fc353bf_n.jpg': ' by David Hepworth - https://www.flickr.com/photos/medhead/2521811279/\\n',\n",
       " 'dandelion/8981828144_4b66b4edb6_n.jpg': ' by Filip Maljković - https://www.flickr.com/photos/dungodung/8981828144/\\n',\n",
       " 'dandelion/1128626197_3f52424215_n.jpg': ' by Benjamin Esham - https://www.flickr.com/photos/bdesham/1128626197/\\n',\n",
       " 'dandelion/344318990_7be3fb0a7d.jpg': ' by Jonas John - https://www.flickr.com/photos/jonasj/344318990/\\n',\n",
       " 'dandelion/16462263826_2555edeb74_n.jpg': ' by Donnie Ray Jones - https://www.flickr.com/photos/donnieray/16462263826/\\n',\n",
       " 'dandelion/20754920332_53b995fc63_n.jpg': ' by revolution540 - https://www.flickr.com/photos/128043305@N05/20754920332/\\n',\n",
       " 'dandelion/7148085703_b9e8bcd6ca_n.jpg': ' by Freedom II Andres - https://www.flickr.com/photos/freedomiiphotography/7148085703/\\n',\n",
       " 'dandelion/3365850019_8158a161a8_n.jpg': ' by Marcelo César Augusto Romeo - https://www.flickr.com/photos/tanozzo/3365850019/\\n',\n",
       " 'dandelion/8744249948_36cb1969f8_m.jpg': ' by Olga Filonenko - https://www.flickr.com/photos/olfiika/8744249948/\\n',\n",
       " 'dandelion/506660896_c903cca1f0.jpg': ' by Dan Zen - https://www.flickr.com/photos/danzen/506660896/\\n',\n",
       " 'dandelion/4645101643_9c9d9df13e.jpg': ' by Kayla Kandzorra - https://www.flickr.com/photos/calleephoto/4645101643/\\n',\n",
       " 'dandelion/80846315_d997645bea_n.jpg': ' by Axel Rouvin - https://www.flickr.com/photos/evdaimon/80846315/\\n',\n",
       " 'dandelion/12094442595_297494dba4_m.jpg': ' https://www.flickr.com/photos/joekmartin/ - by Joe  Martin\\n',\n",
       " 'dandelion/2635422362_a1bf641547_m.jpg': ' by Dylan Parker - https://www.flickr.com/photos/antidigerati/2635422362/\\n',\n",
       " 'dandelion/126012913_edf771c564_n.jpg': ' by JoshuaDavisPhotography - https://www.flickr.com/photos/articnomad/126012913/\\n',\n",
       " 'dandelion/9595369280_dd88b61814.jpg': ' by Pavlina Jane - https://www.flickr.com/photos/pavlinajane/9595369280/\\n',\n",
       " 'dandelion/5673112305_02fe19297b_n.jpg': ' by Roland Tanglao - https://www.flickr.com/photos/roland/5673112305/\\n',\n",
       " 'dandelion/8905148527_ba9f55cd78.jpg': ' by elPadawan - https://www.flickr.com/photos/elpadawan/8905148527/\\n',\n",
       " 'dandelion/7116950607_49b19102ba_n.jpg': ' by Emilian Robert Vicol - https://www.flickr.com/photos/free-stock/7116950607/\\n',\n",
       " 'dandelion/1426682852_e62169221f_m.jpg': ' by OliBac - https://www.flickr.com/photos/olibac/1426682852/\\n',\n",
       " 'dandelion/315645471_dda66c6338_m.jpg': ' by tetu - https://www.flickr.com/photos/tetutetu/315645471/\\n',\n",
       " 'dandelion/3461986955_29a1abc621.jpg': ' by [cipher] - https://www.flickr.com/photos/h4ck/3461986955/\\n',\n",
       " 'dandelion/14126515096_1134fae695.jpg': ' by Shaun Fisher - https://www.flickr.com/photos/87007001@N04/14126515096/\\n',\n",
       " 'dandelion/5776879272_95008399c3.jpg': ' by Archil Kajaia - https://www.flickr.com/photos/bachi_kajaia/5776879272/\\n',\n",
       " 'dandelion/17388697431_0d84c427d1_n.jpg': ' by Takuma Kimura - https://www.flickr.com/photos/photones/17388697431/\\n',\n",
       " 'dandelion/9300335851_cdf1cef7a9.jpg': ' by Mato Rachela - https://www.flickr.com/photos/xapoh/9300335851/\\n',\n",
       " 'dandelion/7162551630_3647eb9254.jpg': ' by kaybee07 - https://www.flickr.com/photos/kurtbudiarto/7162551630/\\n',\n",
       " 'dandelion/2597655841_07fb2955a4.jpg': ' by John - https://www.flickr.com/photos/cygnus921/2597655841/\\n',\n",
       " 'dandelion/151385301_153eacf6b5_n.jpg': ' by sophie & cie - https://www.flickr.com/photos/biscotte/151385301/\\n',\n",
       " 'dandelion/6012046444_fd80afb63a_n.jpg': ' by Alex Brown - https://www.flickr.com/photos/alexbrn/6012046444/\\n',\n",
       " 'dandelion/2477986396_19da36d557_m.jpg': ' by magdalena - https://www.flickr.com/photos/25182350@N03/2477986396/\\n',\n",
       " 'dandelion/14886860069_b84665a073.jpg': ' by Aki Suomela - https://www.flickr.com/photos/akimela/14886860069/\\n',\n",
       " 'dandelion/5033866477_a77cccba49_m.jpg': ' by torbakhopper - https://www.flickr.com/photos/gazeronly/5033866477/\\n',\n",
       " 'dandelion/148180650_19a4b410db.jpg': ' by Nick Bramhall - https://www.flickr.com/photos/black_friction/148180650/\\n',\n",
       " 'dandelion/3418355347_2bdcca592a.jpg': ' by Jean-Raphaël Guillaumin - https://www.flickr.com/photos/jrguillaumin/3418355347/\\n',\n",
       " 'dandelion/1413979148_b40d63db90_m.jpg': ' by John Haslam - https://www.flickr.com/photos/foxypar4/1413979148/\\n',\n",
       " 'dandelion/7196683612_6c4cf05b24.jpg': ' by kaybee07 - https://www.flickr.com/photos/kurtbudiarto/7196683612/\\n',\n",
       " 'dandelion/4601270210_60136f2b87_n.jpg': ' by Bs0u10e0 - https://www.flickr.com/photos/bs0u10e0/4601270210/\\n',\n",
       " 'dandelion/8780964418_7a01a7f48a_n.jpg': ' by shes_so_high - https://www.flickr.com/photos/69353231@N02/8780964418/\\n',\n",
       " 'dandelion/6132275522_ce46b33c33_m.jpg': ' by cazstar - https://www.flickr.com/photos/8291616@N08/6132275522/\\n',\n",
       " 'dandelion/14021281124_89cc388eac_n.jpg': ' by Shaun Fisher - https://www.flickr.com/photos/87007001@N04/14021281124/\\n',\n",
       " 'dandelion/18276105805_d31d3f7e71.jpg': ' by Holly Victoria Norval - https://www.flickr.com/photos/hollystar47/18276105805/\\n',\n",
       " 'dandelion/4654848357_9549351e0b_n.jpg': ' by Horia Varlan - https://www.flickr.com/photos/horiavarlan/4654848357/\\n',\n",
       " 'dandelion/480621885_4c8b50fa11_m.jpg': ' by Daiju Azuma - https://www.flickr.com/photos/opencage/480621885/\\n',\n",
       " 'dandelion/19593576916_f5a083d7fe_n.jpg': ' by Susanne Nilsson - https://www.flickr.com/photos/infomastern/19593576916/\\n',\n",
       " 'dandelion/4575406391_7a62c5f90f_n.jpg': ' by jnyemb - https://www.flickr.com/photos/jnyemb/4575406391/\\n',\n",
       " 'dandelion/4151883194_e45505934d_n.jpg': ' by shidairyproduct - https://www.flickr.com/photos/shidairyproduct/4151883194/\\n',\n",
       " 'dandelion/2481428401_bed64dd043.jpg': ' by Rosana Prada - https://www.flickr.com/photos/zanastardust/2481428401/\\n',\n",
       " 'dandelion/2257649769_deaf97e2c9_n.jpg': ' by Ana_Cotta - https://www.flickr.com/photos/ana_cotta/2257649769/\\n',\n",
       " 'dandelion/21523597492_39b6765cd7_m.jpg': ' by Scott Anderson - https://www.flickr.com/photos/scott1723/21523597492/\\n',\n",
       " 'dandelion/16510864164_3afa8ac37f.jpg': ' by coniferconifer - https://www.flickr.com/photos/conifer/16510864164/\\n',\n",
       " 'dandelion/14093744313_b66bc95072.jpg': ' by John Tann - https://www.flickr.com/photos/31031835@N08/14093744313/\\n',\n",
       " 'dandelion/3823142577_dd5acd5ac6_n.jpg': ' by Brian Richardson - https://www.flickr.com/photos/seriousbri/3823142577/\\n',\n",
       " 'dandelion/3475811950_0fb89845f5_n.jpg': ' by Kamil Porembiński - https://www.flickr.com/photos/paszczak000/3475811950/\\n',\n",
       " 'dandelion/16691236594_4287cea9d6_n.jpg': ' by GorissenM - https://www.flickr.com/photos/71963413@N06/16691236594/\\n',\n",
       " 'dandelion/7280217714_fb9ffccf2d_n.jpg': ' by Paul Hudson - https://www.flickr.com/photos/pahudson/7280217714/\\n',\n",
       " 'dandelion/2453532367_fc373df4de.jpg': ' by Didier - https://www.flickr.com/photos/didier57/2453532367/\\n',\n",
       " 'dandelion/22679060358_561ec823ae_m.jpg': ' by Uroš Novina - https://www.flickr.com/photos/kharak/22679060358/\\n',\n",
       " 'dandelion/7448453384_fb9caaa9af_n.jpg': ' by Porsche Brosseau - https://www.flickr.com/photos/porsche-linn/7448453384/\\n',\n",
       " 'dandelion/5996421299_b9bf488c1a_n.jpg': ' by Chris Waits - https://www.flickr.com/photos/chriswaits/5996421299/\\n',\n",
       " 'dandelion/23192507093_2e6ec77bef_n.jpg': ' by greyloch - https://www.flickr.com/photos/greyloch/23192507093/\\n',\n",
       " 'dandelion/18995294384_77543e96b6_n.jpg': ' by Susanne Nilsson - https://www.flickr.com/photos/infomastern/18995294384/\\n',\n",
       " 'dandelion/18889216716_cd67aec890_n.jpg': ' by Jevgenijs Slihto - https://www.flickr.com/photos/101181388@N07/18889216716/\\n',\n",
       " 'dandelion/4573886524_5161482ca7_n.jpg': ' by LadyDragonflyCC - >;< - https://www.flickr.com/photos/ladydragonflyherworld/4573886524/\\n',\n",
       " 'dandelion/4572738670_4787a11058_n.jpg': ' by Michael Gil - https://www.flickr.com/photos/msvg/4572738670/\\n',\n",
       " 'dandelion/4552591312_02fe1dcc04_n.jpg': \" by Peter O'Connor aka anemoneprojectors - https://www.flickr.com/photos/anemoneprojectors/4552591312/\\n\",\n",
       " 'dandelion/1193386857_3ae53574f2_m.jpg': ' by John Haslam - https://www.flickr.com/photos/foxypar4/1193386857/\\n',\n",
       " 'dandelion/8681169825_19a21c6bf5_m.jpg': ' by slgckgc - https://www.flickr.com/photos/slgc/8681169825/\\n',\n",
       " 'dandelion/4675287055_5938ed62c4.jpg': ' by Alejandro Mallea - https://www.flickr.com/photos/janoma/4675287055/\\n',\n",
       " 'dandelion/8757650550_113d7af3bd.jpg': ' by fihu - https://www.flickr.com/photos/fihu/8757650550/\\n',\n",
       " 'dandelion/461632542_0387557eff.jpg': ' by zooK2 - https://www.flickr.com/photos/zookcx/461632542/\\n',\n",
       " 'dandelion/2462379970_6bd5560f4c_m.jpg': ' by mibuchat - https://www.flickr.com/photos/mibuchat/2462379970/\\n',\n",
       " 'dandelion/2389720627_8923180b19.jpg': ' by luckywhitegirl - https://www.flickr.com/photos/luckywhitegirl/2389720627/\\n',\n",
       " 'dandelion/20456824132_b1c8fbfa41_m.jpg': ' by Mathias Wennergren - https://www.flickr.com/photos/mattishorna/20456824132/\\n',\n",
       " 'dandelion/8533312924_ee09412645_n.jpg': ' by Jeff Turner - https://www.flickr.com/photos/respres/8533312924/\\n',\n",
       " 'dandelion/7141019507_4a44c6e888_m.jpg': ' by LadyDragonflyCC - >;< - https://www.flickr.com/photos/ladydragonflyherworld/7141019507/\\n',\n",
       " 'dandelion/4275776457_d04b597cfa_n.jpg': ' by Rafael Acorsi - https://www.flickr.com/photos/acorsi/4275776457/\\n',\n",
       " 'dandelion/3297108443_0393d04dfc_m.jpg': ' by Shanthanu Bhardwaj - https://www.flickr.com/photos/tengen/3297108443/\\n',\n",
       " 'dandelion/62293290_2c463891ff_m.jpg': ' by Global Reactions - https://www.flickr.com/photos/lmlienau/62293290/\\n',\n",
       " 'dandelion/7950901292_2dea05f9a2_n.jpg': ' by Rafa Machado Photography - https://www.flickr.com/photos/lensthrough/7950901292/\\n',\n",
       " 'dandelion/3517492544_0fd3ed6a66_m.jpg': ' by OliBac - https://www.flickr.com/photos/olibac/3517492544/\\n',\n",
       " 'dandelion/2553703483_558d12668c_n.jpg': ' by Dave_S. - https://www.flickr.com/photos/david_e_smith/2553703483/\\n',\n",
       " 'dandelion/17388674711_6dca8a2e8b_n.jpg': ' by Takuma Kimura - https://www.flickr.com/photos/photones/17388674711/\\n',\n",
       " 'dandelion/5886830036_2b99899c95.jpg': ' by Kurt Bauschardt - https://www.flickr.com/photos/kurt-b/5886830036/\\n',\n",
       " 'dandelion/3844111216_742ea491a0.jpg': ' by Trevor Leyenhorst - https://www.flickr.com/photos/10213764@N02/3844111216/\\n',\n",
       " 'dandelion/8475769_3dea463364_m.jpg': ' by Dawn Endico - https://www.flickr.com/photos/candiedwomanire/8475769/\\n',\n",
       " 'dandelion/16863587471_cc3a6ffb29_m.jpg': ' by Angelia Sims - https://www.flickr.com/photos/angeliasphotography/16863587471/\\n',\n",
       " 'dandelion/15782158700_3b9bf7d33e_m.jpg': ' by Armin S Kowalski - https://www.flickr.com/photos/127488881@N06/15782158700/\\n',\n",
       " 'dandelion/13897156242_dca5d93075_m.jpg': ' by BMiz - https://www.flickr.com/photos/benmizen/13897156242/\\n',\n",
       " 'dandelion/8735646181_fa9787d4e0.jpg': ' by AJ Batac - https://www.flickr.com/photos/ajbatac/8735646181/\\n',\n",
       " 'dandelion/5416388641_c66d52d2ff_m.jpg': ' by Jannis Andrija Schnitzer - https://www.flickr.com/photos/xjs-khaos/5416388641/\\n',\n",
       " ...}"
      ]
     },
     "execution_count": 13,
     "metadata": {},
     "output_type": "execute_result"
    }
   ],
   "source": [
    "attributions"
   ]
  },
  {
   "cell_type": "markdown",
   "metadata": {},
   "source": [
    "<font color='teal'>- ⇧ Make a dictionary of attribution info  </font>  "
   ]
  },
  {
   "cell_type": "code",
   "execution_count": 14,
   "metadata": {
    "colab": {},
    "colab_type": "code",
    "id": "jgowG2xu88Io"
   },
   "outputs": [],
   "source": [
    "import IPython.display as display\n",
    "\n",
    "def caption_image(image_path):\n",
    "    image_rel = pathlib.Path(image_path).relative_to(data_root)\n",
    "    return \"Image (CC BY 2.0) \" + ' - '.join(attributions[str(image_rel)].split(' - ')[:-1])\n"
   ]
  },
  {
   "cell_type": "code",
   "execution_count": 15,
   "metadata": {
    "colab": {},
    "colab_type": "code",
    "id": "YIjLi-nX0txI"
   },
   "outputs": [
    {
     "data": {
      "image/jpeg": "[encoded data removed]",
      "text/plain": [
       "<IPython.core.display.Image object>"
      ]
     },
     "metadata": {},
     "output_type": "display_data"
    },
    {
     "name": "stdout",
     "output_type": "stream",
     "text": [
      "Image (CC BY 2.0)  by Serena\n",
      "\n"
     ]
    },
    {
     "data": {
      "image/jpeg": "[encoded data removed]",
      "text/plain": [
       "<IPython.core.display.Image object>"
      ]
     },
     "metadata": {},
     "output_type": "display_data"
    },
    {
     "name": "stdout",
     "output_type": "stream",
     "text": [
      "Image (CC BY 2.0)  by Parée\n",
      "\n"
     ]
    },
    {
     "data": {
      "image/jpeg": "[encoded data removed]",
      "text/plain": [
       "<IPython.core.display.Image object>"
      ]
     },
     "metadata": {},
     "output_type": "display_data"
    },
    {
     "name": "stdout",
     "output_type": "stream",
     "text": [
      "Image (CC BY 2.0)  by Guttorm Flatabø\n",
      "\n"
     ]
    }
   ],
   "source": [
    "for n in range(3):\n",
    "  image_path = random.choice(all_image_paths)\n",
    "  display.display(display.Image(image_path))\n",
    "  print(caption_image(image_path))\n",
    "  print()"
   ]
  },
  {
   "cell_type": "markdown",
   "metadata": {},
   "source": [
    "<font color='teal'>- ⇧ Create a caption function </font>  \n",
    "<font color='teal'>- Then sample some images with dynamic captions </font>  "
   ]
  },
  {
   "cell_type": "markdown",
   "metadata": {
    "colab_type": "text",
    "id": "OaNOr-co3WKk"
   },
   "source": [
    "### Determine the label for each image"
   ]
  },
  {
   "cell_type": "markdown",
   "metadata": {
    "colab_type": "text",
    "id": "-weOQpDw2Jnu"
   },
   "source": [
    "List the available labels:"
   ]
  },
  {
   "cell_type": "code",
   "execution_count": 16,
   "metadata": {
    "colab": {},
    "colab_type": "code",
    "id": "ssUZ7Qh96UR3"
   },
   "outputs": [
    {
     "data": {
      "text/plain": [
       "['daisy', 'dandelion', 'roses', 'sunflowers', 'tulips']"
      ]
     },
     "execution_count": 16,
     "metadata": {},
     "output_type": "execute_result"
    }
   ],
   "source": [
    "label_names = sorted(item.name for item in data_root.glob('*/') if item.is_dir())\n",
    "label_names"
   ]
  },
  {
   "cell_type": "markdown",
   "metadata": {},
   "source": [
    "<font color='teal'>- ⇧ Uses the folder names as labels </font>"
   ]
  },
  {
   "cell_type": "markdown",
   "metadata": {
    "colab_type": "text",
    "id": "9l_JEBql2OzS"
   },
   "source": [
    "Assign an index to each label:"
   ]
  },
  {
   "cell_type": "code",
   "execution_count": 17,
   "metadata": {
    "colab": {},
    "colab_type": "code",
    "id": "Y8pCV46CzPlp"
   },
   "outputs": [
    {
     "data": {
      "text/plain": [
       "{'daisy': 0, 'dandelion': 1, 'roses': 2, 'sunflowers': 3, 'tulips': 4}"
      ]
     },
     "execution_count": 17,
     "metadata": {},
     "output_type": "execute_result"
    }
   ],
   "source": [
    "label_to_index = dict((name, index) for index,name in enumerate(label_names))\n",
    "label_to_index"
   ]
  },
  {
   "cell_type": "markdown",
   "metadata": {
    "colab_type": "text",
    "id": "VkXsHg162T9F"
   },
   "source": [
    "Create a list of every file, and its label index"
   ]
  },
  {
   "cell_type": "markdown",
   "metadata": {},
   "source": [
    "<font color='teal'>- ⇧ Index the labels </font>"
   ]
  },
  {
   "cell_type": "code",
   "execution_count": 18,
   "metadata": {
    "colab": {},
    "colab_type": "code",
    "id": "q62i1RBP4Q02"
   },
   "outputs": [
    {
     "name": "stdout",
     "output_type": "stream",
     "text": [
      "First 10 labels indices:  [2, 3, 4, 3, 1, 1, 0, 2, 1, 2]\n"
     ]
    }
   ],
   "source": [
    "all_image_labels = [label_to_index[pathlib.Path(path).parent.name]\n",
    "                    for path in all_image_paths]\n",
    "\n",
    "print(\"First 10 labels indices: \", all_image_labels[:10])"
   ]
  },
  {
   "cell_type": "markdown",
   "metadata": {},
   "source": [
    "<font color='teal'>- ⇧ Check that indices made sense </font>"
   ]
  },
  {
   "cell_type": "markdown",
   "metadata": {
    "colab_type": "text",
    "id": "i5L09icm9iph"
   },
   "source": [
    "### Load and format the images"
   ]
  },
  {
   "cell_type": "markdown",
   "metadata": {
    "colab_type": "text",
    "id": "SbqqRUS79ooq"
   },
   "source": [
    "TensorFlow includes all the tools you need to load and process images:"
   ]
  },
  {
   "cell_type": "code",
   "execution_count": 19,
   "metadata": {
    "colab": {},
    "colab_type": "code",
    "id": "jQZdySHvksOu"
   },
   "outputs": [
    {
     "data": {
      "text/plain": [
       "'/Users/werlindo/.keras/datasets/flower_photos/roses/8524505682_bda885af3a_n.jpg'"
      ]
     },
     "execution_count": 19,
     "metadata": {},
     "output_type": "execute_result"
    }
   ],
   "source": [
    "img_path = all_image_paths[0]\n",
    "img_path"
   ]
  },
  {
   "cell_type": "markdown",
   "metadata": {},
   "source": [
    "<font color='teal'>- ⇧ Check again that we have all image paths </font>"
   ]
  },
  {
   "cell_type": "markdown",
   "metadata": {
    "colab_type": "text",
    "id": "2t2h2XCcmK1Y"
   },
   "source": [
    "here is the raw data:"
   ]
  },
  {
   "cell_type": "code",
   "execution_count": 21,
   "metadata": {
    "colab": {},
    "colab_type": "code",
    "id": "LJfkyC_Qkt7A"
   },
   "outputs": [
    {
     "name": "stdout",
     "output_type": "stream",
     "text": [
      "<tf.Tensor: id=1, shape=(), dtype=string, numpy=b'\\xff\\xd8\\xff\\xe0\\x00\\x10JFIF\\x00\\x01\\x01\\x00\\x00\\x...\n"
     ]
    }
   ],
   "source": [
    "#img_raw = tf.read_file(img_path) - .read_file appears to have been deprecated (wm)\n",
    "img_raw = tf.io.read_file(img_path)\n",
    "print(repr(img_raw)[:100]+\"...\")"
   ]
  },
  {
   "cell_type": "markdown",
   "metadata": {},
   "source": [
    "<font color='teal'>- ⇧ get one image </font>"
   ]
  },
  {
   "cell_type": "markdown",
   "metadata": {
    "colab_type": "text",
    "id": "opN8AVc8mSbz"
   },
   "source": [
    "Decode it into an image tensor:"
   ]
  },
  {
   "cell_type": "code",
   "execution_count": 23,
   "metadata": {
    "colab": {},
    "colab_type": "code",
    "id": "Tm0tdrlfk0Bb"
   },
   "outputs": [
    {
     "name": "stdout",
     "output_type": "stream",
     "text": [
      "(228, 320, 3)\n",
      "<dtype: 'uint8'>\n"
     ]
    }
   ],
   "source": [
    "#img_tensor = tf.image.decode_image(img_raw) #Original\n",
    "img_tensor = tf.image.decode_image(img_raw)\n",
    "\n",
    "print(img_tensor.shape)\n",
    "print(img_tensor.dtype)"
   ]
  },
  {
   "cell_type": "markdown",
   "metadata": {},
   "source": [
    "<font color='teal'>- ⇧ Decode into image tensor ...like it says 😂</font>"
   ]
  },
  {
   "cell_type": "markdown",
   "metadata": {
    "colab_type": "text",
    "id": "3k-Of2Tfmbeq"
   },
   "source": [
    "Resize it for your model:"
   ]
  },
  {
   "cell_type": "code",
   "execution_count": 24,
   "metadata": {
    "colab": {},
    "colab_type": "code",
    "id": "XFpz-3_vlJgp"
   },
   "outputs": [
    {
     "name": "stdout",
     "output_type": "stream",
     "text": [
      "(192, 192, 3)\n",
      "0.064093135\n",
      "1.0\n"
     ]
    }
   ],
   "source": [
    "img_final = tf.image.resize(img_tensor, [192, 192])\n",
    "img_final = img_final/255.0\n",
    "print(img_final.shape)\n",
    "print(img_final.numpy().min())\n",
    "print(img_final.numpy().max())\n"
   ]
  },
  {
   "cell_type": "markdown",
   "metadata": {},
   "source": [
    "<font color='teal'>- ⇧ Resize it </font>"
   ]
  },
  {
   "cell_type": "markdown",
   "metadata": {
    "colab_type": "text",
    "id": "aCsAa4Psl4AQ"
   },
   "source": [
    "Wrap up these up in simple functions for later."
   ]
  },
  {
   "cell_type": "code",
   "execution_count": 25,
   "metadata": {
    "colab": {},
    "colab_type": "code",
    "id": "HmUiZJNU73vA"
   },
   "outputs": [],
   "source": [
    "def preprocess_image(image):\n",
    "  image = tf.image.decode_jpeg(image, channels=3)\n",
    "  image = tf.image.resize(image, [192, 192])\n",
    "  image /= 255.0  # normalize to [0,1] range\n",
    "\n",
    "  return image"
   ]
  },
  {
   "cell_type": "code",
   "execution_count": 28,
   "metadata": {
    "colab": {},
    "colab_type": "code",
    "id": "einETrJnO-em"
   },
   "outputs": [],
   "source": [
    "def load_and_preprocess_image(path):\n",
    "#  image = tf.read_file(path)\n",
    "  image = tf.io.read_file(path)\n",
    "  return preprocess_image(image)"
   ]
  },
  {
   "cell_type": "markdown",
   "metadata": {},
   "source": [
    "<font color='teal'>- ⇧ Wrap the last few steps into repeatable functions </font>"
   ]
  },
  {
   "cell_type": "code",
   "execution_count": 29,
   "metadata": {
    "colab": {},
    "colab_type": "code",
    "id": "3brWQcdtz78y"
   },
   "outputs": [
    {
     "name": "stdout",
     "output_type": "stream",
     "text": [
      "\n"
     ]
    },
    {
     "data": {
      "image/png": "[encoded data removed]",
      "text/plain": [
       "<Figure size 432x288 with 1 Axes>"
      ]
     },
     "metadata": {
      "needs_background": "light"
     },
     "output_type": "display_data"
    }
   ],
   "source": [
    "import matplotlib.pyplot as plt\n",
    "\n",
    "image_path = all_image_paths[0]\n",
    "label = all_image_labels[0]\n",
    "\n",
    "plt.imshow(load_and_preprocess_image(img_path))\n",
    "plt.grid(False)\n",
    "plt.xlabel(caption_image(img_path).encode('utf-8'))\n",
    "plt.title(label_names[label].title())\n",
    "print()"
   ]
  },
  {
   "cell_type": "markdown",
   "metadata": {},
   "source": [
    "<font color='teal'>- ⇧ Demonstrate that the above functions worked! </font>"
   ]
  },
  {
   "cell_type": "markdown",
   "metadata": {
    "colab_type": "text",
    "id": "n2TCr1TQ8pA3"
   },
   "source": [
    "## Build a `tf.data.Dataset`"
   ]
  },
  {
   "cell_type": "markdown",
   "metadata": {
    "colab_type": "text",
    "id": "6H9Z5Mq63nSH"
   },
   "source": [
    "### A dataset of images"
   ]
  },
  {
   "cell_type": "markdown",
   "metadata": {
    "colab_type": "text",
    "id": "GN-s04s-6Luq"
   },
   "source": [
    "The easiest way to build a `tf.data.Dataset` is using the `from_tensor_slices` method.\n",
    "\n",
    "Slicing the array of strings, results in a dataset of strings:"
   ]
  },
  {
   "cell_type": "code",
   "execution_count": 34,
   "metadata": {
    "colab": {},
    "colab_type": "code",
    "id": "6oRPG3Jz3ie_"
   },
   "outputs": [],
   "source": [
    "path_ds = tf.data.Dataset.from_tensor_slices(all_image_paths)"
   ]
  },
  {
   "cell_type": "code",
   "execution_count": 39,
   "metadata": {},
   "outputs": [
    {
     "name": "stdout",
     "output_type": "stream",
     "text": [
      "<TensorSliceDataset shapes: (), types: tf.string>\n"
     ]
    }
   ],
   "source": [
    "print(path_ds)"
   ]
  },
  {
   "cell_type": "markdown",
   "metadata": {},
   "source": [
    "<font color='teal'>- ⇧ Create dataset of images from the list of paths </font>"
   ]
  },
  {
   "cell_type": "markdown",
   "metadata": {
    "colab_type": "text",
    "id": "uML4JeMmIAvO"
   },
   "source": [
    "The `output_shapes` and `output_types` fields describe the content of each item in the dataset. In this case it is a set of scalar binary-strings"
   ]
  },
  {
   "cell_type": "markdown",
   "metadata": {
    "colab": {},
    "colab_type": "code",
    "id": "mIsNflFbIK34"
   },
   "source": [
    "# <2.0?\n",
    "print('shape: ', repr(path_ds.output_shapes))\n",
    "print('type: ', path_ds.output_types)\n",
    "print()\n",
    "print(path_ds)"
   ]
  },
  {
   "cell_type": "markdown",
   "metadata": {},
   "source": [
    "<font color='teal'>- ⇧ This isn't in the 2.0beta documentation, so maybe deprecated? </font>"
   ]
  },
  {
   "cell_type": "markdown",
   "metadata": {
    "colab_type": "text",
    "id": "ZjyGcM8OwBJ2"
   },
   "source": [
    "Now create a new dataset that loads and formats images on the fly by mapping `preprocess_image` over the dataset of paths."
   ]
  },
  {
   "cell_type": "code",
   "execution_count": 37,
   "metadata": {
    "colab": {},
    "colab_type": "code",
    "id": "D1iba6f4khu-"
   },
   "outputs": [],
   "source": [
    "image_ds = path_ds.map(load_and_preprocess_image, num_parallel_calls=AUTOTUNE)"
   ]
  },
  {
   "cell_type": "markdown",
   "metadata": {},
   "source": [
    "<font color='teal'>- ⇧ This creates the dataset? </font>"
   ]
  },
  {
   "cell_type": "code",
   "execution_count": 40,
   "metadata": {
    "colab": {},
    "colab_type": "code",
    "id": "JLUPs2a-lEEJ"
   },
   "outputs": [
    {
     "data": {
      "image/png": "[encoded data removed]",
      "text/plain": [
       "<Figure size 576x576 with 1 Axes>"
      ]
     },
     "metadata": {},
     "output_type": "display_data"
    },
    {
     "data": {
      "image/png": "[encoded data removed]",
      "text/plain": [
       "<Figure size 432x288 with 1 Axes>"
      ]
     },
     "metadata": {},
     "output_type": "display_data"
    },
    {
     "data": {
      "image/png": "[encoded data removed]",
      "text/plain": [
       "<Figure size 432x288 with 1 Axes>"
      ]
     },
     "metadata": {},
     "output_type": "display_data"
    },
    {
     "data": {
      "image/png": "[encoded data removed]",
      "text/plain": [
       "<Figure size 432x288 with 1 Axes>"
      ]
     },
     "metadata": {},
     "output_type": "display_data"
    }
   ],
   "source": [
    "import matplotlib.pyplot as plt\n",
    "\n",
    "plt.figure(figsize=(8,8))\n",
    "for n,image in enumerate(image_ds.take(4)):\n",
    "  plt.subplot(2,2,n+1)\n",
    "  plt.imshow(image)\n",
    "  plt.grid(False)\n",
    "  plt.xticks([])\n",
    "  plt.yticks([])\n",
    "  plt.xlabel(caption_image(all_image_paths[n]))\n",
    "  plt.show()"
   ]
  },
  {
   "cell_type": "markdown",
   "metadata": {},
   "source": [
    "<font color='teal'>- ⇧ \"Plot\" out sample of photos! </font>"
   ]
  },
  {
   "cell_type": "markdown",
   "metadata": {
    "colab_type": "text",
    "id": "P6FNqPbxkbdx"
   },
   "source": [
    "### A dataset of `(image, label)` pairs"
   ]
  },
  {
   "cell_type": "markdown",
   "metadata": {
    "colab_type": "text",
    "id": "YgvrWLKG67-x"
   },
   "source": [
    "Using the same `from_tensor_slices` method we can build a dataset of labels"
   ]
  },
  {
   "cell_type": "code",
   "execution_count": 41,
   "metadata": {
    "colab": {},
    "colab_type": "code",
    "id": "AgBsAiV06udj"
   },
   "outputs": [],
   "source": [
    "label_ds = tf.data.Dataset.from_tensor_slices(tf.cast(all_image_labels, tf.int64))"
   ]
  },
  {
   "cell_type": "markdown",
   "metadata": {},
   "source": [
    "<font color='teal'>- ⇧ Start building labels dataset. </font>"
   ]
  },
  {
   "cell_type": "code",
   "execution_count": 42,
   "metadata": {
    "colab": {},
    "colab_type": "code",
    "id": "HEsk5nN0vyeX"
   },
   "outputs": [
    {
     "name": "stdout",
     "output_type": "stream",
     "text": [
      "roses\n",
      "sunflowers\n",
      "tulips\n",
      "sunflowers\n",
      "dandelion\n",
      "dandelion\n",
      "daisy\n",
      "roses\n",
      "dandelion\n",
      "roses\n"
     ]
    }
   ],
   "source": [
    "for label in label_ds.take(10):\n",
    "  print(label_names[label.numpy()])"
   ]
  },
  {
   "cell_type": "markdown",
   "metadata": {},
   "source": [
    "<font color='teal'>- ⇧ Checkout the first 10 labels. </font>"
   ]
  },
  {
   "cell_type": "markdown",
   "metadata": {
    "colab_type": "text",
    "id": "jHjgrEeTxyYz"
   },
   "source": [
    "Since the datasets are in the same order we can just zip them together to get a dataset of `(image, label)` pairs."
   ]
  },
  {
   "cell_type": "code",
   "execution_count": 43,
   "metadata": {
    "colab": {},
    "colab_type": "code",
    "id": "AOEWNMdQwsbN"
   },
   "outputs": [],
   "source": [
    "image_label_ds = tf.data.Dataset.zip((image_ds, label_ds))"
   ]
  },
  {
   "cell_type": "markdown",
   "metadata": {},
   "source": [
    "<font color='teal'>- ⇧ Zip the images up as tuples. </font>"
   ]
  },
  {
   "cell_type": "markdown",
   "metadata": {
    "colab_type": "text",
    "id": "yA2F09SJLMuM"
   },
   "source": [
    "The new dataset's `shapes` and `types` are tuples of shapes and types as well, describing each field:"
   ]
  },
  {
   "cell_type": "code",
   "execution_count": 45,
   "metadata": {
    "colab": {},
    "colab_type": "code",
    "id": "DuVYNinrLL-N"
   },
   "outputs": [
    {
     "name": "stdout",
     "output_type": "stream",
     "text": [
      "<ZipDataset shapes: ((192, 192, 3), ()), types: (tf.float32, tf.int64)>\n"
     ]
    }
   ],
   "source": [
    "print(image_label_ds)"
   ]
  },
  {
   "cell_type": "markdown",
   "metadata": {
    "colab_type": "text",
    "id": "2WYMikoPWOQX"
   },
   "source": [
    "Note: When you have arrays like `all_image_labels` and `all_image_paths` an alternative to `tf.data.dataset.Dataset.zip` is to slice the pair of arrays."
   ]
  },
  {
   "cell_type": "code",
   "execution_count": 46,
   "metadata": {
    "colab": {},
    "colab_type": "code",
    "id": "HOFwZI-2WhzV"
   },
   "outputs": [
    {
     "data": {
      "text/plain": [
       "<MapDataset shapes: ((192, 192, 3), ()), types: (tf.float32, tf.int32)>"
      ]
     },
     "execution_count": 46,
     "metadata": {},
     "output_type": "execute_result"
    }
   ],
   "source": [
    "ds = tf.data.Dataset.from_tensor_slices((all_image_paths, all_image_labels))\n",
    "\n",
    "# The tuples are unpacked into the positional arguments of the mapped function\n",
    "def load_and_preprocess_from_path_label(path, label):\n",
    "  return load_and_preprocess_image(path), label\n",
    "\n",
    "image_label_ds = ds.map(load_and_preprocess_from_path_label)\n",
    "image_label_ds"
   ]
  },
  {
   "cell_type": "markdown",
   "metadata": {},
   "source": [
    "<font color='teal'>- ⇧ If you don't want to zip, you can slice the individual arrays. </font>"
   ]
  },
  {
   "cell_type": "markdown",
   "metadata": {
    "colab_type": "text",
    "id": "vYGCgJuR_9Qp"
   },
   "source": [
    "### Basic methods for training"
   ]
  },
  {
   "cell_type": "markdown",
   "metadata": {
    "colab_type": "text",
    "id": "wwZavzgsIytz"
   },
   "source": [
    "To train a model with this dataset you will want the data:\n",
    "\n",
    "* To be well shuffled.\n",
    "* To be batched.\n",
    "* To repeat forever.\n",
    "* Batches to be available as soon as possible.\n",
    "\n",
    "These features can be easily added using the `tf.data` api."
   ]
  },
  {
   "cell_type": "code",
   "execution_count": 47,
   "metadata": {
    "colab": {},
    "colab_type": "code",
    "id": "uZmZJx8ePw_5"
   },
   "outputs": [
    {
     "data": {
      "text/plain": [
       "<PrefetchDataset shapes: ((None, 192, 192, 3), (None,)), types: (tf.float32, tf.int32)>"
      ]
     },
     "execution_count": 47,
     "metadata": {},
     "output_type": "execute_result"
    }
   ],
   "source": [
    "BATCH_SIZE = 32\n",
    "\n",
    "# Setting a shuffle buffer size as large as the dataset ensures that the data is\n",
    "# completely shuffled.\n",
    "ds = image_label_ds.shuffle(buffer_size=image_count)\n",
    "ds = ds.repeat()\n",
    "ds = ds.batch(BATCH_SIZE)\n",
    "# `prefetch` lets the dataset fetch batches, in the background while the model is training.\n",
    "ds = ds.prefetch(buffer_size=AUTOTUNE)\n",
    "ds"
   ]
  },
  {
   "cell_type": "markdown",
   "metadata": {
    "colab_type": "text",
    "id": "6JsM-xHiFCuW"
   },
   "source": [
    "There are a few things to note here:\n",
    "\n",
    "1. The order is important.\n",
    "\n",
    "  * A `.shuffle` before a `.repeat` would shuffle items across epoch boundaries (some items will be seen twice before others are seen at all).\n",
    "  * A `.shuffle` after a `.batch` would shuffle the order of the batches, but not shuffle the items across batches.\n",
    "\n",
    "1. We use a `buffer_size` the same size as the dataset for a full shuffle. Up to the dataset size, large values provide better randomization, but use more memory.\n",
    "\n",
    "1. The shuffle buffer is filled before any elements are pulled from it. So a large `buffer_size` may cause a delay when your `Dataset` is starting.\n",
    "\n",
    "1. The shuffeled dataset doesn't report the end of a dataset until the shuffle-buffer is completely empty. The `Dataset` is restarted by `.repeat`, causing another wait for the shuffle-buffer to be filled.\n",
    "\n",
    "This last point can be addressed by using the `tf.data.Dataset.apply` method with the fused `tf.data.experimental.shuffle_and_repeat` function:"
   ]
  },
  {
   "cell_type": "code",
   "execution_count": 48,
   "metadata": {
    "colab": {},
    "colab_type": "code",
    "id": "Ocr6PybXNDoO"
   },
   "outputs": [
    {
     "name": "stderr",
     "output_type": "stream",
     "text": [
      "WARNING: Logging before flag parsing goes to stderr.\n",
      "W0616 22:24:31.509460 4406490560 deprecation.py:323] From <ipython-input-48-4dc713bd4d84>:2: shuffle_and_repeat (from tensorflow.python.data.experimental.ops.shuffle_ops) is deprecated and will be removed in a future version.\n",
      "Instructions for updating:\n",
      "Use `tf.data.Dataset.shuffle(buffer_size, seed)` followed by `tf.data.Dataset.repeat(count)`. Static tf.data optimizations will take care of using the fused implementation.\n"
     ]
    },
    {
     "data": {
      "text/plain": [
       "<PrefetchDataset shapes: ((None, 192, 192, 3), (None,)), types: (tf.float32, tf.int32)>"
      ]
     },
     "execution_count": 48,
     "metadata": {},
     "output_type": "execute_result"
    }
   ],
   "source": [
    "ds = image_label_ds.apply(\n",
    "  tf.data.experimental.shuffle_and_repeat(buffer_size=image_count))\n",
    "ds = ds.batch(BATCH_SIZE)\n",
    "ds = ds.prefetch(buffer_size=AUTOTUNE)\n",
    "ds"
   ]
  },
  {
   "cell_type": "markdown",
   "metadata": {
    "colab_type": "text",
    "id": "GBBZMSuAmQVL"
   },
   "source": [
    "### Pipe the dataset to a model\n",
    "\n",
    "Fetch a copy of MobileNet v2 from `tf.keras.applications`.\n",
    "\n",
    "This will be used for a simple transfer learning example.\n",
    "\n",
    "Set the MobileNet weights to be non-trainable:"
   ]
  },
  {
   "cell_type": "code",
   "execution_count": 49,
   "metadata": {
    "colab": {},
    "colab_type": "code",
    "id": "KbJrXn9omO_g"
   },
   "outputs": [
    {
     "name": "stdout",
     "output_type": "stream",
     "text": [
      "Downloading data from https://github.com/JonathanCMitchell/mobilenet_v2_keras/releases/download/v1.1/mobilenet_v2_weights_tf_dim_ordering_tf_kernels_1.0_192_no_top.h5\n",
      "9412608/9406464 [==============================] - 4s 0us/step\n"
     ]
    }
   ],
   "source": [
    "mobile_net = tf.keras.applications.MobileNetV2(input_shape=(192, 192, 3), include_top=False)\n",
    "mobile_net.trainable=False"
   ]
  },
  {
   "cell_type": "markdown",
   "metadata": {
    "colab_type": "text",
    "id": "Y7NVWiLF3Vbf"
   },
   "source": [
    "This model expects its input to be normalized to the `[-1,1]` range:\n",
    "\n",
    "```\n",
    "help(keras_applications.mobilenet_v2.preprocess_input)\n",
    "```\n",
    "\n",
    "<pre>\n",
    "...\n",
    "This function applies the \"Inception\" preprocessing which converts\n",
    "the RGB values from [0, 255] to [-1, 1]\n",
    "...\n",
    "</pre>"
   ]
  },
  {
   "cell_type": "markdown",
   "metadata": {
    "colab_type": "text",
    "id": "CboYya6LmdQI"
   },
   "source": [
    "So before the passing it to the MobilNet model, we need to convert the input from a range of `[0,1]` to `[-1,1]`."
   ]
  },
  {
   "cell_type": "code",
   "execution_count": 50,
   "metadata": {
    "colab": {},
    "colab_type": "code",
    "id": "SNOkHUGv3FYq"
   },
   "outputs": [],
   "source": [
    "def change_range(image,label):\n",
    "  return 2*image-1, label\n",
    "\n",
    "keras_ds = ds.map(change_range)"
   ]
  },
  {
   "cell_type": "markdown",
   "metadata": {
    "colab_type": "text",
    "id": "QDzZ3Nye5Rpv"
   },
   "source": [
    "The MobileNet returns a `6x6` spatial grid of features for each image.\n",
    "\n",
    "Pass it a batch of images to see:"
   ]
  },
  {
   "cell_type": "code",
   "execution_count": 51,
   "metadata": {
    "colab": {},
    "colab_type": "code",
    "id": "OzAhGkEK6WuE"
   },
   "outputs": [],
   "source": [
    "# The dataset may take a few seconds to start, as it fills its shuffle buffer.\n",
    "image_batch, label_batch = next(iter(keras_ds))"
   ]
  },
  {
   "cell_type": "code",
   "execution_count": 52,
   "metadata": {
    "colab": {},
    "colab_type": "code",
    "id": "LcFdiWpO5WbV"
   },
   "outputs": [
    {
     "name": "stdout",
     "output_type": "stream",
     "text": [
      "(32, 6, 6, 1280)\n"
     ]
    }
   ],
   "source": [
    "feature_map_batch = mobile_net(image_batch)\n",
    "print(feature_map_batch.shape)"
   ]
  },
  {
   "cell_type": "markdown",
   "metadata": {
    "colab_type": "text",
    "id": "vrbjEvaC5XmU"
   },
   "source": [
    "So build a model wrapped around MobileNet, and use `tf.keras.layers.GlobalAveragePooling2D` to average over those space dimensions, before the output `tf.keras.layers.Dense` layer:"
   ]
  },
  {
   "cell_type": "code",
   "execution_count": 53,
   "metadata": {
    "colab": {},
    "colab_type": "code",
    "id": "X0ooIU9fNjPJ"
   },
   "outputs": [],
   "source": [
    "model = tf.keras.Sequential([\n",
    "  mobile_net,\n",
    "  tf.keras.layers.GlobalAveragePooling2D(),\n",
    "  tf.keras.layers.Dense(len(label_names))])"
   ]
  },
  {
   "cell_type": "markdown",
   "metadata": {
    "colab_type": "text",
    "id": "foQYUJs97V4V"
   },
   "source": [
    "Now it produces outputs of the expected shape:"
   ]
  },
  {
   "cell_type": "code",
   "execution_count": 54,
   "metadata": {
    "colab": {},
    "colab_type": "code",
    "id": "1nwYxvpj7ZEf"
   },
   "outputs": [
    {
     "name": "stdout",
     "output_type": "stream",
     "text": [
      "min logit: -2.6146884\n",
      "max logit: 2.38903\n",
      "\n",
      "Shape: (32, 5)\n"
     ]
    }
   ],
   "source": [
    "logit_batch = model(image_batch).numpy()\n",
    "\n",
    "print(\"min logit:\", logit_batch.min())\n",
    "print(\"max logit:\", logit_batch.max())\n",
    "print()\n",
    "\n",
    "print(\"Shape:\", logit_batch.shape)"
   ]
  },
  {
   "cell_type": "markdown",
   "metadata": {
    "colab_type": "text",
    "id": "pFc4I_J2nNOJ"
   },
   "source": [
    "Compile the model to describe the training procedure:"
   ]
  },
  {
   "cell_type": "markdown",
   "metadata": {
    "colab": {},
    "colab_type": "code",
    "id": "ZWGqLEWYRNvv"
   },
   "source": [
    "model.compile(optimizer=tf.train.AdamOptimizer(),\n",
    "              loss=tf.keras.losses.sparse_categorical_crossentropy,\n",
    "              metrics=[\"accuracy\"])"
   ]
  },
  {
   "cell_type": "code",
   "execution_count": 57,
   "metadata": {
    "colab": {},
    "colab_type": "code",
    "id": "ZWGqLEWYRNvv"
   },
   "outputs": [],
   "source": [
    "model.compile(optimizer=tf.keras.optimizers.Adam(),\n",
    "              loss='sparse_categorical_crossentropy',\n",
    "              metrics=[\"accuracy\"])"
   ]
  },
  {
   "cell_type": "markdown",
   "metadata": {
    "colab_type": "text",
    "id": "tF1mO6haBOSd"
   },
   "source": [
    "There are 2 trainable variables: the Dense `weights` and `bias`:"
   ]
  },
  {
   "cell_type": "code",
   "execution_count": 58,
   "metadata": {
    "colab": {},
    "colab_type": "code",
    "id": "pPQ5yqyKBJMm"
   },
   "outputs": [
    {
     "data": {
      "text/plain": [
       "2"
      ]
     },
     "execution_count": 58,
     "metadata": {},
     "output_type": "execute_result"
    }
   ],
   "source": [
    "len(model.trainable_variables)"
   ]
  },
  {
   "cell_type": "code",
   "execution_count": 59,
   "metadata": {
    "colab": {},
    "colab_type": "code",
    "id": "kug5Wg66UJjl"
   },
   "outputs": [
    {
     "name": "stdout",
     "output_type": "stream",
     "text": [
      "Model: \"sequential\"\n",
      "_________________________________________________________________\n",
      "Layer (type)                 Output Shape              Param #   \n",
      "=================================================================\n",
      "mobilenetv2_1.00_192 (Model) (None, 6, 6, 1280)        2257984   \n",
      "_________________________________________________________________\n",
      "global_average_pooling2d (Gl (None, 1280)              0         \n",
      "_________________________________________________________________\n",
      "dense (Dense)                (None, 5)                 6405      \n",
      "=================================================================\n",
      "Total params: 2,264,389\n",
      "Trainable params: 6,405\n",
      "Non-trainable params: 2,257,984\n",
      "_________________________________________________________________\n"
     ]
    }
   ],
   "source": [
    "model.summary()"
   ]
  },
  {
   "cell_type": "markdown",
   "metadata": {
    "colab_type": "text",
    "id": "f_glpYZ-nYC_"
   },
   "source": [
    "Train the model.\n",
    "\n",
    "Normally you would specify the real number of steps per epoch, but for demonstration purposes only run 3 steps."
   ]
  },
  {
   "cell_type": "markdown",
   "metadata": {
    "colab": {},
    "colab_type": "code",
    "id": "AnXPRNWoTypI"
   },
   "source": [
    "steps_per_epoch=tf.ceil(len(all_image_paths)/BATCH_SIZE).numpy()\n",
    "steps_per_epoch"
   ]
  },
  {
   "cell_type": "code",
   "execution_count": 62,
   "metadata": {
    "colab": {},
    "colab_type": "code",
    "id": "AnXPRNWoTypI"
   },
   "outputs": [
    {
     "data": {
      "text/plain": [
       "115.0"
      ]
     },
     "execution_count": 62,
     "metadata": {},
     "output_type": "execute_result"
    }
   ],
   "source": [
    "steps_per_epoch=tf.math.ceil(len(all_image_paths)/BATCH_SIZE).numpy()\n",
    "steps_per_epoch"
   ]
  },
  {
   "cell_type": "code",
   "execution_count": 64,
   "metadata": {
    "colab": {},
    "colab_type": "code",
    "id": "q_8sabaaSGAp"
   },
   "outputs": [
    {
     "name": "stdout",
     "output_type": "stream",
     "text": [
      "Epoch 1/20\n",
      "3/3 [==============================] - 16s 5s/step - loss: 2.2829 - accuracy: 0.3229\n",
      "Epoch 2/20\n",
      "3/3 [==============================] - 3s 1s/step - loss: 1.9508 - accuracy: 0.2812\n",
      "Epoch 3/20\n",
      "3/3 [==============================] - 4s 1s/step - loss: 1.7513 - accuracy: 0.3333\n",
      "Epoch 4/20\n",
      "3/3 [==============================] - 4s 1s/step - loss: 1.6094 - accuracy: 0.2604\n",
      "Epoch 5/20\n",
      "3/3 [==============================] - 4s 1s/step - loss: 1.6094 - accuracy: 0.2917\n",
      "Epoch 6/20\n",
      "3/3 [==============================] - 4s 1s/step - loss: 1.6094 - accuracy: 0.3021\n",
      "Epoch 7/20\n",
      "3/3 [==============================] - 4s 1s/step - loss: 1.6094 - accuracy: 0.2604\n",
      "Epoch 8/20\n",
      "3/3 [==============================] - 4s 1s/step - loss: 1.6094 - accuracy: 0.1250\n",
      "Epoch 9/20\n",
      "3/3 [==============================] - 4s 1s/step - loss: 1.6094 - accuracy: 0.2188\n",
      "Epoch 10/20\n",
      "3/3 [==============================] - 4s 1s/step - loss: 1.6094 - accuracy: 0.2708\n",
      "Epoch 11/20\n",
      "3/3 [==============================] - 5s 2s/step - loss: 1.6094 - accuracy: 0.1875\n",
      "Epoch 12/20\n",
      "3/3 [==============================] - 4s 1s/step - loss: 1.7437 - accuracy: 0.3125\n",
      "Epoch 13/20\n",
      "3/3 [==============================] - 4s 1s/step - loss: 1.6094 - accuracy: 0.1875\n",
      "Epoch 14/20\n",
      "3/3 [==============================] - 4s 1s/step - loss: 1.6094 - accuracy: 0.1354\n",
      "Epoch 15/20\n",
      "3/3 [==============================] - 4s 1s/step - loss: 1.6094 - accuracy: 0.1979\n",
      "Epoch 16/20\n",
      "3/3 [==============================] - 5s 2s/step - loss: 1.6094 - accuracy: 0.2292\n",
      "Epoch 17/20\n",
      "3/3 [==============================] - 5s 2s/step - loss: 1.6094 - accuracy: 0.2708\n",
      "Epoch 18/20\n",
      "3/3 [==============================] - 4s 1s/step - loss: 1.6094 - accuracy: 0.2396\n",
      "Epoch 19/20\n",
      "3/3 [==============================] - 4s 1s/step - loss: 1.6094 - accuracy: 0.2188\n",
      "Epoch 20/20\n",
      "3/3 [==============================] - 4s 1s/step - loss: 1.6094 - accuracy: 0.2188\n"
     ]
    },
    {
     "data": {
      "text/plain": [
       "<tensorflow.python.keras.callbacks.History at 0x13471df60>"
      ]
     },
     "execution_count": 64,
     "metadata": {},
     "output_type": "execute_result"
    }
   ],
   "source": [
    "model.fit(ds, epochs=20, steps_per_epoch=3)"
   ]
  },
  {
   "cell_type": "markdown",
   "metadata": {
    "colab_type": "text",
    "id": "UMVnoBcG_NlQ"
   },
   "source": [
    "## Performance\n",
    "\n",
    "Note: This section just shows a couple of easy tricks that may help performance. For an in depth guide see [Input Pipeline Performance](https://www.tensorflow.org/guide/performance/datasets).\n",
    "\n",
    "The simple pipeline used above reads each file individually, on each epoch. This is fine for local training on CPU but may not be sufficient for GPU training, and is totally inappropriate for any sort of distributed training."
   ]
  },
  {
   "cell_type": "markdown",
   "metadata": {
    "colab_type": "text",
    "id": "oNmQqgGhLWie"
   },
   "source": [
    "To investigate, first build a simple function to check the performance of our datasets:"
   ]
  },
  {
   "cell_type": "code",
   "execution_count": null,
   "metadata": {
    "colab": {},
    "colab_type": "code",
    "id": "_gFVe1rp_MYr"
   },
   "outputs": [],
   "source": [
    "import time\n",
    "\n",
    "def timeit(ds, batches=2*steps_per_epoch+1):\n",
    "  overall_start = time.time()\n",
    "  # Fetch a single batch to prime the pipeline (fill the shuffle buffer),\n",
    "  # before starting the timer\n",
    "  it = iter(ds.take(batches+1))\n",
    "  next(it)\n",
    "\n",
    "  start = time.time()\n",
    "  for i,(images,labels) in enumerate(it):\n",
    "    if i%10 == 0:\n",
    "      print('.',end='')\n",
    "  print()\n",
    "  end = time.time()\n",
    "\n",
    "  duration = end-start\n",
    "  print(\"{} batches: {} s\".format(batches, duration))\n",
    "  print(\"{:0.5f} Images/s\".format(BATCH_SIZE*batches/duration))\n",
    "  print(\"Total time: {}s\".format(end-overall_start))"
   ]
  },
  {
   "cell_type": "markdown",
   "metadata": {
    "colab_type": "text",
    "id": "TYiOr4vdLcNX"
   },
   "source": [
    "The performance of the current dataset is:"
   ]
  },
  {
   "cell_type": "code",
   "execution_count": null,
   "metadata": {
    "colab": {},
    "colab_type": "code",
    "id": "ZDxLwMJOReVe"
   },
   "outputs": [],
   "source": [
    "ds = image_label_ds.apply(\n",
    "  tf.data.experimental.shuffle_and_repeat(buffer_size=image_count))\n",
    "ds = ds.batch(BATCH_SIZE).prefetch(buffer_size=AUTOTUNE)\n",
    "ds"
   ]
  },
  {
   "cell_type": "code",
   "execution_count": null,
   "metadata": {
    "colab": {},
    "colab_type": "code",
    "id": "IjouTJadRxyp"
   },
   "outputs": [],
   "source": [
    "timeit(ds)"
   ]
  },
  {
   "cell_type": "markdown",
   "metadata": {
    "colab_type": "text",
    "id": "HsLlXMO7EWBR"
   },
   "source": [
    "### Cache"
   ]
  },
  {
   "cell_type": "markdown",
   "metadata": {
    "colab_type": "text",
    "id": "lV1NOn2zE2lR"
   },
   "source": [
    "Use `tf.data.Dataset.cache` to easily cache calculations across epochs. This is especially performant if the dataq fits in memory.\n",
    "\n",
    "Here the images are cached, after being pre-precessed (decoded and resized):"
   ]
  },
  {
   "cell_type": "code",
   "execution_count": null,
   "metadata": {
    "colab": {},
    "colab_type": "code",
    "id": "qj_U09xpDvOg"
   },
   "outputs": [],
   "source": [
    "ds = image_label_ds.cache()\n",
    "ds = ds.apply(\n",
    "  tf.data.experimental.shuffle_and_repeat(buffer_size=image_count))\n",
    "ds = ds.batch(BATCH_SIZE).prefetch(buffer_size=AUTOTUNE)\n",
    "ds"
   ]
  },
  {
   "cell_type": "code",
   "execution_count": null,
   "metadata": {
    "colab": {},
    "colab_type": "code",
    "id": "rdxpvQ7VEo3y"
   },
   "outputs": [],
   "source": [
    "timeit(ds)"
   ]
  },
  {
   "cell_type": "markdown",
   "metadata": {
    "colab_type": "text",
    "id": "usIv7MqqZQps"
   },
   "source": [
    "One disadvantage to using an in memory cache is that the cache must be rebuilt on each run, giving the same startup delay each time the dataset is started:"
   ]
  },
  {
   "cell_type": "code",
   "execution_count": null,
   "metadata": {
    "colab": {},
    "colab_type": "code",
    "id": "eKX6ergKb_xd"
   },
   "outputs": [],
   "source": [
    "timeit(ds)"
   ]
  },
  {
   "cell_type": "markdown",
   "metadata": {
    "colab_type": "text",
    "id": "jUzpG4lYNkN-"
   },
   "source": [
    "If the data doesn't fit in memory, use a cache file:"
   ]
  },
  {
   "cell_type": "code",
   "execution_count": null,
   "metadata": {
    "colab": {},
    "colab_type": "code",
    "id": "vIvF8K4GMq0g"
   },
   "outputs": [],
   "source": [
    "ds = image_label_ds.cache(filename='./cache.tf-data')\n",
    "ds = ds.apply(\n",
    "  tf.data.experimental.shuffle_and_repeat(buffer_size=image_count))\n",
    "ds = ds.batch(BATCH_SIZE).prefetch(1)\n",
    "ds"
   ]
  },
  {
   "cell_type": "code",
   "execution_count": null,
   "metadata": {
    "colab": {},
    "colab_type": "code",
    "id": "eTIj6IOmM4yA"
   },
   "outputs": [],
   "source": [
    "timeit(ds)"
   ]
  },
  {
   "cell_type": "markdown",
   "metadata": {
    "colab_type": "text",
    "id": "qqo3dyB0Z4t2"
   },
   "source": [
    "The cache file also has the advantage that it can be used to quickly restart the dataset without rebuilding the cache. Note how much faster it is the second time:"
   ]
  },
  {
   "cell_type": "code",
   "execution_count": null,
   "metadata": {
    "colab": {},
    "colab_type": "code",
    "id": "hZhVdR8MbaUj"
   },
   "outputs": [],
   "source": [
    "timeit(ds)"
   ]
  },
  {
   "cell_type": "markdown",
   "metadata": {
    "colab_type": "text",
    "id": "WqOVlf8tFrDU"
   },
   "source": [
    "### TFRecord File"
   ]
  },
  {
   "cell_type": "markdown",
   "metadata": {
    "colab_type": "text",
    "id": "y1llOTwWFzmR"
   },
   "source": [
    "#### Raw image data\n",
    "\n",
    "TFRecord files are a simple format to store a sequence of binary blobs. By packing multiple examples into the same file, TensorFlow is able to read multiple examples at once, which is especially important for performance when using a remote storage service such as GCS.\n",
    "\n",
    "First, build a TFRecord file from the raw image data:"
   ]
  },
  {
   "cell_type": "code",
   "execution_count": null,
   "metadata": {
    "colab": {},
    "colab_type": "code",
    "id": "EqtARqKuHQLu"
   },
   "outputs": [],
   "source": [
    "image_ds = tf.data.Dataset.from_tensor_slices(all_image_paths).map(tf.read_file)\n",
    "tfrec = tf.data.experimental.TFRecordWriter('images.tfrec')\n",
    "tfrec.write(image_ds)"
   ]
  },
  {
   "cell_type": "markdown",
   "metadata": {
    "colab_type": "text",
    "id": "flR2GXWFKcO1"
   },
   "source": [
    "Next build a dataset that reads from the TFRecord file and decodes/reformats the images using the `preprocess_image` function we defined earlier."
   ]
  },
  {
   "cell_type": "code",
   "execution_count": null,
   "metadata": {
    "colab": {},
    "colab_type": "code",
    "id": "j9PVUL2SFufn"
   },
   "outputs": [],
   "source": [
    "image_ds = tf.data.TFRecordDataset('images.tfrec').map(preprocess_image)"
   ]
  },
  {
   "cell_type": "markdown",
   "metadata": {
    "colab_type": "text",
    "id": "cRp1eZDRKzyN"
   },
   "source": [
    "Zip that with the labels dataset we defined earlier, to get the expected `(image,label)` pairs."
   ]
  },
  {
   "cell_type": "code",
   "execution_count": null,
   "metadata": {
    "colab": {},
    "colab_type": "code",
    "id": "7XI_nDU2KuhS"
   },
   "outputs": [],
   "source": [
    "ds = tf.data.Dataset.zip((image_ds, label_ds))\n",
    "ds = ds.apply(\n",
    "  tf.data.experimental.shuffle_and_repeat(buffer_size=image_count))\n",
    "ds=ds.batch(BATCH_SIZE).prefetch(AUTOTUNE)\n",
    "ds"
   ]
  },
  {
   "cell_type": "code",
   "execution_count": null,
   "metadata": {
    "colab": {},
    "colab_type": "code",
    "id": "3ReSapoPK22E"
   },
   "outputs": [],
   "source": [
    "timeit(ds)"
   ]
  },
  {
   "cell_type": "markdown",
   "metadata": {
    "colab_type": "text",
    "id": "wb7VyoKNOMms"
   },
   "source": [
    "This is slower than the `cache` version because we have not cached the preprocessing."
   ]
  },
  {
   "cell_type": "markdown",
   "metadata": {
    "colab_type": "text",
    "id": "NF9W-CTKkM-f"
   },
   "source": [
    "#### Serialized Tensors"
   ]
  },
  {
   "cell_type": "markdown",
   "metadata": {
    "colab_type": "text",
    "id": "J9HzljSPkxt0"
   },
   "source": [
    "To save some preprocessing to the TFRecord file, first make a dataset of the processed images, as before:"
   ]
  },
  {
   "cell_type": "code",
   "execution_count": null,
   "metadata": {
    "colab": {},
    "colab_type": "code",
    "id": "OzS0Azukkjyw"
   },
   "outputs": [],
   "source": [
    "paths_ds = tf.data.Dataset.from_tensor_slices(all_image_paths)\n",
    "image_ds = paths_ds.map(load_and_preprocess_image)\n",
    "image_ds"
   ]
  },
  {
   "cell_type": "markdown",
   "metadata": {
    "colab_type": "text",
    "id": "onWOwLpYlzJQ"
   },
   "source": [
    "Now instead of a dataset of `.jpeg` strings, this is a dataset of tensors.\n",
    "\n",
    "To serialize this to a TFRecord file you first convert the dataset of tensors to a dataset of strings."
   ]
  },
  {
   "cell_type": "code",
   "execution_count": null,
   "metadata": {
    "colab": {},
    "colab_type": "code",
    "id": "xxZSwnRllyf0"
   },
   "outputs": [],
   "source": [
    "ds = image_ds.map(tf.serialize_tensor)\n",
    "ds"
   ]
  },
  {
   "cell_type": "code",
   "execution_count": null,
   "metadata": {
    "colab": {},
    "colab_type": "code",
    "id": "w9N6hJWAkKPC"
   },
   "outputs": [],
   "source": [
    "tfrec = tf.data.experimental.TFRecordWriter('images.tfrec')\n",
    "tfrec.write(ds)"
   ]
  },
  {
   "cell_type": "markdown",
   "metadata": {
    "colab_type": "text",
    "id": "OlFc9dJSmcx0"
   },
   "source": [
    "With the preprocessing cached, data can be loaded from the TFrecord file quite efficiently. Just remember to de-serialized tensor before trying to use it."
   ]
  },
  {
   "cell_type": "code",
   "execution_count": null,
   "metadata": {
    "colab": {},
    "colab_type": "code",
    "id": "BsqFyTBFmSCZ"
   },
   "outputs": [],
   "source": [
    "ds = tf.data.TFRecordDataset('images.tfrec')\n",
    "\n",
    "def parse(x):\n",
    "  result = tf.parse_tensor(x, out_type=tf.float32)\n",
    "  result = tf.reshape(result, [192, 192, 3])\n",
    "  return result\n",
    "\n",
    "ds = ds.map(parse, num_parallel_calls=AUTOTUNE)\n",
    "ds"
   ]
  },
  {
   "cell_type": "markdown",
   "metadata": {
    "colab_type": "text",
    "id": "OPs_sLV9pQg5"
   },
   "source": [
    "Now, add the labels and apply the same standard operations as before:"
   ]
  },
  {
   "cell_type": "code",
   "execution_count": null,
   "metadata": {
    "colab": {},
    "colab_type": "code",
    "id": "XYxBwaLYnGop"
   },
   "outputs": [],
   "source": [
    "ds = tf.data.Dataset.zip((ds, label_ds))\n",
    "ds = ds.apply(\n",
    "  tf.data.experimental.shuffle_and_repeat(buffer_size=image_count))\n",
    "ds=ds.batch(BATCH_SIZE).prefetch(AUTOTUNE)\n",
    "ds"
   ]
  },
  {
   "cell_type": "code",
   "execution_count": null,
   "metadata": {
    "colab": {},
    "colab_type": "code",
    "id": "W8X6RmGan1-P"
   },
   "outputs": [],
   "source": [
    "timeit(ds)"
   ]
  }
 ],
 "metadata": {
  "colab": {
   "collapsed_sections": [],
   "name": "images.ipynb",
   "private_outputs": true,
   "provenance": [],
   "toc_visible": true,
   "version": "0.3.2"
  },
  "kernelspec": {
   "display_name": "Python 3",
   "language": "python",
   "name": "python3"
  },
  "language_info": {
   "codemirror_mode": {
    "name": "ipython",
    "version": 3
   },
   "file_extension": ".py",
   "mimetype": "text/x-python",
   "name": "python",
   "nbconvert_exporter": "python",
   "pygments_lexer": "ipython3",
   "version": "3.6.6"
  }
 },
 "nbformat": 4,
 "nbformat_minor": 2
}
